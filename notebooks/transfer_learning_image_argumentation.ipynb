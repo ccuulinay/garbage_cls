{
 "cells": [
  {
   "cell_type": "code",
   "execution_count": 1,
   "metadata": {},
   "outputs": [
    {
     "data": {
      "text/plain": [
       "'UTF-8'"
      ]
     },
     "execution_count": 1,
     "metadata": {},
     "output_type": "execute_result"
    }
   ],
   "source": [
    "import locale\n",
    "locale.getpreferredencoding()"
   ]
  },
  {
   "cell_type": "code",
   "execution_count": 2,
   "metadata": {},
   "outputs": [],
   "source": [
    "import numpy as np\n",
    "import pandas as pd\n",
    "import pathlib\n",
    "import os\n",
    "import sys\n",
    "import glob\n",
    "import tensorflow as tf\n",
    "# from tensorflow.keras.applications.inception_v3 import preprocess_input\n",
    "import matplotlib.pyplot as plt\n",
    "from sklearn.model_selection import train_test_split\n",
    "from sklearn import preprocessing\n",
    "from IPython.display import Image, display\n",
    "import cv2\n",
    "import json\n",
    "%matplotlib inline"
   ]
  },
  {
   "cell_type": "code",
   "execution_count": 28,
   "metadata": {},
   "outputs": [],
   "source": [
    "def plotImages(images_arr):\n",
    "    fig, axes = plt.subplots(1, 5, figsize=(20,20))\n",
    "    axes = axes.flatten()\n",
    "    for img, ax in zip( images_arr, axes):\n",
    "        ax.imshow(img)\n",
    "        ax.axis('off')\n",
    "    plt.tight_layout()\n",
    "    plt.show()"
   ]
  },
  {
   "cell_type": "code",
   "execution_count": 3,
   "metadata": {},
   "outputs": [
    {
     "name": "stdout",
     "output_type": "stream",
     "text": [
      "2.0.0\n"
     ]
    }
   ],
   "source": [
    "print(tf.__version__)"
   ]
  },
  {
   "cell_type": "markdown",
   "metadata": {},
   "source": [
    "## Preprocess data"
   ]
  },
  {
   "cell_type": "code",
   "execution_count": 4,
   "metadata": {},
   "outputs": [],
   "source": [
    "data_path = \"../data\"\n",
    "city = \"gz\"\n",
    "meta_table = pd.read_csv(\"../_\"+city+\"_filename_dict.csv\")"
   ]
  },
  {
   "cell_type": "code",
   "execution_count": 5,
   "metadata": {},
   "outputs": [],
   "source": [
    "# Filter is_readable_image == False\n",
    "f_table = meta_table[(meta_table['is_readable_image']) & (meta_table['is_completed_image'])].copy()\n",
    "# f_table = f_table[f_table['_format'] != \".gif\"].copy()\n",
    "f_table.reset_index(drop=True, inplace=True)\n",
    "f_table.fillna(\"\", inplace=True)"
   ]
  },
  {
   "cell_type": "code",
   "execution_count": 8,
   "metadata": {},
   "outputs": [],
   "source": [
    "# target_label = \"sample\"\n",
    "target_label = \"level0\"\n",
    "# target_label = \"general_level0\"\n",
    "# filenames = ['../data/' + fname for fname in f_table['_filename'].tolist()]\n",
    "filenames = [data_path + \"/\" +fname for fname in (f_table['city'] + \"/\" +f_table['_filename']).tolist()]\n",
    "lv0_labels = f_table[target_label].tolist()"
   ]
  },
  {
   "cell_type": "code",
   "execution_count": 18,
   "metadata": {},
   "outputs": [],
   "source": [
    "labelencoder = preprocessing.LabelEncoder()\n",
    "lv0_labels_encoded = labelencoder.fit_transform(lv0_labels)\n",
    "lv0_n_classes = len(labelencoder.classes_)\n",
    "level0_label_dict = {k:v for k,v in enumerate(labelencoder.classes_)}\n",
    "level0_labels = list(labelencoder.classes_)"
   ]
  },
  {
   "cell_type": "code",
   "execution_count": 19,
   "metadata": {},
   "outputs": [
    {
     "data": {
      "text/plain": [
       "['人像', '其他垃圾', '厨余垃圾', '可回收物', '有害垃圾']"
      ]
     },
     "execution_count": 19,
     "metadata": {},
     "output_type": "execute_result"
    }
   ],
   "source": [
    "level0_labels"
   ]
  },
  {
   "cell_type": "code",
   "execution_count": 9,
   "metadata": {},
   "outputs": [],
   "source": [
    "image_df = pd.DataFrame({\"image_file\": filenames, \"class\": lv0_labels})"
   ]
  },
  {
   "cell_type": "code",
   "execution_count": 72,
   "metadata": {},
   "outputs": [],
   "source": [
    "train_df, val_df, test_df = np.split(image_df.sample(frac=1), [int(.8*len(image_df)), int(.9*len(image_df))])"
   ]
  },
  {
   "cell_type": "code",
   "execution_count": 73,
   "metadata": {},
   "outputs": [
    {
     "data": {
      "text/html": [
       "<div>\n",
       "<style scoped>\n",
       "    .dataframe tbody tr th:only-of-type {\n",
       "        vertical-align: middle;\n",
       "    }\n",
       "\n",
       "    .dataframe tbody tr th {\n",
       "        vertical-align: top;\n",
       "    }\n",
       "\n",
       "    .dataframe thead th {\n",
       "        text-align: right;\n",
       "    }\n",
       "</style>\n",
       "<table border=\"1\" class=\"dataframe\">\n",
       "  <thead>\n",
       "    <tr style=\"text-align: right;\">\n",
       "      <th></th>\n",
       "      <th>image_file</th>\n",
       "      <th>class</th>\n",
       "    </tr>\n",
       "  </thead>\n",
       "  <tbody>\n",
       "    <tr>\n",
       "      <td>1045</td>\n",
       "      <td>../data/gz/厨余垃圾_肉蛋食品_豆制品_44.jpg</td>\n",
       "      <td>厨余垃圾</td>\n",
       "    </tr>\n",
       "    <tr>\n",
       "      <td>5036</td>\n",
       "      <td>../data/gz/其他垃圾_水果硬壳_粽子叶_25.jpg</td>\n",
       "      <td>其他垃圾</td>\n",
       "    </tr>\n",
       "    <tr>\n",
       "      <td>5007</td>\n",
       "      <td>../data/gz/人像_selfie_697.jpg</td>\n",
       "      <td>人像</td>\n",
       "    </tr>\n",
       "    <tr>\n",
       "      <td>4576</td>\n",
       "      <td>../data/gz/人像_selfie_952.jpg</td>\n",
       "      <td>人像</td>\n",
       "    </tr>\n",
       "    <tr>\n",
       "      <td>6</td>\n",
       "      <td>../data/gz/厨余垃圾_水培植物_水培植物_15.jpg</td>\n",
       "      <td>厨余垃圾</td>\n",
       "    </tr>\n",
       "  </tbody>\n",
       "</table>\n",
       "</div>"
      ],
      "text/plain": [
       "                            image_file class\n",
       "1045   ../data/gz/厨余垃圾_肉蛋食品_豆制品_44.jpg  厨余垃圾\n",
       "5036   ../data/gz/其他垃圾_水果硬壳_粽子叶_25.jpg  其他垃圾\n",
       "5007      ../data/gz/人像_selfie_697.jpg    人像\n",
       "4576      ../data/gz/人像_selfie_952.jpg    人像\n",
       "6     ../data/gz/厨余垃圾_水培植物_水培植物_15.jpg  厨余垃圾"
      ]
     },
     "execution_count": 73,
     "metadata": {},
     "output_type": "execute_result"
    }
   ],
   "source": [
    "train_df.head()"
   ]
  },
  {
   "cell_type": "markdown",
   "metadata": {},
   "source": [
    "### HyParam"
   ]
  },
  {
   "cell_type": "code",
   "execution_count": 21,
   "metadata": {},
   "outputs": [],
   "source": [
    "# basenetwork = \"inception\"\n",
    "basenetwork = \"mobilenet\""
   ]
  },
  {
   "cell_type": "code",
   "execution_count": 142,
   "metadata": {},
   "outputs": [
    {
     "name": "stdout",
     "output_type": "stream",
     "text": [
      "224 16\n"
     ]
    }
   ],
   "source": [
    "# Inception V3 299\n",
    "if basenetwork == \"inception\":\n",
    "    IMAGE_SIZE = 299\n",
    "elif basenetwork == \"mobilenet\":\n",
    "    IMAGE_SIZE = 224\n",
    "# Mobilenet use 128\n",
    "# IMAGE_SIZE = 128\n",
    "BATCH_SIZE = 16\n",
    "print(IMAGE_SIZE, BATCH_SIZE)"
   ]
  },
  {
   "cell_type": "markdown",
   "metadata": {},
   "source": [
    "### Data pipeline"
   ]
  },
  {
   "cell_type": "code",
   "execution_count": 143,
   "metadata": {},
   "outputs": [],
   "source": [
    "image_gen = tf.keras.preprocessing.image.ImageDataGenerator(\n",
    "                    rescale=1./255,\n",
    "                    rotation_range=45,\n",
    "                    width_shift_range=.15,\n",
    "                    height_shift_range=.15,\n",
    "                    horizontal_flip=True,\n",
    "                    zoom_range=0.5\n",
    "                    )\n",
    "\n",
    "image_gen_train = tf.keras.preprocessing.image.ImageDataGenerator(\n",
    "                    rescale=1./255,\n",
    "                    rotation_range=45,\n",
    "                    width_shift_range=.15,\n",
    "                    height_shift_range=.15,\n",
    "                    horizontal_flip=True,\n",
    "                    zoom_range=0.5\n",
    "                    )\n",
    "\n",
    "image_gen_val = tf.keras.preprocessing.image.ImageDataGenerator(rescale=1./255)"
   ]
  },
  {
   "cell_type": "code",
   "execution_count": 144,
   "metadata": {},
   "outputs": [
    {
     "name": "stdout",
     "output_type": "stream",
     "text": [
      "Found 6403 validated image filenames belonging to 5 classes.\n",
      "Found 800 validated image filenames belonging to 5 classes.\n"
     ]
    }
   ],
   "source": [
    "train_data_gen = image_gen_train.flow_from_dataframe(train_df\n",
    "                                        , x_col='image_file'\n",
    "                                        , y_col='class'\n",
    "                                        , batch_size=BATCH_SIZE\n",
    "                                        , target_size=(IMAGE_SIZE, IMAGE_SIZE)\n",
    "                                        , classes=level0_labels\n",
    "                                        , class_mode='categorical')\n",
    "val_data_gen = image_gen_val.flow_from_dataframe(val_df\n",
    "                                        , x_col='image_file'\n",
    "                                        , y_col='class'\n",
    "                                        , batch_size=BATCH_SIZE\n",
    "                                        , target_size=(IMAGE_SIZE, IMAGE_SIZE)\n",
    "                                        , classes=level0_labels\n",
    "                                        , class_mode='categorical')"
   ]
  },
  {
   "cell_type": "code",
   "execution_count": 145,
   "metadata": {},
   "outputs": [],
   "source": [
    "# augmented_images = [train_data_gen[0][0][0] for i in range(5)]\n",
    "# level0_labels\n",
    "# len(lv0_labels)"
   ]
  },
  {
   "cell_type": "code",
   "execution_count": 146,
   "metadata": {},
   "outputs": [],
   "source": [
    "# plotImages(augmented_images)"
   ]
  },
  {
   "cell_type": "code",
   "execution_count": 147,
   "metadata": {},
   "outputs": [],
   "source": [
    "# a = [train_data_gen for i in range(5)]\n",
    "# t = a[0]"
   ]
  },
  {
   "cell_type": "code",
   "execution_count": 148,
   "metadata": {},
   "outputs": [],
   "source": [
    "# t.next()[1].shape"
   ]
  },
  {
   "cell_type": "markdown",
   "metadata": {},
   "source": [
    "## Define the model"
   ]
  },
  {
   "cell_type": "code",
   "execution_count": 149,
   "metadata": {},
   "outputs": [],
   "source": [
    "FINE_TUNE = True"
   ]
  },
  {
   "cell_type": "code",
   "execution_count": 150,
   "metadata": {},
   "outputs": [],
   "source": [
    "# Base model with InceptionV3\n",
    "IMG_SHAPE = (IMAGE_SIZE, IMAGE_SIZE, 3)\n",
    "\n",
    "if basenetwork == \"inception\":\n",
    "    base_model = tf.keras.applications.InceptionV3(input_shape=IMG_SHAPE,\n",
    "                                               include_top=False, \n",
    "                                               weights='imagenet')\n",
    "elif basenetwork == \"mobilenet\":\n",
    "    base_model = tf.keras.applications.MobileNetV2(input_shape=IMG_SHAPE,\n",
    "                                               include_top=False, \n",
    "                                               weights='imagenet')\n",
    "\n",
    "\n",
    "\n",
    "if FINE_TUNE:\n",
    "    # Unfreeze all layers of MobileNetV2\n",
    "    base_model.trainable = True\n",
    "\n",
    "    # Refreeze layers until the layers we want to fine-tune\n",
    "    for layer in base_model.layers[:75]:\n",
    "        layer.trainable =  False\n",
    "else:\n",
    "    base_model.trainable = False"
   ]
  },
  {
   "cell_type": "code",
   "execution_count": 204,
   "metadata": {},
   "outputs": [
    {
     "name": "stdout",
     "output_type": "stream",
     "text": [
      "Model: \"sequential_5\"\n",
      "_________________________________________________________________\n",
      "Layer (type)                 Output Shape              Param #   \n",
      "=================================================================\n",
      "mobilenetv2_1.00_224 (Model) (None, 7, 7, 1280)        2257984   \n",
      "_________________________________________________________________\n",
      "global_average_pooling2d_5 ( (None, 1280)              0         \n",
      "_________________________________________________________________\n",
      "dropout_5 (Dropout)          (None, 1280)              0         \n",
      "_________________________________________________________________\n",
      "dense_5 (Dense)              (None, 5)                 6405      \n",
      "=================================================================\n",
      "Total params: 2,264,389\n",
      "Trainable params: 2,074,117\n",
      "Non-trainable params: 190,272\n",
      "_________________________________________________________________\n"
     ]
    }
   ],
   "source": [
    "maxpool_layer = tf.keras.layers.GlobalMaxPooling2D()\n",
    "avgpool_layer = tf.keras.layers.GlobalAveragePooling2D()\n",
    "# dense_layer = tf.keras.layers.Dense(1024, activation='relu')\n",
    "dropout_layer = tf.keras.layers.Dropout(0.5)\n",
    "prediction_layer = tf.keras.layers.Dense(lv0_n_classes, activation='softmax')\n",
    "\n",
    "learning_rate = 0.0001\n",
    "\n",
    "model = tf.keras.Sequential([\n",
    "    base_model\n",
    "    # mobilenetV2\n",
    "    , avgpool_layer\n",
    "    # , maxpool_layer\n",
    "    # , dense_layer\n",
    "    , dropout_layer\n",
    "    , prediction_layer\n",
    "])\n",
    "\n",
    "# Now the optimizer is under tf.keras.\n",
    "model.compile(\n",
    "    optimizer=tf.keras.optimizers.Adam(lr=learning_rate)\n",
    "    # optimizer=tf.keras.optimizers.SGD(lr=learning_rate, momentum=0.9)\n",
    "    ## Onehot encoding use categorical_crossentropy\n",
    "    # , loss='categorical_crossentropy'\n",
    "    ## Integer encoding, use sparse_categorical_crossentropy\n",
    "    # , loss='sparse_categorical_crossentropy'\n",
    "    , loss='categorical_crossentropy'\n",
    "    , metrics=['accuracy'])\n",
    "\n",
    "model.summary()"
   ]
  },
  {
   "cell_type": "markdown",
   "metadata": {},
   "source": [
    "## Train model"
   ]
  },
  {
   "cell_type": "code",
   "execution_count": 205,
   "metadata": {},
   "outputs": [],
   "source": [
    "num_epochs = 15\n",
    "steps_per_epoch = round(len(train_df))//BATCH_SIZE\n",
    "# val_steps = 20\n",
    "val_steps = round(len(val_df))//BATCH_SIZE\n",
    "count = 0"
   ]
  },
  {
   "cell_type": "code",
   "execution_count": 206,
   "metadata": {},
   "outputs": [
    {
     "name": "stdout",
     "output_type": "stream",
     "text": [
      "Epoch 1/15\n",
      " 75/404 [====>.........................] - ETA: 1:16 - loss: 0.8035 - accuracy: 0.7192"
     ]
    },
    {
     "name": "stderr",
     "output_type": "stream",
     "text": [
      "/home/ccuulinay/anaconda3/envs/tf2_0/lib/python3.6/site-packages/PIL/Image.py:993: UserWarning: Palette images with Transparency expressed in bytes should be converted to RGBA images\n",
      "  \"Palette images with Transparency expressed in bytes should be \"\n"
     ]
    },
    {
     "name": "stdout",
     "output_type": "stream",
     "text": [
      "404/404 [==============================] - 97s 241ms/step - loss: 0.4617 - accuracy: 0.8365 - val_loss: 1.4968 - val_accuracy: 0.5938\n",
      "Epoch 2/15\n",
      "404/404 [==============================] - 97s 240ms/step - loss: 0.3119 - accuracy: 0.8892 - val_loss: 1.5043 - val_accuracy: 0.6400\n",
      "Epoch 3/15\n",
      "404/404 [==============================] - 97s 240ms/step - loss: 0.2920 - accuracy: 0.8929 - val_loss: 1.5333 - val_accuracy: 0.6363\n",
      "Epoch 4/15\n",
      "404/404 [==============================] - 97s 241ms/step - loss: 0.2857 - accuracy: 0.9002 - val_loss: 1.3294 - val_accuracy: 0.6775\n",
      "Epoch 5/15\n",
      "404/404 [==============================] - 98s 241ms/step - loss: 0.2682 - accuracy: 0.9014 - val_loss: 1.2365 - val_accuracy: 0.6812\n",
      "Epoch 6/15\n",
      "404/404 [==============================] - 98s 242ms/step - loss: 0.2597 - accuracy: 0.9071 - val_loss: 1.4317 - val_accuracy: 0.6650\n",
      "Epoch 7/15\n",
      "404/404 [==============================] - 98s 242ms/step - loss: 0.2452 - accuracy: 0.9120 - val_loss: 1.8191 - val_accuracy: 0.6263\n",
      "Epoch 8/15\n",
      "404/404 [==============================] - 97s 241ms/step - loss: 0.2472 - accuracy: 0.9115 - val_loss: 1.5342 - val_accuracy: 0.6575\n",
      "Epoch 9/15\n",
      "404/404 [==============================] - 98s 242ms/step - loss: 0.2401 - accuracy: 0.9154 - val_loss: 1.8585 - val_accuracy: 0.6313\n",
      "Epoch 10/15\n",
      "404/404 [==============================] - 98s 242ms/step - loss: 0.2188 - accuracy: 0.9197 - val_loss: 1.5231 - val_accuracy: 0.6550\n",
      "Epoch 11/15\n",
      "404/404 [==============================] - 97s 241ms/step - loss: 0.2168 - accuracy: 0.9220 - val_loss: 1.3478 - val_accuracy: 0.6963\n",
      "Epoch 12/15\n",
      "404/404 [==============================] - 98s 242ms/step - loss: 0.2155 - accuracy: 0.9257 - val_loss: 1.6234 - val_accuracy: 0.6212\n",
      "Epoch 13/15\n",
      "404/404 [==============================] - 98s 242ms/step - loss: 0.2061 - accuracy: 0.9270 - val_loss: 1.4872 - val_accuracy: 0.6625\n",
      "Epoch 14/15\n",
      "404/404 [==============================] - 98s 242ms/step - loss: 0.1945 - accuracy: 0.9335 - val_loss: 1.5372 - val_accuracy: 0.6762\n",
      "Epoch 15/15\n",
      "404/404 [==============================] - 98s 241ms/step - loss: 0.1911 - accuracy: 0.9285 - val_loss: 1.5645 - val_accuracy: 0.6250\n"
     ]
    }
   ],
   "source": [
    "count += 1\n",
    "history = model.fit_generator(\n",
    "    train_data_gen,\n",
    "    epochs=num_epochs,\n",
    "    steps_per_epoch = steps_per_epoch,\n",
    "    validation_data=val_data_gen,\n",
    "    validation_steps=val_steps\n",
    ")\n",
    "\n"
   ]
  },
  {
   "cell_type": "markdown",
   "metadata": {},
   "source": [
    "## Take a look"
   ]
  },
  {
   "cell_type": "code",
   "execution_count": 207,
   "metadata": {},
   "outputs": [
    {
     "data": {
      "image/png": "[encoded data removed]",
      "text/plain": [
       "<Figure size 576x576 with 2 Axes>"
      ]
     },
     "metadata": {
      "needs_background": "light"
     },
     "output_type": "display_data"
    }
   ],
   "source": [
    "acc = history.history['accuracy']\n",
    "val_acc = history.history['val_accuracy']\n",
    "\n",
    "loss = history.history['loss']\n",
    "val_loss = history.history['val_loss']\n",
    "\n",
    "plt.figure(figsize=(8, 8))\n",
    "plt.subplot(2, 1, 1)\n",
    "plt.plot(acc, label='Training Accuracy')\n",
    "plt.plot(val_acc, label='Validation Accuracy')\n",
    "plt.legend(loc='lower right')\n",
    "plt.ylabel('Accuracy')\n",
    "plt.title('Training and Validation Accuracy')\n",
    "\n",
    "plt.subplot(2, 1, 2)\n",
    "plt.plot(loss, label='Training Loss')\n",
    "plt.plot(val_loss, label='Validation Loss')\n",
    "plt.legend(loc='upper right')\n",
    "plt.ylabel('Sparse Cross Entropy')\n",
    "plt.title('Training and Validation Loss')\n",
    "plt.xlabel('epoch')\n",
    "plt.show()"
   ]
  },
  {
   "cell_type": "markdown",
   "metadata": {},
   "source": [
    "## Test"
   ]
  },
  {
   "cell_type": "code",
   "execution_count": 208,
   "metadata": {},
   "outputs": [
    {
     "name": "stdout",
     "output_type": "stream",
     "text": [
      "Found 810 non-validated image filenames.\n"
     ]
    }
   ],
   "source": [
    "image_gen_test = tf.keras.preprocessing.image.ImageDataGenerator(rescale=1./255)\n",
    "test_data_gen = image_gen_test.flow_from_dataframe(\n",
    "                                        dataframe=test_df\n",
    "                                        , x_col='image_file'\n",
    "                                        , y_col=None\n",
    "                                        , batch_size=BATCH_SIZE\n",
    "                                        , target_size=(IMAGE_SIZE, IMAGE_SIZE)\n",
    "                                        , shuffle=False\n",
    "                                        , class_mode=None\n",
    "                                        , validate_filenames=False\n",
    ")"
   ]
  },
  {
   "cell_type": "code",
   "execution_count": 209,
   "metadata": {},
   "outputs": [
    {
     "name": "stdout",
     "output_type": "stream",
     "text": [
      "50/50 [==============================] - 5s 102ms/step\n"
     ]
    }
   ],
   "source": [
    "test_data_gen.reset()\n",
    "STEP_SIZE_TEST = test_data_gen.n//test_data_gen.batch_size\n",
    "pred = model.predict_generator(test_data_gen, steps=STEP_SIZE_TEST, verbose=1)"
   ]
  },
  {
   "cell_type": "code",
   "execution_count": 210,
   "metadata": {},
   "outputs": [],
   "source": [
    "predicted_class_indices=np.argmax(pred,axis=1)"
   ]
  },
  {
   "cell_type": "code",
   "execution_count": 211,
   "metadata": {},
   "outputs": [],
   "source": [
    "labels = (train_data_gen.class_indices)\n",
    "labels = dict((v,k) for k,v in labels.items())\n",
    "predictions = [labels[k] for k in predicted_class_indices]"
   ]
  },
  {
   "cell_type": "code",
   "execution_count": null,
   "metadata": {},
   "outputs": [],
   "source": []
  },
  {
   "cell_type": "code",
   "execution_count": 214,
   "metadata": {},
   "outputs": [
    {
     "data": {
      "text/plain": [
       "800"
      ]
     },
     "execution_count": 214,
     "metadata": {},
     "output_type": "execute_result"
    }
   ],
   "source": [
    "len(predictions)"
   ]
  },
  {
   "cell_type": "code",
   "execution_count": 203,
   "metadata": {},
   "outputs": [
    {
     "data": {
      "text/html": [
       "<div>\n",
       "<style scoped>\n",
       "    .dataframe tbody tr th:only-of-type {\n",
       "        vertical-align: middle;\n",
       "    }\n",
       "\n",
       "    .dataframe tbody tr th {\n",
       "        vertical-align: top;\n",
       "    }\n",
       "\n",
       "    .dataframe thead th {\n",
       "        text-align: right;\n",
       "    }\n",
       "</style>\n",
       "<table border=\"1\" class=\"dataframe\">\n",
       "  <thead>\n",
       "    <tr style=\"text-align: right;\">\n",
       "      <th></th>\n",
       "      <th>image_file</th>\n",
       "      <th>class</th>\n",
       "    </tr>\n",
       "  </thead>\n",
       "  <tbody>\n",
       "    <tr>\n",
       "      <td>6562</td>\n",
       "      <td>../data/gz/可回收物_废纸类_报刊杂志_10.jpg!ww700</td>\n",
       "      <td>可回收物</td>\n",
       "    </tr>\n",
       "    <tr>\n",
       "      <td>2535</td>\n",
       "      <td>../data/gz/有害垃圾_废胶片及废相纸类_废相纸类_18.aspx</td>\n",
       "      <td>有害垃圾</td>\n",
       "    </tr>\n",
       "    <tr>\n",
       "      <td>7644</td>\n",
       "      <td>../data/gz/其他垃圾_废弃日用品_眼镜_47.jpg@768w_1l</td>\n",
       "      <td>其他垃圾</td>\n",
       "    </tr>\n",
       "    <tr>\n",
       "      <td>5438</td>\n",
       "      <td>../data/gz/其他垃圾_废弃日用品_木竹砧板_24.png@!800_w_db</td>\n",
       "      <td>其他垃圾</td>\n",
       "    </tr>\n",
       "    <tr>\n",
       "      <td>2894</td>\n",
       "      <td>../data/gz/厨余垃圾_糖果糕点_糕饼_5.jpg!560x350</td>\n",
       "      <td>厨余垃圾</td>\n",
       "    </tr>\n",
       "    <tr>\n",
       "      <td>483</td>\n",
       "      <td>../data/gz/可回收物_废玻璃_酒瓶_50.jpg-1440</td>\n",
       "      <td>可回收物</td>\n",
       "    </tr>\n",
       "    <tr>\n",
       "      <td>4975</td>\n",
       "      <td>../data/gz/其他垃圾_废弃日用品_LED灯_38.jpg-1440</td>\n",
       "      <td>其他垃圾</td>\n",
       "    </tr>\n",
       "    <tr>\n",
       "      <td>921</td>\n",
       "      <td>../data/gz/厨余垃圾_肉蛋食品_肉蛋食品_54.jpg!ww700</td>\n",
       "      <td>厨余垃圾</td>\n",
       "    </tr>\n",
       "    <tr>\n",
       "      <td>3203</td>\n",
       "      <td>../data/gz/有害垃圾_废胶片及废相纸类_废胶片_20.aspx</td>\n",
       "      <td>有害垃圾</td>\n",
       "    </tr>\n",
       "    <tr>\n",
       "      <td>899</td>\n",
       "      <td>../data/gz/有害垃圾_废化学品类_染发剂_14.png!sy</td>\n",
       "      <td>有害垃圾</td>\n",
       "    </tr>\n",
       "    <tr>\n",
       "      <td>3754</td>\n",
       "      <td>../data/gz/可回收物_废纸类_台历_34.htm</td>\n",
       "      <td>可回收物</td>\n",
       "    </tr>\n",
       "    <tr>\n",
       "      <td>6382</td>\n",
       "      <td>../data/gz/其他垃圾_废旧衣服及其他纺织品_旧毛巾_21.gif</td>\n",
       "      <td>其他垃圾</td>\n",
       "    </tr>\n",
       "  </tbody>\n",
       "</table>\n",
       "</div>"
      ],
      "text/plain": [
       "                                       image_file class\n",
       "6562        ../data/gz/可回收物_废纸类_报刊杂志_10.jpg!ww700  可回收物\n",
       "2535        ../data/gz/有害垃圾_废胶片及废相纸类_废相纸类_18.aspx  有害垃圾\n",
       "7644      ../data/gz/其他垃圾_废弃日用品_眼镜_47.jpg@768w_1l  其他垃圾\n",
       "5438  ../data/gz/其他垃圾_废弃日用品_木竹砧板_24.png@!800_w_db  其他垃圾\n",
       "2894        ../data/gz/厨余垃圾_糖果糕点_糕饼_5.jpg!560x350  厨余垃圾\n",
       "483            ../data/gz/可回收物_废玻璃_酒瓶_50.jpg-1440  可回收物\n",
       "4975       ../data/gz/其他垃圾_废弃日用品_LED灯_38.jpg-1440  其他垃圾\n",
       "921        ../data/gz/厨余垃圾_肉蛋食品_肉蛋食品_54.jpg!ww700  厨余垃圾\n",
       "3203         ../data/gz/有害垃圾_废胶片及废相纸类_废胶片_20.aspx  有害垃圾\n",
       "899           ../data/gz/有害垃圾_废化学品类_染发剂_14.png!sy  有害垃圾\n",
       "3754                ../data/gz/可回收物_废纸类_台历_34.htm  可回收物\n",
       "6382        ../data/gz/其他垃圾_废旧衣服及其他纺织品_旧毛巾_21.gif  其他垃圾"
      ]
     },
     "execution_count": 203,
     "metadata": {},
     "output_type": "execute_result"
    }
   ],
   "source": [
    "test_df[\n",
    "    ~((test_df['image_file'].str.endswith('png'))\n",
    "    | (test_df['image_file'].str.endswith('jpg'))\n",
    "    | (test_df['image_file'].str.endswith('jpeg'))\n",
    "    | (test_df['image_file'].str.endswith('bmp'))\n",
    "    | (test_df['image_file'].str.endswith('tif'))\n",
    "    | (test_df['image_file'].str.endswith('tiff')))\n",
    "        \n",
    "       ]"
   ]
  },
  {
   "cell_type": "code",
   "execution_count": null,
   "metadata": {},
   "outputs": [],
   "source": []
  }
 ],
 "metadata": {
  "kernelspec": {
   "display_name": "Python 3",
   "language": "python",
   "name": "python3"
  },
  "language_info": {
   "codemirror_mode": {
    "name": "ipython",
    "version": 3
   },
   "file_extension": ".py",
   "mimetype": "text/x-python",
   "name": "python",
   "nbconvert_exporter": "python",
   "pygments_lexer": "ipython3",
   "version": "3.6.5"
  }
 },
 "nbformat": 4,
 "nbformat_minor": 2
}
