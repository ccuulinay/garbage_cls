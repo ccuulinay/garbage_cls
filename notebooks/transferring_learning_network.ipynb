{
 "cells": [
  {
   "cell_type": "code",
   "execution_count": 2,
   "metadata": {
    "scrolled": true
   },
   "outputs": [],
   "source": [
    "import pandas as pd\n",
    "import numpy as np\n",
    "import pathlib\n",
    "import os\n",
    "import sys\n",
    "import glob\n",
    "import tensorflow as tf\n",
    "# from tensorflow.keras.applications.inception_v3 import preprocess_input\n",
    "import matplotlib.pyplot as plt\n",
    "from sklearn.model_selection import train_test_split\n",
    "from sklearn import preprocessing\n",
    "from IPython.display import Image, display\n",
    "import cv2\n",
    "import json\n",
    "%matplotlib inline"
   ]
  },
  {
   "cell_type": "code",
   "execution_count": 3,
   "metadata": {},
   "outputs": [
    {
     "name": "stdout",
     "output_type": "stream",
     "text": [
      "2.0.0-alpha0\n"
     ]
    }
   ],
   "source": [
    "print(tf.__version__)"
   ]
  },
  {
   "cell_type": "markdown",
   "metadata": {},
   "source": [
    "## Preprocess data"
   ]
  },
  {
   "cell_type": "code",
   "execution_count": 4,
   "metadata": {},
   "outputs": [],
   "source": [
    "data_path = \"../data\"\n",
    "data_p = pathlib.Path(data_path)"
   ]
  },
  {
   "cell_type": "code",
   "execution_count": 5,
   "metadata": {},
   "outputs": [],
   "source": [
    "meta_table = pd.read_csv(\"../_filename_dict.csv\")"
   ]
  },
  {
   "cell_type": "code",
   "execution_count": 6,
   "metadata": {},
   "outputs": [],
   "source": [
    "# Filter is_readable_image == False\n",
    "f_table = meta_table[(meta_table['is_readable_image']) & (meta_table['is_completed_image'])].copy()\n",
    "# f_table = f_table[f_table['_format'] != \".gif\"].copy()\n",
    "f_table.reset_index(drop=True, inplace=True)\n",
    "f_table.fillna(\"\", inplace=True)"
   ]
  },
  {
   "cell_type": "code",
   "execution_count": null,
   "metadata": {},
   "outputs": [],
   "source": []
  },
  {
   "cell_type": "code",
   "execution_count": 7,
   "metadata": {},
   "outputs": [
    {
     "data": {
      "text/plain": [
       "电池      100\n",
       "皮鞋      100\n",
       "油桶       99\n",
       "糖果       99\n",
       "书本       99\n",
       "       ... \n",
       "餐巾纸      54\n",
       "硬果壳      53\n",
       "玉米衣      53\n",
       "尼龙制品     47\n",
       "家养植物      7\n",
       "Name: sample, Length: 154, dtype: int64"
      ]
     },
     "execution_count": 7,
     "metadata": {},
     "output_type": "execute_result"
    }
   ],
   "source": [
    "f_table['sample'].value_counts()\n"
   ]
  },
  {
   "cell_type": "code",
   "execution_count": 8,
   "metadata": {},
   "outputs": [
    {
     "data": {
      "text/plain": [
       "湿垃圾     3703\n",
       "可回收物    3629\n",
       "有害垃圾    2806\n",
       "干垃圾     2407\n",
       "Name: level0, dtype: int64"
      ]
     },
     "execution_count": 8,
     "metadata": {},
     "output_type": "execute_result"
    }
   ],
   "source": [
    "f_table['level0'].value_counts()"
   ]
  },
  {
   "cell_type": "code",
   "execution_count": 9,
   "metadata": {},
   "outputs": [
    {
     "data": {
      "text/html": [
       "<div>\n",
       "<style scoped>\n",
       "    .dataframe tbody tr th:only-of-type {\n",
       "        vertical-align: middle;\n",
       "    }\n",
       "\n",
       "    .dataframe tbody tr th {\n",
       "        vertical-align: top;\n",
       "    }\n",
       "\n",
       "    .dataframe thead th {\n",
       "        text-align: right;\n",
       "    }\n",
       "</style>\n",
       "<table border=\"1\" class=\"dataframe\">\n",
       "  <thead>\n",
       "    <tr style=\"text-align: right;\">\n",
       "      <th></th>\n",
       "      <th>_filename</th>\n",
       "      <th>_format</th>\n",
       "      <th>sample</th>\n",
       "      <th>spider_id</th>\n",
       "      <th>level0</th>\n",
       "      <th>level1</th>\n",
       "      <th>is_readable_image</th>\n",
       "      <th>is_completed_image</th>\n",
       "    </tr>\n",
       "  </thead>\n",
       "  <tbody>\n",
       "    <tr>\n",
       "      <td>0</td>\n",
       "      <td>干垃圾_编织袋_36.jpeg</td>\n",
       "      <td>.jpeg</td>\n",
       "      <td>编织袋</td>\n",
       "      <td>36</td>\n",
       "      <td>干垃圾</td>\n",
       "      <td></td>\n",
       "      <td>True</td>\n",
       "      <td>True</td>\n",
       "    </tr>\n",
       "    <tr>\n",
       "      <td>1</td>\n",
       "      <td>湿垃圾_食材废料_水产_91.jpg</td>\n",
       "      <td>.jpg</td>\n",
       "      <td>水产</td>\n",
       "      <td>91</td>\n",
       "      <td>湿垃圾</td>\n",
       "      <td>食材废料</td>\n",
       "      <td>True</td>\n",
       "      <td>True</td>\n",
       "    </tr>\n",
       "    <tr>\n",
       "      <td>2</td>\n",
       "      <td>湿垃圾_过期食品_肉干_7.jpg</td>\n",
       "      <td>.jpg</td>\n",
       "      <td>肉干</td>\n",
       "      <td>7</td>\n",
       "      <td>湿垃圾</td>\n",
       "      <td>过期食品</td>\n",
       "      <td>True</td>\n",
       "      <td>True</td>\n",
       "    </tr>\n",
       "    <tr>\n",
       "      <td>3</td>\n",
       "      <td>干垃圾_橡皮泥_20.jpg</td>\n",
       "      <td>.jpg</td>\n",
       "      <td>橡皮泥</td>\n",
       "      <td>20</td>\n",
       "      <td>干垃圾</td>\n",
       "      <td></td>\n",
       "      <td>True</td>\n",
       "      <td>True</td>\n",
       "    </tr>\n",
       "    <tr>\n",
       "      <td>4</td>\n",
       "      <td>有害垃圾_废含汞温度计、废含汞血压计_水银体温计_84.jpg</td>\n",
       "      <td>.jpg</td>\n",
       "      <td>水银体温计</td>\n",
       "      <td>84</td>\n",
       "      <td>有害垃圾</td>\n",
       "      <td>废含汞温度计、废含汞血压计</td>\n",
       "      <td>True</td>\n",
       "      <td>True</td>\n",
       "    </tr>\n",
       "  </tbody>\n",
       "</table>\n",
       "</div>"
      ],
      "text/plain": [
       "                         _filename _format sample  spider_id level0  \\\n",
       "0                  干垃圾_编织袋_36.jpeg   .jpeg    编织袋         36    干垃圾   \n",
       "1               湿垃圾_食材废料_水产_91.jpg    .jpg     水产         91    湿垃圾   \n",
       "2                湿垃圾_过期食品_肉干_7.jpg    .jpg     肉干          7    湿垃圾   \n",
       "3                   干垃圾_橡皮泥_20.jpg    .jpg    橡皮泥         20    干垃圾   \n",
       "4  有害垃圾_废含汞温度计、废含汞血压计_水银体温计_84.jpg    .jpg  水银体温计         84   有害垃圾   \n",
       "\n",
       "          level1  is_readable_image  is_completed_image  \n",
       "0                              True                True  \n",
       "1           食材废料               True                True  \n",
       "2           过期食品               True                True  \n",
       "3                              True                True  \n",
       "4  废含汞温度计、废含汞血压计               True                True  "
      ]
     },
     "execution_count": 9,
     "metadata": {},
     "output_type": "execute_result"
    }
   ],
   "source": [
    "f_table.head()"
   ]
  },
  {
   "cell_type": "code",
   "execution_count": 10,
   "metadata": {},
   "outputs": [],
   "source": [
    "# target_label = \"sample\"\n",
    "target_label = \"level0\"\n",
    "filenames = ['../data/' + fname for fname in f_table['_filename'].tolist()]\n",
    "lv0_labels = f_table[target_label].tolist()"
   ]
  },
  {
   "cell_type": "code",
   "execution_count": 11,
   "metadata": {},
   "outputs": [],
   "source": [
    "labelencoder = preprocessing.LabelEncoder()\n",
    "lv0_labels_encoded = labelencoder.fit_transform(lv0_labels)"
   ]
  },
  {
   "cell_type": "code",
   "execution_count": 12,
   "metadata": {},
   "outputs": [
    {
     "name": "stdout",
     "output_type": "stream",
     "text": [
      "[0 2 3 1]\n",
      "4\n"
     ]
    }
   ],
   "source": [
    "print(labelencoder.transform(['可回收物', \"有害垃圾\", \"湿垃圾\", \"干垃圾\"]))\n",
    "print(len(labelencoder.classes_))\n",
    "lv0_n_classes = len(labelencoder.classes_)\n",
    "level0_label_dict = {k:v for k,v in enumerate(labelencoder.classes_)}"
   ]
  },
  {
   "cell_type": "code",
   "execution_count": 13,
   "metadata": {
    "scrolled": true
   },
   "outputs": [
    {
     "name": "stdout",
     "output_type": "stream",
     "text": [
      "['可回收物' '干垃圾' '有害垃圾' '湿垃圾']\n",
      "{0: '可回收物', 1: '干垃圾', 2: '有害垃圾', 3: '湿垃圾'}\n"
     ]
    }
   ],
   "source": [
    "print(labelencoder.classes_)\n",
    "print(level0_label_dict)"
   ]
  },
  {
   "cell_type": "code",
   "execution_count": 14,
   "metadata": {},
   "outputs": [],
   "source": [
    "raw_filenames, test_filenames, raw_labels, test_labels = train_test_split(filenames\n",
    "                                                                        , lv0_labels_encoded\n",
    "                                                                        , train_size=0.9\n",
    "                                                                        , random_state=42)\n",
    "\n",
    "train_filenames, val_filenames, train_labels, val_labels = train_test_split(raw_filenames\n",
    "                                                                        , raw_labels\n",
    "                                                                        , train_size=0.9\n",
    "                                                                        , random_state=42)"
   ]
  },
  {
   "cell_type": "code",
   "execution_count": 15,
   "metadata": {},
   "outputs": [
    {
     "name": "stdout",
     "output_type": "stream",
     "text": [
      "10161 10161\n",
      "1129 1129\n",
      "1255 1255\n"
     ]
    }
   ],
   "source": [
    "print(len(train_filenames), len(train_labels))\n",
    "print(len(val_filenames), len(val_labels))\n",
    "print(len(test_filenames), len(test_labels))"
   ]
  },
  {
   "cell_type": "code",
   "execution_count": 16,
   "metadata": {},
   "outputs": [],
   "source": [
    "basenetwork = \"inception\"\n",
    "# basenetwork = \"mobilenet\""
   ]
  },
  {
   "cell_type": "code",
   "execution_count": 19,
   "metadata": {},
   "outputs": [
    {
     "name": "stdout",
     "output_type": "stream",
     "text": [
      "299 32\n"
     ]
    }
   ],
   "source": [
    "# Inception V3 299\n",
    "if basenetwork == \"inception\":\n",
    "    IMAGE_SIZE = 299\n",
    "elif basenetwork == \"mobilenet\":\n",
    "    IMAGE_SIZE = 128\n",
    "# Mobilenet use 128\n",
    "# IMAGE_SIZE = 128\n",
    "BATCH_SIZE = 32\n",
    "print(IMAGE_SIZE, BATCH_SIZE)"
   ]
  },
  {
   "cell_type": "code",
   "execution_count": 20,
   "metadata": {},
   "outputs": [],
   "source": [
    "train_data = tf.data.Dataset.from_tensor_slices(\n",
    "  (tf.constant(train_filenames), tf.constant(train_labels))\n",
    ")\n",
    "val_data = tf.data.Dataset.from_tensor_slices(\n",
    "  (tf.constant(val_filenames), tf.constant(val_labels))\n",
    ")"
   ]
  },
  {
   "cell_type": "code",
   "execution_count": 21,
   "metadata": {},
   "outputs": [],
   "source": [
    "def _parse_fn(filename, label):\n",
    "    try:\n",
    "        # read file as byte\n",
    "        image_string = tf.io.read_file(filename)\n",
    "        # decode as string \n",
    "        image_decoded = tf.image.decode_jpeg(image_string, channels=3)\n",
    "        # image_decoded = tf.image.decode_gif(image_string)\n",
    "        ## P.S tf.image.decode_image return shapeless tensor.\n",
    "        # image_decoded = tf.image.decode_image(image_string)\n",
    "        \n",
    "        # resize to given image size\n",
    "        image_resized = tf.image.resize(image_decoded, (IMAGE_SIZE, IMAGE_SIZE))\n",
    "        # normailization\n",
    "        image_normalized = (tf.cast(image_resized, tf.float32)/127.5) - 1\n",
    "    \n",
    "        return image_normalized, label\n",
    "        \"\"\"image_casted = tf.cast(image_decoded, tf.float32)\n",
    "        image_resized = tf.image.resize(image_casted, (IMAGE_SIZE, IMAGE_SIZE))\n",
    "        image_preproc = tf.keras.applications.inception_v3.preprocess_input(image_resized)\n",
    "        \n",
    "        return image_preproc, label\"\"\"\n",
    "    \n",
    "    except Exception as e:\n",
    "        print(e)\n",
    "        print(filename)"
   ]
  },
  {
   "cell_type": "code",
   "execution_count": 22,
   "metadata": {},
   "outputs": [],
   "source": [
    "train_data = (train_data.map(_parse_fn)\\\n",
    "            # .shuffle(buffer_size=5000)\\\n",
    "            .batch(BATCH_SIZE)\n",
    "             )\n",
    "\n",
    "val_data = (val_data.map(_parse_fn)\n",
    "           # .shuffle(buffer_size=5000)\n",
    "           .batch(BATCH_SIZE)\n",
    "           )"
   ]
  },
  {
   "cell_type": "markdown",
   "metadata": {},
   "source": [
    "## Define the model"
   ]
  },
  {
   "cell_type": "code",
   "execution_count": 23,
   "metadata": {},
   "outputs": [],
   "source": [
    "# Base model with InceptionV3\n",
    "IMG_SHAPE = (IMAGE_SIZE, IMAGE_SIZE, 3)\n",
    "\n",
    "if basenetwork == \"inception\":\n",
    "    base_model = tf.keras.applications.InceptionV3(input_shape=IMG_SHAPE,\n",
    "                                               include_top=False, \n",
    "                                               weights='imagenet')\n",
    "elif basenetwork == \"mobilenet\":\n",
    "    base_model = tf.keras.applications.MobileNetV2(input_shape=IMG_SHAPE,\n",
    "                                               include_top=False, \n",
    "                                               weights='imagenet')\n",
    "\n",
    "base_model.trainable = False"
   ]
  },
  {
   "cell_type": "code",
   "execution_count": 24,
   "metadata": {},
   "outputs": [
    {
     "name": "stdout",
     "output_type": "stream",
     "text": [
      "Model: \"sequential\"\n",
      "_________________________________________________________________\n",
      "Layer (type)                 Output Shape              Param #   \n",
      "=================================================================\n",
      "inception_v3 (Model)         (None, 8, 8, 2048)        21802784  \n",
      "_________________________________________________________________\n",
      "global_average_pooling2d (Gl (None, 2048)              0         \n",
      "_________________________________________________________________\n",
      "dense (Dense)                (None, 4)                 8196      \n",
      "=================================================================\n",
      "Total params: 21,810,980\n",
      "Trainable params: 8,196\n",
      "Non-trainable params: 21,802,784\n",
      "_________________________________________________________________\n"
     ]
    }
   ],
   "source": [
    "# Trainable classification head\n",
    "maxpool_layer = tf.keras.layers.GlobalMaxPooling2D()\n",
    "avgpool_layer = tf.keras.layers.GlobalAveragePooling2D()\n",
    "# dense_layer = tf.keras.layers.Dense(1024, activation='relu')\n",
    "dropout_layer = tf.keras.layers.Dropout(0.5)\n",
    "prediction_layer = tf.keras.layers.Dense(lv0_n_classes, activation='softmax')\n",
    "\n",
    "learning_rate = 0.0001\n",
    "\n",
    "model = tf.keras.Sequential([\n",
    "    base_model\n",
    "    # mobilenetV2\n",
    "    , avgpool_layer\n",
    "    # , maxpool_layer\n",
    "    # , dense_layer\n",
    "    # , dropout_layer\n",
    "    , prediction_layer\n",
    "])\n",
    "\n",
    "# Now the optimizer is under tf.keras.\n",
    "model.compile(\n",
    "    optimizer=tf.keras.optimizers.Adam(lr=learning_rate)\n",
    "    # optimizer=tf.keras.optimizers.SGD(lr=learning_rate, momentum=0.9)\n",
    "    ## Onehot encoding use categorical_crossentropy\n",
    "    # , loss='categorical_crossentropy'\n",
    "    ## Integer encoding, use sparse_categorical_crossentropy\n",
    "    , loss='sparse_categorical_crossentropy'\n",
    "    , metrics=['accuracy'])\n",
    "\n",
    "model.summary()"
   ]
  },
  {
   "cell_type": "markdown",
   "metadata": {},
   "source": [
    "## Train model"
   ]
  },
  {
   "cell_type": "code",
   "execution_count": 37,
   "metadata": {},
   "outputs": [],
   "source": [
    "num_epochs = 30\n",
    "steps_per_epoch = round(len(train_filenames))//BATCH_SIZE\n",
    "val_steps = 20\n",
    "count = 0"
   ]
  },
  {
   "cell_type": "code",
   "execution_count": 39,
   "metadata": {
    "scrolled": true
   },
   "outputs": [
    {
     "name": "stdout",
     "output_type": "stream",
     "text": [
      "WARNING:tensorflow:Expected a shuffled dataset but input dataset `x` is not shuffled. Please invoke `shuffle()` on input dataset.\n",
      "Epoch 1/30\n",
      "317/317 [==============================] - 33s 105ms/step - loss: 0.7725 - accuracy: 0.6979 - val_loss: 1.1154 - val_accuracy: 0.6000\n",
      "Epoch 2/30\n",
      "317/317 [==============================] - 33s 104ms/step - loss: 0.7645 - accuracy: 0.7020 - val_loss: 1.1128 - val_accuracy: 0.6000\n",
      "Epoch 3/30\n",
      "317/317 [==============================] - 33s 104ms/step - loss: 0.7602 - accuracy: 0.7033 - val_loss: 1.1122 - val_accuracy: 0.6000\n",
      "Epoch 4/30\n",
      "317/317 [==============================] - 33s 103ms/step - loss: 0.7552 - accuracy: 0.7043 - val_loss: 1.1100 - val_accuracy: 0.5984\n",
      "Epoch 5/30\n",
      "317/317 [==============================] - 33s 103ms/step - loss: 0.7503 - accuracy: 0.7059 - val_loss: 1.1057 - val_accuracy: 0.6016\n",
      "Epoch 6/30\n",
      "317/317 [==============================] - 33s 104ms/step - loss: 0.7458 - accuracy: 0.7082 - val_loss: 1.1013 - val_accuracy: 0.6016\n",
      "Epoch 7/30\n",
      "317/317 [==============================] - 33s 104ms/step - loss: 0.7421 - accuracy: 0.7087 - val_loss: 1.0968 - val_accuracy: 0.6016\n",
      "Epoch 8/30\n",
      "317/317 [==============================] - 33s 104ms/step - loss: 0.7384 - accuracy: 0.7094 - val_loss: 1.0927 - val_accuracy: 0.6125\n",
      "Epoch 9/30\n",
      "317/317 [==============================] - 33s 104ms/step - loss: 0.7347 - accuracy: 0.7105 - val_loss: 1.0884 - val_accuracy: 0.6062\n",
      "Epoch 10/30\n",
      "317/317 [==============================] - 33s 104ms/step - loss: 0.7312 - accuracy: 0.7123 - val_loss: 1.0847 - val_accuracy: 0.6094\n",
      "Epoch 11/30\n",
      "317/317 [==============================] - 33s 104ms/step - loss: 0.7270 - accuracy: 0.7149 - val_loss: 1.0831 - val_accuracy: 0.6172\n",
      "Epoch 12/30\n",
      "317/317 [==============================] - 33s 104ms/step - loss: 0.7250 - accuracy: 0.7158 - val_loss: 1.0825 - val_accuracy: 0.6203\n",
      "Epoch 13/30\n",
      "317/317 [==============================] - 33s 104ms/step - loss: 0.7217 - accuracy: 0.7171 - val_loss: 1.0830 - val_accuracy: 0.6203\n",
      "Epoch 14/30\n",
      "317/317 [==============================] - 33s 104ms/step - loss: 0.7188 - accuracy: 0.7181 - val_loss: 1.0843 - val_accuracy: 0.6297\n",
      "Epoch 15/30\n",
      "317/317 [==============================] - 33s 104ms/step - loss: 0.7158 - accuracy: 0.7195 - val_loss: 1.0863 - val_accuracy: 0.6344\n",
      "Epoch 16/30\n",
      "317/317 [==============================] - 33s 104ms/step - loss: 0.7140 - accuracy: 0.7197 - val_loss: 1.0890 - val_accuracy: 0.6297\n",
      "Epoch 17/30\n",
      "317/317 [==============================] - 33s 104ms/step - loss: 0.7113 - accuracy: 0.7205 - val_loss: 1.0926 - val_accuracy: 0.6266\n",
      "Epoch 18/30\n",
      "317/317 [==============================] - 33s 104ms/step - loss: 0.7089 - accuracy: 0.7213 - val_loss: 1.0971 - val_accuracy: 0.6266\n",
      "Epoch 19/30\n",
      "317/317 [==============================] - 33s 104ms/step - loss: 0.7060 - accuracy: 0.7223 - val_loss: 1.1015 - val_accuracy: 0.6281\n",
      "Epoch 20/30\n",
      "317/317 [==============================] - 33s 104ms/step - loss: 0.7051 - accuracy: 0.7224 - val_loss: 1.1032 - val_accuracy: 0.6297\n",
      "Epoch 21/30\n",
      "317/317 [==============================] - 33s 104ms/step - loss: 0.7031 - accuracy: 0.7235 - val_loss: 1.1057 - val_accuracy: 0.6250\n",
      "Epoch 22/30\n",
      "317/317 [==============================] - 33s 104ms/step - loss: 0.7004 - accuracy: 0.7252 - val_loss: 1.1068 - val_accuracy: 0.6250\n",
      "Epoch 23/30\n",
      "317/317 [==============================] - 33s 104ms/step - loss: 0.6994 - accuracy: 0.7255 - val_loss: 1.1084 - val_accuracy: 0.6281\n",
      "Epoch 24/30\n",
      "317/317 [==============================] - 33s 103ms/step - loss: 0.6978 - accuracy: 0.7267 - val_loss: 1.1087 - val_accuracy: 0.6234\n",
      "Epoch 25/30\n",
      "317/317 [==============================] - 32s 102ms/step - loss: 0.6956 - accuracy: 0.7276 - val_loss: 1.1085 - val_accuracy: 0.6234\n",
      "Epoch 26/30\n",
      "317/317 [==============================] - 32s 102ms/step - loss: 0.6949 - accuracy: 0.7285 - val_loss: 1.1083 - val_accuracy: 0.6234\n",
      "Epoch 27/30\n",
      "317/317 [==============================] - 32s 102ms/step - loss: 0.6931 - accuracy: 0.7289 - val_loss: 1.1069 - val_accuracy: 0.6187\n",
      "Epoch 28/30\n",
      "317/317 [==============================] - 33s 104ms/step - loss: 0.6908 - accuracy: 0.7291 - val_loss: 1.1041 - val_accuracy: 0.6203\n",
      "Epoch 29/30\n",
      "317/317 [==============================] - 33s 104ms/step - loss: 0.6903 - accuracy: 0.7293 - val_loss: 1.1002 - val_accuracy: 0.6187\n",
      "Epoch 30/30\n",
      "317/317 [==============================] - 33s 104ms/step - loss: 0.6902 - accuracy: 0.7303 - val_loss: 1.0976 - val_accuracy: 0.6156\n"
     ]
    }
   ],
   "source": [
    "count += 1\n",
    "history = model.fit(train_data.repeat(),\n",
    "                    epochs=num_epochs,\n",
    "                    steps_per_epoch = steps_per_epoch,\n",
    "                    validation_data=val_data.repeat(), \n",
    "                    validation_steps=val_steps)"
   ]
  },
  {
   "cell_type": "markdown",
   "metadata": {},
   "source": [
    "### Save the model"
   ]
  },
  {
   "cell_type": "code",
   "execution_count": 44,
   "metadata": {},
   "outputs": [
    {
     "name": "stdout",
     "output_type": "stream",
     "text": [
      "level0 60\n",
      "../models/_mobilenet_epoch_60_without_dropout_level0.h5\n",
      "_mobilenet_epoch_60_without_dropout_level0.h5\n"
     ]
    }
   ],
   "source": [
    "print(target_label, count * num_epochs)\n",
    "save_name = \"../models/_inceptV3_epoch_\" + str(count * num_epochs) + \"_without_dropout_\" + target_label + \".h5\"\n",
    "# save_name = \"../models/_mobilenet_epoch_\" + str(count * num_epochs) + \"_without_dropout_\" + target_label + \".h5\"\n",
    "\n",
    "print(save_name)\n",
    "print(os.path.basename(save_name))"
   ]
  },
  {
   "cell_type": "code",
   "execution_count": 42,
   "metadata": {},
   "outputs": [],
   "source": [
    "# Save model weights\n",
    "# model.save_weights('../models/weights_epoch_30_nodrop_out.h5')\n",
    "model.save(save_name)"
   ]
  },
  {
   "cell_type": "code",
   "execution_count": 67,
   "metadata": {},
   "outputs": [
    {
     "name": "stdout",
     "output_type": "stream",
     "text": [
      "{'_mobilenet_epoch_60_without_dropout_level0': {'model_name': '_mobilenet_epoch_60_without_dropout_level0.h5', 'label_dict': {'0': '可回收物', '1': '干垃圾', '2': '有害垃圾', '3': '湿垃圾'}}}\n"
     ]
    }
   ],
   "source": [
    "model_label_dict_conf = \"../models/model_label_dict.conf\"\n",
    "if os.path.exists(model_label_dict_conf) and os.stat(model_label_dict_conf).st_size != 0:\n",
    "    with open(model_label_dict_conf, 'r') as f:\n",
    "        _save_params = json.loads(f.read())\n",
    "        print(_save_params)\n",
    "else:\n",
    "    _save_params = {}"
   ]
  },
  {
   "cell_type": "code",
   "execution_count": 68,
   "metadata": {},
   "outputs": [],
   "source": [
    "if os.path.splitext(os.path.basename(save_name))[0] in _save_params.keys():\n",
    "    _save_param = _save_params[os.path.splitext(os.path.basename(save_name))[0]]\n",
    "else:\n",
    "    _save_param = {}\n",
    "\n",
    "_save_param['model_name'] = os.path.basename(save_name)\n",
    "_save_param['label_dict'] = level0_label_dict\n",
    "_save_param['IMAGE_SIZE'] = IMAGE_SIZE\n",
    "_save_params[os.path.splitext(os.path.basename(save_name))[0]] = _save_param\n",
    "with open(\"../models/model_label_dict.conf\", \"w\") as f:\n",
    "    _save_param_str = json.dumps(_save_params)\n",
    "    f.write(_save_param_str)"
   ]
  },
  {
   "cell_type": "code",
   "execution_count": null,
   "metadata": {},
   "outputs": [],
   "source": []
  },
  {
   "cell_type": "markdown",
   "metadata": {},
   "source": [
    "### Take a look on Accuracy and Loss curve."
   ]
  },
  {
   "cell_type": "code",
   "execution_count": 43,
   "metadata": {},
   "outputs": [
    {
     "data": {
      "image/png": "[encoded data removed]",
      "text/plain": [
       "<Figure size 576x576 with 2 Axes>"
      ]
     },
     "metadata": {
      "needs_background": "light"
     },
     "output_type": "display_data"
    }
   ],
   "source": [
    "acc = history.history['accuracy']\n",
    "val_acc = history.history['val_accuracy']\n",
    "\n",
    "loss = history.history['loss']\n",
    "val_loss = history.history['val_loss']\n",
    "\n",
    "plt.figure(figsize=(8, 8))\n",
    "plt.subplot(2, 1, 1)\n",
    "plt.plot(acc, label='Training Accuracy')\n",
    "plt.plot(val_acc, label='Validation Accuracy')\n",
    "plt.legend(loc='lower right')\n",
    "plt.ylabel('Accuracy')\n",
    "plt.title('Training and Validation Accuracy')\n",
    "\n",
    "plt.subplot(2, 1, 2)\n",
    "plt.plot(loss, label='Training Loss')\n",
    "plt.plot(val_loss, label='Validation Loss')\n",
    "plt.legend(loc='upper right')\n",
    "plt.ylabel('Sparse Cross Entropy')\n",
    "plt.title('Training and Validation Loss')\n",
    "plt.xlabel('epoch')\n",
    "plt.show()"
   ]
  },
  {
   "cell_type": "code",
   "execution_count": 85,
   "metadata": {},
   "outputs": [],
   "source": [
    "def _preprocess_imagefile(filename):\n",
    "    try:\n",
    "        # read file as byte\n",
    "        image_string = tf.io.read_file(filename)\n",
    "        # decode as string \n",
    "        image_decoded = tf.image.decode_jpeg(image_string, channels=3)\n",
    "        # image_decoded = tf.image.decode_gif(image_string)\n",
    "        ## P.S tf.image.decode_image return shapeless tensor.\n",
    "        # image_decoded = tf.image.decode_image(image_string)\n",
    "        \n",
    "        # resize to given image size\n",
    "        image_resized = tf.image.resize(image_decoded, (IMAGE_SIZE, IMAGE_SIZE))\n",
    "        # normailization\n",
    "        image_normalized = (tf.cast(image_resized, tf.float32)/127.5) - 1\n",
    "    \n",
    "        return image_normalized\n",
    "        \"\"\"image_casted = tf.cast(image_decoded, tf.float32)\n",
    "        image_resized = tf.image.resize(image_casted, (IMAGE_SIZE, IMAGE_SIZE))\n",
    "        image_preproc = tf.keras.applications.inception_v3.preprocess_input(image_resized)\n",
    "        \n",
    "        return image_preproc, label\"\"\"\n",
    "    \n",
    "    except Exception as e:\n",
    "        print(e)\n",
    "        print(filename)"
   ]
  },
  {
   "cell_type": "markdown",
   "metadata": {},
   "source": [
    "### Input some test sample to test"
   ]
  },
  {
   "cell_type": "code",
   "execution_count": 99,
   "metadata": {},
   "outputs": [
    {
     "name": "stdout",
     "output_type": "stream",
     "text": [
      "./data/湿垃圾_过期食品_糖果_37.jpg\n",
      "湿垃圾\n",
      "[[0.15937285 0.17156094 0.2781842  0.39088196]]\n",
      "湿垃圾\n"
     ]
    }
   ],
   "source": [
    "random_filename = np.random.choice(test_filenames)\n",
    "print(random_filename)\n",
    "basename = random_filename.split(\"/\")[-1].split(\".\")[0]\n",
    "name_seg = basename.split(\"_\")\n",
    "sub_id = name_seg.pop()\n",
    "sample = name_seg.pop()\n",
    "labels = {\"level\"+str(i):l for i,l in enumerate(name_seg)}\n",
    "print(labels['level0'])\n",
    "random_x = _preprocess_imagefile(random_filename)\n",
    "# print(random_x)\n",
    "pred_y = model.predict(tf.expand_dims(random_x, axis=0))\n",
    "print(pred_y)\n",
    "print(labelencoder.classes_[pred_y.argmax()])"
   ]
  },
  {
   "cell_type": "code",
   "execution_count": null,
   "metadata": {},
   "outputs": [],
   "source": []
  },
  {
   "cell_type": "code",
   "execution_count": null,
   "metadata": {},
   "outputs": [],
   "source": []
  }
 ],
 "metadata": {
  "kernelspec": {
   "display_name": "Python 3",
   "language": "python",
   "name": "python3"
  },
  "language_info": {
   "codemirror_mode": {
    "name": "ipython",
    "version": 3
   },
   "file_extension": ".py",
   "mimetype": "text/x-python",
   "name": "python",
   "nbconvert_exporter": "python",
   "pygments_lexer": "ipython3",
   "version": "3.6.5"
  }
 },
 "nbformat": 4,
 "nbformat_minor": 2
}
