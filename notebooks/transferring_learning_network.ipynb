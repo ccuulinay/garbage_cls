{
 "cells": [
  {
   "cell_type": "code",
   "execution_count": 2,
   "metadata": {
    "scrolled": true
   },
   "outputs": [],
   "source": [
    "import pandas as pd\n",
    "import numpy as np\n",
    "import pathlib\n",
    "import os\n",
    "import sys\n",
    "import glob\n",
    "import tensorflow as tf\n",
    "# from tensorflow.keras.applications.inception_v3 import preprocess_input\n",
    "import matplotlib.pyplot as plt\n",
    "from sklearn.model_selection import train_test_split\n",
    "from sklearn import preprocessing\n",
    "from IPython.display import Image, display\n",
    "import cv2\n",
    "import json\n",
    "%matplotlib inline"
   ]
  },
  {
   "cell_type": "code",
   "execution_count": 3,
   "metadata": {},
   "outputs": [
    {
     "name": "stdout",
     "output_type": "stream",
     "text": [
      "2.0.0-alpha0\n"
     ]
    }
   ],
   "source": [
    "print(tf.__version__)"
   ]
  },
  {
   "cell_type": "markdown",
   "metadata": {},
   "source": [
    "## Preprocess data"
   ]
  },
  {
   "cell_type": "code",
   "execution_count": 4,
   "metadata": {},
   "outputs": [],
   "source": [
    "data_path = \"../data\"\n",
    "data_p = pathlib.Path(data_path)"
   ]
  },
  {
   "cell_type": "code",
   "execution_count": 5,
   "metadata": {},
   "outputs": [],
   "source": [
    "meta_table = pd.read_csv(\"../_filename_dict.csv\")"
   ]
  },
  {
   "cell_type": "code",
   "execution_count": 6,
   "metadata": {},
   "outputs": [],
   "source": [
    "# Filter is_readable_image == False\n",
    "f_table = meta_table[(meta_table['is_readable_image']) & (meta_table['is_completed_image'])].copy()\n",
    "# f_table = f_table[f_table['_format'] != \".gif\"].copy()\n",
    "f_table.reset_index(drop=True, inplace=True)\n",
    "f_table.fillna(\"\", inplace=True)"
   ]
  },
  {
   "cell_type": "code",
   "execution_count": null,
   "metadata": {},
   "outputs": [],
   "source": []
  },
  {
   "cell_type": "code",
   "execution_count": 7,
   "metadata": {},
   "outputs": [
    {
     "data": {
      "text/plain": [
       "selfie    1500\n",
       "皮鞋         100\n",
       "电池         100\n",
       "油桶          99\n",
       "光管          99\n",
       "          ... \n",
       "橡皮泥         54\n",
       "硬果壳         53\n",
       "玉米衣         53\n",
       "尼龙制品        47\n",
       "家养植物         7\n",
       "Name: sample, Length: 156, dtype: int64"
      ]
     },
     "execution_count": 7,
     "metadata": {},
     "output_type": "execute_result"
    }
   ],
   "source": [
    "f_table['sample'].value_counts()\n"
   ]
  },
  {
   "cell_type": "code",
   "execution_count": 8,
   "metadata": {},
   "outputs": [
    {
     "data": {
      "text/plain": [
       "湿垃圾     3703\n",
       "可回收物    3629\n",
       "有害垃圾    2865\n",
       "干垃圾     2407\n",
       "人像      1500\n",
       "Name: level0, dtype: int64"
      ]
     },
     "execution_count": 8,
     "metadata": {},
     "output_type": "execute_result"
    }
   ],
   "source": [
    "f_table['level0'].value_counts()"
   ]
  },
  {
   "cell_type": "code",
   "execution_count": 9,
   "metadata": {},
   "outputs": [
    {
     "data": {
      "text/html": [
       "<div>\n",
       "<style scoped>\n",
       "    .dataframe tbody tr th:only-of-type {\n",
       "        vertical-align: middle;\n",
       "    }\n",
       "\n",
       "    .dataframe tbody tr th {\n",
       "        vertical-align: top;\n",
       "    }\n",
       "\n",
       "    .dataframe thead th {\n",
       "        text-align: right;\n",
       "    }\n",
       "</style>\n",
       "<table border=\"1\" class=\"dataframe\">\n",
       "  <thead>\n",
       "    <tr style=\"text-align: right;\">\n",
       "      <th></th>\n",
       "      <th>_filename</th>\n",
       "      <th>_format</th>\n",
       "      <th>sample</th>\n",
       "      <th>spider_id</th>\n",
       "      <th>level0</th>\n",
       "      <th>level1</th>\n",
       "      <th>is_readable_image</th>\n",
       "      <th>is_completed_image</th>\n",
       "    </tr>\n",
       "  </thead>\n",
       "  <tbody>\n",
       "    <tr>\n",
       "      <td>0</td>\n",
       "      <td>干垃圾_编织袋_36.jpeg</td>\n",
       "      <td>.jpeg</td>\n",
       "      <td>编织袋</td>\n",
       "      <td>36</td>\n",
       "      <td>干垃圾</td>\n",
       "      <td></td>\n",
       "      <td>True</td>\n",
       "      <td>True</td>\n",
       "    </tr>\n",
       "    <tr>\n",
       "      <td>1</td>\n",
       "      <td>湿垃圾_食材废料_水产_91.jpg</td>\n",
       "      <td>.jpg</td>\n",
       "      <td>水产</td>\n",
       "      <td>91</td>\n",
       "      <td>湿垃圾</td>\n",
       "      <td>食材废料</td>\n",
       "      <td>True</td>\n",
       "      <td>True</td>\n",
       "    </tr>\n",
       "    <tr>\n",
       "      <td>2</td>\n",
       "      <td>湿垃圾_过期食品_肉干_7.jpg</td>\n",
       "      <td>.jpg</td>\n",
       "      <td>肉干</td>\n",
       "      <td>7</td>\n",
       "      <td>湿垃圾</td>\n",
       "      <td>过期食品</td>\n",
       "      <td>True</td>\n",
       "      <td>True</td>\n",
       "    </tr>\n",
       "    <tr>\n",
       "      <td>3</td>\n",
       "      <td>干垃圾_橡皮泥_20.jpg</td>\n",
       "      <td>.jpg</td>\n",
       "      <td>橡皮泥</td>\n",
       "      <td>20</td>\n",
       "      <td>干垃圾</td>\n",
       "      <td></td>\n",
       "      <td>True</td>\n",
       "      <td>True</td>\n",
       "    </tr>\n",
       "    <tr>\n",
       "      <td>4</td>\n",
       "      <td>有害垃圾_废含汞温度计、废含汞血压计_水银体温计_84.jpg</td>\n",
       "      <td>.jpg</td>\n",
       "      <td>水银体温计</td>\n",
       "      <td>84</td>\n",
       "      <td>有害垃圾</td>\n",
       "      <td>废含汞温度计、废含汞血压计</td>\n",
       "      <td>True</td>\n",
       "      <td>True</td>\n",
       "    </tr>\n",
       "  </tbody>\n",
       "</table>\n",
       "</div>"
      ],
      "text/plain": [
       "                         _filename _format sample  spider_id level0  \\\n",
       "0                  干垃圾_编织袋_36.jpeg   .jpeg    编织袋         36    干垃圾   \n",
       "1               湿垃圾_食材废料_水产_91.jpg    .jpg     水产         91    湿垃圾   \n",
       "2                湿垃圾_过期食品_肉干_7.jpg    .jpg     肉干          7    湿垃圾   \n",
       "3                   干垃圾_橡皮泥_20.jpg    .jpg    橡皮泥         20    干垃圾   \n",
       "4  有害垃圾_废含汞温度计、废含汞血压计_水银体温计_84.jpg    .jpg  水银体温计         84   有害垃圾   \n",
       "\n",
       "          level1  is_readable_image  is_completed_image  \n",
       "0                              True                True  \n",
       "1           食材废料               True                True  \n",
       "2           过期食品               True                True  \n",
       "3                              True                True  \n",
       "4  废含汞温度计、废含汞血压计               True                True  "
      ]
     },
     "execution_count": 9,
     "metadata": {},
     "output_type": "execute_result"
    }
   ],
   "source": [
    "f_table.head()"
   ]
  },
  {
   "cell_type": "code",
   "execution_count": 10,
   "metadata": {},
   "outputs": [],
   "source": [
    "# target_label = \"sample\"\n",
    "target_label = \"sample\"\n",
    "filenames = ['../data/' + fname for fname in f_table['_filename'].tolist()]\n",
    "lv0_labels = f_table[target_label].tolist()"
   ]
  },
  {
   "cell_type": "code",
   "execution_count": 11,
   "metadata": {},
   "outputs": [],
   "source": [
    "labelencoder = preprocessing.LabelEncoder()\n",
    "lv0_labels_encoded = labelencoder.fit_transform(lv0_labels)"
   ]
  },
  {
   "cell_type": "code",
   "execution_count": 13,
   "metadata": {},
   "outputs": [],
   "source": [
    "# print(labelencoder.transform(['可回收物', \"有害垃圾\", \"湿垃圾\", \"干垃圾\", \"人像\"]))\n",
    "# print(len(labelencoder.classes_))\n",
    "lv0_n_classes = len(labelencoder.classes_)\n",
    "level0_label_dict = {k:v for k,v in enumerate(labelencoder.classes_)}"
   ]
  },
  {
   "cell_type": "code",
   "execution_count": 14,
   "metadata": {
    "scrolled": true
   },
   "outputs": [
    {
     "name": "stdout",
     "output_type": "stream",
     "text": [
      "['selfie' 'x光片' '一次性餐具' '中药材' '书包' '书本' '乳液罐' '伞' '信封' '充电电池' '光管' '内脏'\n",
      " '刀' '刀片' '医疗废品' '卤素灯' '卫生间用纸' '咖啡渣' '塑料瓶' '大骨头' '太空沙' '宠物饲料' '家养植物'\n",
      " '尼龙制品' '尿不湿' '带胶制品' '干燥剂' '床单' '废不锈钢' '废油漆桶' '废钢' '废铁' '废铜' '感光胶片'\n",
      " '成分复杂的制品' '手提包' '打火机' '报纸' '指甲钳' '插座' '易拉罐' '木积木' '杀虫喷雾' '枕头' '枝叶' '染发剂壳'\n",
      " '根茎蔬菜' '椰子壳' '榴莲壳' '榴莲核' '橘子皮' '橡皮泥' '毛发' '毛巾' '毛绒玩具' '水产' '水果果皮' '水果果肉'\n",
      " '水果茎枝' '水银体温计' '水银血压计' '污损纸张' '油桶' '泡沫塑料' '洗甲水' '消毒剂' '灯泡' '灰土' '炉渣' '烟蒂'\n",
      " '牙签' '狗尿垫' '猫砂' '玉米衣' '玩具' '玻璃放大镜' '玻璃杯' '甘蔗皮' '电池' '电线' '电路板' '皮鞋' '相片'\n",
      " '相片底片' '眼镜' '砧板' '硬果壳' '硬果实' '硬贝壳' '碎玻璃' '碎骨' '窗玻璃' '竹制品' '竹筷' '竹篮' '笔'\n",
      " '米' '米饭' '糕饼' '糖果' '红枣' '纸塑铝复合包装' '纸箱' '纸袋' '纽扣电池' '编织袋' '老鼠药' '肉' '肉干'\n",
      " '胶卷' '胶带' '胶水' '节能灯' '花卉' '花瓣' '花盆' '苹果皮' '茶叶渣' '荧光灯' '药品包装' '药片' '菌菇'\n",
      " '菠萝蜜核' '蓄电池' '蔬菜' '虾' '虾壳' '蛋' '蛋壳' '螺丝刀' '衣服' '衣架' '西瓜皮' '调料' '豆'\n",
      " '过期指甲油' '过期胶囊药品' '过期药品' '速溶咖啡' '酒瓶' '酱料' '针筒' '铅酸电池' '锅' '镍镉电池' '镜子'\n",
      " '防碎气泡膜' '陶瓷制品' '面' '面包' '食品保鲜盒' '餐巾纸' '鱼' '鱼骨' '鱼鳞' '鱿鱼']\n",
      "{0: 'selfie', 1: 'x光片', 2: '一次性餐具', 3: '中药材', 4: '书包', 5: '书本', 6: '乳液罐', 7: '伞', 8: '信封', 9: '充电电池', 10: '光管', 11: '内脏', 12: '刀', 13: '刀片', 14: '医疗废品', 15: '卤素灯', 16: '卫生间用纸', 17: '咖啡渣', 18: '塑料瓶', 19: '大骨头', 20: '太空沙', 21: '宠物饲料', 22: '家养植物', 23: '尼龙制品', 24: '尿不湿', 25: '带胶制品', 26: '干燥剂', 27: '床单', 28: '废不锈钢', 29: '废油漆桶', 30: '废钢', 31: '废铁', 32: '废铜', 33: '感光胶片', 34: '成分复杂的制品', 35: '手提包', 36: '打火机', 37: '报纸', 38: '指甲钳', 39: '插座', 40: '易拉罐', 41: '木积木', 42: '杀虫喷雾', 43: '枕头', 44: '枝叶', 45: '染发剂壳', 46: '根茎蔬菜', 47: '椰子壳', 48: '榴莲壳', 49: '榴莲核', 50: '橘子皮', 51: '橡皮泥', 52: '毛发', 53: '毛巾', 54: '毛绒玩具', 55: '水产', 56: '水果果皮', 57: '水果果肉', 58: '水果茎枝', 59: '水银体温计', 60: '水银血压计', 61: '污损纸张', 62: '油桶', 63: '泡沫塑料', 64: '洗甲水', 65: '消毒剂', 66: '灯泡', 67: '灰土', 68: '炉渣', 69: '烟蒂', 70: '牙签', 71: '狗尿垫', 72: '猫砂', 73: '玉米衣', 74: '玩具', 75: '玻璃放大镜', 76: '玻璃杯', 77: '甘蔗皮', 78: '电池', 79: '电线', 80: '电路板', 81: '皮鞋', 82: '相片', 83: '相片底片', 84: '眼镜', 85: '砧板', 86: '硬果壳', 87: '硬果实', 88: '硬贝壳', 89: '碎玻璃', 90: '碎骨', 91: '窗玻璃', 92: '竹制品', 93: '竹筷', 94: '竹篮', 95: '笔', 96: '米', 97: '米饭', 98: '糕饼', 99: '糖果', 100: '红枣', 101: '纸塑铝复合包装', 102: '纸箱', 103: '纸袋', 104: '纽扣电池', 105: '编织袋', 106: '老鼠药', 107: '肉', 108: '肉干', 109: '胶卷', 110: '胶带', 111: '胶水', 112: '节能灯', 113: '花卉', 114: '花瓣', 115: '花盆', 116: '苹果皮', 117: '茶叶渣', 118: '荧光灯', 119: '药品包装', 120: '药片', 121: '菌菇', 122: '菠萝蜜核', 123: '蓄电池', 124: '蔬菜', 125: '虾', 126: '虾壳', 127: '蛋', 128: '蛋壳', 129: '螺丝刀', 130: '衣服', 131: '衣架', 132: '西瓜皮', 133: '调料', 134: '豆', 135: '过期指甲油', 136: '过期胶囊药品', 137: '过期药品', 138: '速溶咖啡', 139: '酒瓶', 140: '酱料', 141: '针筒', 142: '铅酸电池', 143: '锅', 144: '镍镉电池', 145: '镜子', 146: '防碎气泡膜', 147: '陶瓷制品', 148: '面', 149: '面包', 150: '食品保鲜盒', 151: '餐巾纸', 152: '鱼', 153: '鱼骨', 154: '鱼鳞', 155: '鱿鱼'}\n"
     ]
    }
   ],
   "source": [
    "print(labelencoder.classes_)\n",
    "print(level0_label_dict)"
   ]
  },
  {
   "cell_type": "code",
   "execution_count": 15,
   "metadata": {},
   "outputs": [],
   "source": [
    "raw_filenames, test_filenames, raw_labels, test_labels = train_test_split(filenames\n",
    "                                                                        , lv0_labels_encoded\n",
    "                                                                        , train_size=0.9\n",
    "                                                                        , random_state=42)\n",
    "\n",
    "train_filenames, val_filenames, train_labels, val_labels = train_test_split(raw_filenames\n",
    "                                                                        , raw_labels\n",
    "                                                                        , train_size=0.9\n",
    "                                                                        , random_state=42)"
   ]
  },
  {
   "cell_type": "code",
   "execution_count": 16,
   "metadata": {},
   "outputs": [
    {
     "name": "stdout",
     "output_type": "stream",
     "text": [
      "11423 11423\n",
      "1270 1270\n",
      "1411 1411\n"
     ]
    }
   ],
   "source": [
    "print(len(train_filenames), len(train_labels))\n",
    "print(len(val_filenames), len(val_labels))\n",
    "print(len(test_filenames), len(test_labels))"
   ]
  },
  {
   "cell_type": "code",
   "execution_count": 17,
   "metadata": {},
   "outputs": [],
   "source": [
    "basenetwork = \"inception\"\n",
    "# basenetwork = \"mobilenet\""
   ]
  },
  {
   "cell_type": "code",
   "execution_count": 18,
   "metadata": {},
   "outputs": [
    {
     "name": "stdout",
     "output_type": "stream",
     "text": [
      "299 32\n"
     ]
    }
   ],
   "source": [
    "# Inception V3 299\n",
    "if basenetwork == \"inception\":\n",
    "    IMAGE_SIZE = 299\n",
    "elif basenetwork == \"mobilenet\":\n",
    "    IMAGE_SIZE = 224\n",
    "# Mobilenet use 128\n",
    "# IMAGE_SIZE = 128\n",
    "BATCH_SIZE = 32\n",
    "print(IMAGE_SIZE, BATCH_SIZE)"
   ]
  },
  {
   "cell_type": "code",
   "execution_count": 19,
   "metadata": {},
   "outputs": [],
   "source": [
    "train_data = tf.data.Dataset.from_tensor_slices(\n",
    "  (tf.constant(train_filenames), tf.constant(train_labels))\n",
    ")\n",
    "val_data = tf.data.Dataset.from_tensor_slices(\n",
    "  (tf.constant(val_filenames), tf.constant(val_labels))\n",
    ")"
   ]
  },
  {
   "cell_type": "code",
   "execution_count": 20,
   "metadata": {},
   "outputs": [],
   "source": [
    "def _parse_fn(filename, label):\n",
    "    try:\n",
    "        # read file as byte\n",
    "        image_string = tf.io.read_file(filename)\n",
    "        # decode as string \n",
    "        image_decoded = tf.image.decode_jpeg(image_string, channels=3)\n",
    "        # image_decoded = tf.image.decode_gif(image_string)\n",
    "        ## P.S tf.image.decode_image return shapeless tensor.\n",
    "        # image_decoded = tf.image.decode_image(image_string)\n",
    "        \n",
    "        # resize to given image size\n",
    "        image_resized = tf.image.resize(image_decoded, (IMAGE_SIZE, IMAGE_SIZE))\n",
    "        # normailization\n",
    "        image_normalized = (tf.cast(image_resized, tf.float32)/127.5) - 1\n",
    "    \n",
    "        return image_normalized, label\n",
    "        \"\"\"image_casted = tf.cast(image_decoded, tf.float32)\n",
    "        image_resized = tf.image.resize(image_casted, (IMAGE_SIZE, IMAGE_SIZE))\n",
    "        image_preproc = tf.keras.applications.inception_v3.preprocess_input(image_resized)\n",
    "        \n",
    "        return image_preproc, label\"\"\"\n",
    "    \n",
    "    except Exception as e:\n",
    "        print(e)\n",
    "        print(filename)"
   ]
  },
  {
   "cell_type": "code",
   "execution_count": 21,
   "metadata": {},
   "outputs": [],
   "source": [
    "train_data = (train_data.map(_parse_fn)\\\n",
    "            # .shuffle(buffer_size=5000)\\\n",
    "            .batch(BATCH_SIZE)\n",
    "             )\n",
    "\n",
    "val_data = (val_data.map(_parse_fn)\n",
    "           # .shuffle(buffer_size=5000)\n",
    "           .batch(BATCH_SIZE)\n",
    "           )"
   ]
  },
  {
   "cell_type": "markdown",
   "metadata": {},
   "source": [
    "## Define the model"
   ]
  },
  {
   "cell_type": "code",
   "execution_count": 22,
   "metadata": {},
   "outputs": [],
   "source": [
    "FINE_TUNE = True"
   ]
  },
  {
   "cell_type": "code",
   "execution_count": 23,
   "metadata": {},
   "outputs": [],
   "source": [
    "# Base model with InceptionV3\n",
    "IMG_SHAPE = (IMAGE_SIZE, IMAGE_SIZE, 3)\n",
    "\n",
    "if basenetwork == \"inception\":\n",
    "    base_model = tf.keras.applications.InceptionV3(input_shape=IMG_SHAPE,\n",
    "                                               include_top=False, \n",
    "                                               weights='imagenet')\n",
    "elif basenetwork == \"mobilenet\":\n",
    "    base_model = tf.keras.applications.MobileNetV2(input_shape=IMG_SHAPE,\n",
    "                                               include_top=False, \n",
    "                                               weights='imagenet')\n",
    "\n",
    "\n",
    "\n",
    "if FINE_TUNE:\n",
    "    # Unfreeze all layers of MobileNetV2\n",
    "    base_model.trainable = True\n",
    "\n",
    "    # Refreeze layers until the layers we want to fine-tune\n",
    "    for layer in base_model.layers[:100]:\n",
    "        layer.trainable =  False\n",
    "else:\n",
    "    base_model.trainable = False"
   ]
  },
  {
   "cell_type": "code",
   "execution_count": 24,
   "metadata": {},
   "outputs": [
    {
     "name": "stdout",
     "output_type": "stream",
     "text": [
      "Model: \"sequential\"\n",
      "_________________________________________________________________\n",
      "Layer (type)                 Output Shape              Param #   \n",
      "=================================================================\n",
      "inception_v3 (Model)         (None, 8, 8, 2048)        21802784  \n",
      "_________________________________________________________________\n",
      "global_average_pooling2d (Gl (None, 2048)              0         \n",
      "_________________________________________________________________\n",
      "dense (Dense)                (None, 156)               319644    \n",
      "=================================================================\n",
      "Total params: 22,122,428\n",
      "Trainable params: 19,946,012\n",
      "Non-trainable params: 2,176,416\n",
      "_________________________________________________________________\n"
     ]
    }
   ],
   "source": [
    "# Trainable classification head\n",
    "maxpool_layer = tf.keras.layers.GlobalMaxPooling2D()\n",
    "avgpool_layer = tf.keras.layers.GlobalAveragePooling2D()\n",
    "# dense_layer = tf.keras.layers.Dense(1024, activation='relu')\n",
    "dropout_layer = tf.keras.layers.Dropout(0.5)\n",
    "prediction_layer = tf.keras.layers.Dense(lv0_n_classes, activation='softmax')\n",
    "\n",
    "learning_rate = 0.0001\n",
    "\n",
    "model = tf.keras.Sequential([\n",
    "    base_model\n",
    "    # mobilenetV2\n",
    "    , avgpool_layer\n",
    "    # , maxpool_layer\n",
    "    # , dense_layer\n",
    "    # , dropout_layer\n",
    "    , prediction_layer\n",
    "])\n",
    "\n",
    "# Now the optimizer is under tf.keras.\n",
    "model.compile(\n",
    "    optimizer=tf.keras.optimizers.Adam(lr=learning_rate)\n",
    "    # optimizer=tf.keras.optimizers.SGD(lr=learning_rate, momentum=0.9)\n",
    "    ## Onehot encoding use categorical_crossentropy\n",
    "    # , loss='categorical_crossentropy'\n",
    "    ## Integer encoding, use sparse_categorical_crossentropy\n",
    "    , loss='sparse_categorical_crossentropy'\n",
    "    , metrics=['accuracy'])\n",
    "\n",
    "model.summary()"
   ]
  },
  {
   "cell_type": "markdown",
   "metadata": {},
   "source": [
    "## Train model"
   ]
  },
  {
   "cell_type": "code",
   "execution_count": 25,
   "metadata": {},
   "outputs": [],
   "source": [
    "num_epochs = 30\n",
    "steps_per_epoch = round(len(train_filenames))//BATCH_SIZE\n",
    "val_steps = 20\n",
    "count = 0"
   ]
  },
  {
   "cell_type": "code",
   "execution_count": null,
   "metadata": {
    "scrolled": true
   },
   "outputs": [
    {
     "name": "stdout",
     "output_type": "stream",
     "text": [
      "WARNING:tensorflow:Expected a shuffled dataset but input dataset `x` is not shuffled. Please invoke `shuffle()` on input dataset.\n",
      "Epoch 1/30\n",
      "356/356 [==============================] - 183s 514ms/step - loss: 2.3681 - accuracy: 0.4981 - val_loss: 1.4328 - val_accuracy: 0.6469\n",
      "Epoch 2/30\n",
      "356/356 [==============================] - 153s 429ms/step - loss: 0.7295 - accuracy: 0.8265 - val_loss: 1.1865 - val_accuracy: 0.7109\n",
      "Epoch 3/30\n",
      "148/356 [===========>..................] - ETA: 1:27 - loss: 0.2860 - accuracy: 0.9472"
     ]
    }
   ],
   "source": [
    "count += 1\n",
    "history = model.fit(train_data.repeat(),\n",
    "                    epochs=num_epochs,\n",
    "                    steps_per_epoch = steps_per_epoch,\n",
    "                    validation_data=val_data.repeat(), \n",
    "                    validation_steps=val_steps)"
   ]
  },
  {
   "cell_type": "markdown",
   "metadata": {},
   "source": [
    "### Save the model"
   ]
  },
  {
   "cell_type": "code",
   "execution_count": 29,
   "metadata": {},
   "outputs": [
    {
     "name": "stdout",
     "output_type": "stream",
     "text": [
      "sample 30\n",
      "../models/_inceptionV3_epoch_30_without_dropout_sample.h5\n",
      "_inceptionV3_epoch_30_without_dropout_sample.h5\n"
     ]
    }
   ],
   "source": [
    "print(target_label, count * num_epochs)\n",
    "if basenetwork == \"inception\":\n",
    "    base_model_name = \"inceptionV3\"\n",
    "elif basenetwork == \"mobilenet\":\n",
    "    base_model_name = \"mobilenetV2\"\n",
    "save_name = \"../models/_\"+base_model_name+\"_epoch_\" + str(count * num_epochs) + \"_without_dropout_\" + target_label + \".h5\"\n",
    "# save_name = \"../models/_mobilenet_epoch_\" + str(count * num_epochs) + \"_without_dropout_\" + target_label + \".h5\"\n",
    "\n",
    "print(save_name)\n",
    "print(os.path.basename(save_name))"
   ]
  },
  {
   "cell_type": "code",
   "execution_count": 30,
   "metadata": {},
   "outputs": [],
   "source": [
    "# Save model weights\n",
    "# model.save_weights('../models/weights_epoch_30_nodrop_out.h5')\n",
    "model.save(save_name)"
   ]
  },
  {
   "cell_type": "code",
   "execution_count": 31,
   "metadata": {},
   "outputs": [
    {
     "name": "stdout",
     "output_type": "stream",
     "text": [
      "{'_inceptionV3_epoch_30_without_dropout_level0': {'model_name': '_inceptionV3_epoch_30_without_dropout_level0.h5', 'label_dict': {'0': '人像', '1': '可回收物', '2': '干垃圾', '3': '有害垃圾', '4': '湿垃圾'}, 'IMAGE_SIZE': 299}, '_mobilenetV2_epoch_30_without_dropout_level0': {'model_name': '_mobilenetV2_epoch_30_without_dropout_level0.h5', 'label_dict': {'0': '人像', '1': '可回收物', '2': '干垃圾', '3': '有害垃圾', '4': '湿垃圾'}, 'IMAGE_SIZE': 224}}\n"
     ]
    }
   ],
   "source": [
    "model_label_dict_conf = \"../models/model_label_dict.conf\"\n",
    "if os.path.exists(model_label_dict_conf) and os.stat(model_label_dict_conf).st_size != 0:\n",
    "    with open(model_label_dict_conf, 'r') as f:\n",
    "        _save_params = json.loads(f.read())\n",
    "        print(_save_params)\n",
    "else:\n",
    "    _save_params = {}"
   ]
  },
  {
   "cell_type": "code",
   "execution_count": 32,
   "metadata": {},
   "outputs": [],
   "source": [
    "if os.path.splitext(os.path.basename(save_name))[0] in _save_params.keys():\n",
    "    _save_param = _save_params[os.path.splitext(os.path.basename(save_name))[0]]\n",
    "else:\n",
    "    _save_param = {}\n",
    "\n",
    "_save_param['model_name'] = os.path.basename(save_name)\n",
    "_save_param['label_dict'] = level0_label_dict\n",
    "_save_param['IMAGE_SIZE'] = IMAGE_SIZE\n",
    "_save_params[os.path.splitext(os.path.basename(save_name))[0]] = _save_param\n",
    "with open(\"../models/model_label_dict.conf\", \"w\") as f:\n",
    "    _save_param_str = json.dumps(_save_params)\n",
    "    f.write(_save_param_str)"
   ]
  },
  {
   "cell_type": "code",
   "execution_count": null,
   "metadata": {},
   "outputs": [],
   "source": []
  },
  {
   "cell_type": "markdown",
   "metadata": {},
   "source": [
    "### Take a look on Accuracy and Loss curve."
   ]
  },
  {
   "cell_type": "code",
   "execution_count": 33,
   "metadata": {},
   "outputs": [
    {
     "data": {
      "image/png": "[encoded data removed]",
      "text/plain": [
       "<Figure size 576x576 with 2 Axes>"
      ]
     },
     "metadata": {
      "needs_background": "light"
     },
     "output_type": "display_data"
    }
   ],
   "source": [
    "acc = history.history['accuracy']\n",
    "val_acc = history.history['val_accuracy']\n",
    "\n",
    "loss = history.history['loss']\n",
    "val_loss = history.history['val_loss']\n",
    "\n",
    "plt.figure(figsize=(8, 8))\n",
    "plt.subplot(2, 1, 1)\n",
    "plt.plot(acc, label='Training Accuracy')\n",
    "plt.plot(val_acc, label='Validation Accuracy')\n",
    "plt.legend(loc='lower right')\n",
    "plt.ylabel('Accuracy')\n",
    "plt.title('Training and Validation Accuracy')\n",
    "\n",
    "plt.subplot(2, 1, 2)\n",
    "plt.plot(loss, label='Training Loss')\n",
    "plt.plot(val_loss, label='Validation Loss')\n",
    "plt.legend(loc='upper right')\n",
    "plt.ylabel('Sparse Cross Entropy')\n",
    "plt.title('Training and Validation Loss')\n",
    "plt.xlabel('epoch')\n",
    "plt.show()"
   ]
  },
  {
   "cell_type": "code",
   "execution_count": 34,
   "metadata": {},
   "outputs": [],
   "source": [
    "def _preprocess_imagefile(filename):\n",
    "    try:\n",
    "        # read file as byte\n",
    "        image_string = tf.io.read_file(filename)\n",
    "        # decode as string \n",
    "        image_decoded = tf.image.decode_jpeg(image_string, channels=3)\n",
    "        # image_decoded = tf.image.decode_gif(image_string)\n",
    "        ## P.S tf.image.decode_image return shapeless tensor.\n",
    "        # image_decoded = tf.image.decode_image(image_string)\n",
    "        \n",
    "        # resize to given image size\n",
    "        image_resized = tf.image.resize(image_decoded, (IMAGE_SIZE, IMAGE_SIZE))\n",
    "        # normailization\n",
    "        image_normalized = (tf.cast(image_resized, tf.float32)/127.5) - 1\n",
    "    \n",
    "        return image_normalized\n",
    "        \"\"\"image_casted = tf.cast(image_decoded, tf.float32)\n",
    "        image_resized = tf.image.resize(image_casted, (IMAGE_SIZE, IMAGE_SIZE))\n",
    "        image_preproc = tf.keras.applications.inception_v3.preprocess_input(image_resized)\n",
    "        \n",
    "        return image_preproc, label\"\"\"\n",
    "    \n",
    "    except Exception as e:\n",
    "        print(e)\n",
    "        print(filename)"
   ]
  },
  {
   "cell_type": "markdown",
   "metadata": {},
   "source": [
    "### Input some test sample to test"
   ]
  },
  {
   "cell_type": "code",
   "execution_count": 35,
   "metadata": {
    "scrolled": true
   },
   "outputs": [
    {
     "name": "stdout",
     "output_type": "stream",
     "text": [
      "../data/湿垃圾_剩菜剩饭_鱼骨_82.png\n",
      "湿垃圾\n",
      "[[1.78675000e-05 6.17150499e-06 6.40478567e-04 3.84017512e-05\n",
      "  1.33892763e-05 4.69808379e-04 1.28381886e-04 5.89934352e-04\n",
      "  4.22970345e-03 7.97943267e-06 1.09724380e-04 1.77242600e-05\n",
      "  1.75097175e-05 3.68790752e-05 3.26164190e-05 1.57337578e-04\n",
      "  4.71581698e-05 1.90723309e-04 1.19794677e-04 3.43648344e-06\n",
      "  4.48225655e-05 2.22326815e-03 2.96820303e-06 4.19681928e-05\n",
      "  3.97107624e-06 1.96632231e-04 3.71728238e-05 4.43380268e-05\n",
      "  2.67374679e-04 7.26354169e-03 1.97046399e-01 2.19336507e-04\n",
      "  2.37812375e-04 1.03747193e-03 4.16263908e-01 1.33606272e-05\n",
      "  8.51891036e-06 2.24245905e-05 4.80698473e-05 5.71482560e-05\n",
      "  4.01724428e-05 6.68701250e-05 7.55913206e-04 3.76291937e-05\n",
      "  3.02731729e-04 5.28872488e-06 2.13275227e-04 1.23099424e-04\n",
      "  1.47187529e-05 1.14829336e-05 5.50960685e-05 1.89540533e-05\n",
      "  3.90338028e-05 7.72182921e-06 1.05710915e-05 9.06847636e-05\n",
      "  2.54115177e-04 4.31165245e-04 1.11986545e-03 3.86357424e-05\n",
      "  2.15256267e-04 2.18884135e-03 5.62065834e-05 3.02795961e-05\n",
      "  6.63367100e-05 7.30607644e-05 1.95992499e-04 2.08039284e-01\n",
      "  8.46799012e-05 2.61131534e-03 2.34470659e-04 2.11207998e-06\n",
      "  4.03309605e-06 1.47101673e-05 1.86779671e-05 7.14937923e-05\n",
      "  3.74961528e-05 6.12993681e-05 1.61521064e-04 5.86840906e-05\n",
      "  3.55674674e-05 9.19640024e-06 2.29306879e-05 7.59311952e-05\n",
      "  1.26918865e-04 1.27874246e-05 7.58520588e-02 6.76442432e-05\n",
      "  3.09060793e-02 1.35377666e-03 2.46912590e-04 4.77806316e-05\n",
      "  3.17677768e-05 9.13585391e-05 2.13834755e-05 2.63854618e-05\n",
      "  1.02679944e-04 3.96755786e-05 3.33911375e-05 4.90764389e-04\n",
      "  1.73166947e-04 1.23993645e-03 1.74698180e-05 5.74804144e-05\n",
      "  7.07015788e-05 1.03518437e-06 1.10841436e-04 2.03103882e-05\n",
      "  3.17536906e-05 4.89526792e-05 3.51517192e-05 1.31547822e-05\n",
      "  5.52365345e-05 2.76860810e-05 1.26173533e-02 2.22172166e-05\n",
      "  1.17541291e-04 6.59087891e-05 2.40707217e-04 7.55051815e-06\n",
      "  1.12259330e-03 9.33864503e-05 1.11423224e-05 9.76238789e-06\n",
      "  9.72388807e-05 2.55581599e-05 8.26619871e-05 1.23665042e-04\n",
      "  4.27351770e-04 5.47235868e-05 4.23963356e-05 9.09631897e-04\n",
      "  1.74151264e-05 2.33753290e-05 9.40884638e-05 9.48792032e-04\n",
      "  2.96664378e-03 1.64353813e-04 5.43145034e-05 3.54127915e-05\n",
      "  2.12719951e-05 3.71412694e-04 3.42171523e-04 5.66477975e-05\n",
      "  4.34003305e-04 1.31647221e-05 2.19434314e-05 2.85938240e-05\n",
      "  2.45574688e-06 9.58703367e-06 5.31220758e-05 1.02860969e-04\n",
      "  5.14053027e-05 1.67306438e-02 5.85239140e-05 1.02792474e-05]]\n",
      "成分复杂的制品\n"
     ]
    }
   ],
   "source": [
    "random_filename = np.random.choice(test_filenames)\n",
    "print(random_filename)\n",
    "basename = random_filename.split(\"/\")[-1].split(\".\")[0]\n",
    "name_seg = basename.split(\"_\")\n",
    "sub_id = name_seg.pop()\n",
    "sample = name_seg.pop()\n",
    "labels = {\"level\"+str(i):l for i,l in enumerate(name_seg)}\n",
    "print(labels['level0'])\n",
    "random_x = _preprocess_imagefile(random_filename)\n",
    "# print(random_x)\n",
    "pred_y = model.predict(tf.expand_dims(random_x, axis=0))\n",
    "print(pred_y)\n",
    "print(labelencoder.classes_[pred_y.argmax()])"
   ]
  },
  {
   "cell_type": "code",
   "execution_count": null,
   "metadata": {},
   "outputs": [],
   "source": []
  },
  {
   "cell_type": "code",
   "execution_count": null,
   "metadata": {},
   "outputs": [],
   "source": []
  }
 ],
 "metadata": {
  "kernelspec": {
   "display_name": "Python 3",
   "language": "python",
   "name": "python3"
  },
  "language_info": {
   "codemirror_mode": {
    "name": "ipython",
    "version": 3
   },
   "file_extension": ".py",
   "mimetype": "text/x-python",
   "name": "python",
   "nbconvert_exporter": "python",
   "pygments_lexer": "ipython3",
   "version": "3.6.5"
  }
 },
 "nbformat": 4,
 "nbformat_minor": 2
}
