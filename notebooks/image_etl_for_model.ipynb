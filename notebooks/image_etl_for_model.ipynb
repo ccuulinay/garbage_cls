{
 "cells": [
  {
   "cell_type": "code",
   "execution_count": 1,
   "metadata": {},
   "outputs": [
    {
     "data": {
      "text/plain": [
       "'UTF-8'"
      ]
     },
     "execution_count": 1,
     "metadata": {},
     "output_type": "execute_result"
    }
   ],
   "source": [
    "import locale\n",
    "locale.getpreferredencoding()"
   ]
  },
  {
   "cell_type": "code",
   "execution_count": 2,
   "metadata": {},
   "outputs": [],
   "source": [
    "# import glob\n",
    "import os\n",
    "import pathlib\n",
    "import pandas as pd\n",
    "import numpy as np\n",
    "import tensorflow as tf\n",
    "import pandas as pd\n",
    "import matplotlib.pyplot as plt\n",
    "from sklearn.model_selection import train_test_split\n",
    "from IPython.display import Image, display\n",
    "import cv2\n",
    "import magic\n",
    "%matplotlib inline"
   ]
  },
  {
   "cell_type": "code",
   "execution_count": 5,
   "metadata": {},
   "outputs": [],
   "source": [
    "def is_readable_image_data(data_file):\n",
    "    import magic\n",
    "    try:\n",
    "        magic_msg = magic.from_file(str(data_file))\n",
    "    except Exception as e:\n",
    "        print(e)\n",
    "        return False\n",
    "    if (\n",
    "        magic_msg.startswith(\"JPEG image data\") \n",
    "        or magic_msg.startswith(\"PNG image data\") \n",
    "        # or magic_msg.startswith(\"GIF image data\")\n",
    "       ):\n",
    "        return True\n",
    "    else:\n",
    "        return False\n",
    "\n",
    "def preprocess_image(image):\n",
    "    image = tf.image.decode_jpeg(image, channels=3)\n",
    "    return image\n",
    "\n",
    "def load_and_preprocess_image(path):\n",
    "    image = tf.io.read_file(path)\n",
    "    return preprocess_image(image)\n",
    "\n",
    "def is_completed_image(path):\n",
    "    try:\n",
    "        load_and_preprocess_image(path)\n",
    "        return True\n",
    "    except Exception as e:\n",
    "        return False\n",
    "\n",
    "def get_corrupted_image_files(file_list):\n",
    "    cr_list = []\n",
    "    \n",
    "    for i, f in enumerate(filenames):\n",
    "        try:\n",
    "            load_and_preprocess_image(f)\n",
    "        except Exception as e:\n",
    "            cr_list.append((i, f))\n",
    "            \n",
    "    return cr_list\n",
    "\n",
    "\n",
    "def _filename_csv(data_path, city, output_name=None):\n",
    "    data_city_path = data_path+ \"/\"+city\n",
    "    data_p = pathlib.Path(data_city_path)\n",
    "    images_list = [str(p) for p in list(data_p.glob(\"./*\"))]\n",
    "    images_list = [str(p) for p in list(data_p.glob(\"./*\"))]\n",
    "    filenames_list = [p.name for p in list(data_p.glob(\"./*\"))]\n",
    "    suffixes_list = [p.suffix for p in list(data_p.glob(\"./*\"))]\n",
    "    \n",
    "    # Parse classes from filename\n",
    "\n",
    "    r_list = []\n",
    "    for i, a in enumerate(filenames_list):\n",
    "        # print(a)\n",
    "        try:\n",
    "            ext = suffixes_list[i]\n",
    "            basename = a.split(\".\")[0]\n",
    "            # print(basename)\n",
    "            name_seg = basename.split(\"_\")\n",
    "            sub_id = name_seg.pop()\n",
    "            sample = name_seg.pop()\n",
    "            labels = {\"level\"+str(i):l for i,l in enumerate(name_seg)}\n",
    "            r = {\"_filename\": a, \"_format\": ext, \"sample\": sample, \"spider_id\": sub_id, \"city\": city}\n",
    "            res = {**r, **labels}\n",
    "            # print(res)\n",
    "            r_list.append(res)\n",
    "        except:\n",
    "            print(i)\n",
    "    r_df = pd.DataFrame(r_list)\n",
    "    r_df['is_readable_image'] = r_df.apply(lambda x: is_readable_image_data(str(data_path+\"/\"+x['city']+\"/\"+x['_filename'])), axis=1)\n",
    "    r_df['is_completed_image'] = r_df.apply(lambda x: is_completed_image(str(data_path+\"/\"+x['city']+\"/\"+x['_filename'])), axis=1)\n",
    "    if output_name:\n",
    "        r_df.to_csv(output_name, index=False)\n",
    "    else:\n",
    "        r_df.to_csv(\"../_\"+city+\"_filename_dict.csv\", index=False)\n",
    "    return r_df"
   ]
  },
  {
   "cell_type": "code",
   "execution_count": 6,
   "metadata": {},
   "outputs": [
    {
     "name": "stdout",
     "output_type": "stream",
     "text": [
      "b'JPEG image data, JFIF standard 1.01, resolution (DPI), density 96x96, segment length 16, Exif Standard: [TIFF image data, little-endian, direntries=15, manufacturer=Canon, model=Canon EOS 5D Mark III, orientation=upper-left, xresolution=8, yresolution=16, resolutionunit=2, datetime=2016:04:05 19:09:18, GPS-Data] name use count (30) exceeded'\n",
      "b'JPEG image data, Exif standard: [TIFF image data, big-endian, direntries=16, height=1119, bps=0, compression=none, PhotometricIntepretation=CMYK, manufacturer=Mamiya-OP Co.,Ltd., model=MAMIYA ZD, orientation=upper-left, width=840] name use count (30) exceeded'\n"
     ]
    }
   ],
   "source": [
    "gz_rf = _filename_csv(\"../data\", \"gz\")\n",
    "sh_rf = _filename_csv(\"../data\", \"sh\")"
   ]
  },
  {
   "cell_type": "code",
   "execution_count": 11,
   "metadata": {},
   "outputs": [
    {
     "name": "stdout",
     "output_type": "stream",
     "text": [
      "['其他垃圾' '厨余垃圾' '有害垃圾' '可回收物' '人像']\n",
      "['干垃圾' '湿垃圾' '有害垃圾' '可回收物' '人像']\n"
     ]
    }
   ],
   "source": [
    "print(gz_rf.level0.unique())\n",
    "print(sh_rf.level0.unique())"
   ]
  },
  {
   "cell_type": "code",
   "execution_count": 19,
   "metadata": {},
   "outputs": [],
   "source": [
    "general_rf = pd.concat([gz_rf, sh_rf], axis=0, ignore_index=True)"
   ]
  },
  {
   "cell_type": "code",
   "execution_count": 20,
   "metadata": {},
   "outputs": [],
   "source": [
    "general_lv0_mapping = {\n",
    "    \"干垃圾\": \"其他垃圾\"\n",
    "    , \"湿垃圾\": \"厨余垃圾\"\n",
    "    , \"其他垃圾\": \"其他垃圾\"\n",
    "    , \"厨余垃圾\": \"厨余垃圾\"\n",
    "    , \"有害垃圾\": \"有害垃圾\"\n",
    "    , \"可回收物\": \"可回收物\"\n",
    "    , \"人像\": \"人像\"\n",
    "}\n",
    "\n",
    "general_rf['general_level0'] = general_rf['level0'].map(general_lv0_mapping)"
   ]
  },
  {
   "cell_type": "code",
   "execution_count": 21,
   "metadata": {},
   "outputs": [
    {
     "data": {
      "text/html": [
       "<div>\n",
       "<style scoped>\n",
       "    .dataframe tbody tr th:only-of-type {\n",
       "        vertical-align: middle;\n",
       "    }\n",
       "\n",
       "    .dataframe tbody tr th {\n",
       "        vertical-align: top;\n",
       "    }\n",
       "\n",
       "    .dataframe thead th {\n",
       "        text-align: right;\n",
       "    }\n",
       "</style>\n",
       "<table border=\"1\" class=\"dataframe\">\n",
       "  <thead>\n",
       "    <tr style=\"text-align: right;\">\n",
       "      <th></th>\n",
       "      <th>_filename</th>\n",
       "      <th>_format</th>\n",
       "      <th>sample</th>\n",
       "      <th>spider_id</th>\n",
       "      <th>city</th>\n",
       "      <th>level0</th>\n",
       "      <th>level1</th>\n",
       "      <th>is_readable_image</th>\n",
       "      <th>is_completed_image</th>\n",
       "      <th>general_level0</th>\n",
       "    </tr>\n",
       "  </thead>\n",
       "  <tbody>\n",
       "    <tr>\n",
       "      <td>0</td>\n",
       "      <td>其他垃圾_水果硬壳_椰子壳_37.jpg</td>\n",
       "      <td>.jpg</td>\n",
       "      <td>椰子壳</td>\n",
       "      <td>37</td>\n",
       "      <td>gz</td>\n",
       "      <td>其他垃圾</td>\n",
       "      <td>水果硬壳</td>\n",
       "      <td>True</td>\n",
       "      <td>True</td>\n",
       "      <td>其他垃圾</td>\n",
       "    </tr>\n",
       "    <tr>\n",
       "      <td>1</td>\n",
       "      <td>其他垃圾_混杂_土培植物_26.jpg</td>\n",
       "      <td>.jpg</td>\n",
       "      <td>土培植物</td>\n",
       "      <td>26</td>\n",
       "      <td>gz</td>\n",
       "      <td>其他垃圾</td>\n",
       "      <td>混杂</td>\n",
       "      <td>True</td>\n",
       "      <td>True</td>\n",
       "      <td>其他垃圾</td>\n",
       "    </tr>\n",
       "    <tr>\n",
       "      <td>2</td>\n",
       "      <td>厨余垃圾_糖果糕点_糖果_25.jpg</td>\n",
       "      <td>.jpg</td>\n",
       "      <td>糖果</td>\n",
       "      <td>25</td>\n",
       "      <td>gz</td>\n",
       "      <td>厨余垃圾</td>\n",
       "      <td>糖果糕点</td>\n",
       "      <td>True</td>\n",
       "      <td>True</td>\n",
       "      <td>厨余垃圾</td>\n",
       "    </tr>\n",
       "    <tr>\n",
       "      <td>3</td>\n",
       "      <td>其他垃圾_坚果_核桃壳_28.jpg</td>\n",
       "      <td>.jpg</td>\n",
       "      <td>核桃壳</td>\n",
       "      <td>28</td>\n",
       "      <td>gz</td>\n",
       "      <td>其他垃圾</td>\n",
       "      <td>坚果</td>\n",
       "      <td>True</td>\n",
       "      <td>True</td>\n",
       "      <td>其他垃圾</td>\n",
       "    </tr>\n",
       "    <tr>\n",
       "      <td>4</td>\n",
       "      <td>其他垃圾_废旧衣服及其他纺织品_内衣裤_46.jpg</td>\n",
       "      <td>.jpg</td>\n",
       "      <td>内衣裤</td>\n",
       "      <td>46</td>\n",
       "      <td>gz</td>\n",
       "      <td>其他垃圾</td>\n",
       "      <td>废旧衣服及其他纺织品</td>\n",
       "      <td>True</td>\n",
       "      <td>True</td>\n",
       "      <td>其他垃圾</td>\n",
       "    </tr>\n",
       "  </tbody>\n",
       "</table>\n",
       "</div>"
      ],
      "text/plain": [
       "                    _filename _format sample spider_id city level0  \\\n",
       "0        其他垃圾_水果硬壳_椰子壳_37.jpg    .jpg    椰子壳        37   gz   其他垃圾   \n",
       "1         其他垃圾_混杂_土培植物_26.jpg    .jpg   土培植物        26   gz   其他垃圾   \n",
       "2         厨余垃圾_糖果糕点_糖果_25.jpg    .jpg     糖果        25   gz   厨余垃圾   \n",
       "3          其他垃圾_坚果_核桃壳_28.jpg    .jpg    核桃壳        28   gz   其他垃圾   \n",
       "4  其他垃圾_废旧衣服及其他纺织品_内衣裤_46.jpg    .jpg    内衣裤        46   gz   其他垃圾   \n",
       "\n",
       "       level1  is_readable_image  is_completed_image general_level0  \n",
       "0        水果硬壳               True                True           其他垃圾  \n",
       "1          混杂               True                True           其他垃圾  \n",
       "2        糖果糕点               True                True           厨余垃圾  \n",
       "3          坚果               True                True           其他垃圾  \n",
       "4  废旧衣服及其他纺织品               True                True           其他垃圾  "
      ]
     },
     "execution_count": 21,
     "metadata": {},
     "output_type": "execute_result"
    }
   ],
   "source": [
    "general_rf.head()"
   ]
  },
  {
   "cell_type": "code",
   "execution_count": 22,
   "metadata": {},
   "outputs": [],
   "source": [
    "general_rf.to_csv(\"../_general_filename_dict.csv\", index=False)"
   ]
  },
  {
   "cell_type": "code",
   "execution_count": 23,
   "metadata": {},
   "outputs": [
    {
     "data": {
      "text/plain": [
       "(22752, 10)"
      ]
     },
     "execution_count": 23,
     "metadata": {},
     "output_type": "execute_result"
    }
   ],
   "source": [
    "general_rf.shape"
   ]
  },
  {
   "cell_type": "code",
   "execution_count": null,
   "metadata": {},
   "outputs": [],
   "source": []
  },
  {
   "cell_type": "code",
   "execution_count": null,
   "metadata": {},
   "outputs": [],
   "source": []
  },
  {
   "cell_type": "code",
   "execution_count": null,
   "metadata": {},
   "outputs": [],
   "source": []
  },
  {
   "cell_type": "code",
   "execution_count": 19,
   "metadata": {},
   "outputs": [],
   "source": [
    "\n",
    "data_path = \"../data\"\n",
    "city = \"gz\"\n",
    "data_city_path = data_path+ \"/\"+city\n",
    "\n",
    "data_p = pathlib.Path(data_city_path)"
   ]
  },
  {
   "cell_type": "code",
   "execution_count": 20,
   "metadata": {},
   "outputs": [],
   "source": [
    "images_list = [str(p) for p in list(data_p.glob(\"./*\"))]"
   ]
  },
  {
   "cell_type": "code",
   "execution_count": 21,
   "metadata": {},
   "outputs": [
    {
     "name": "stdout",
     "output_type": "stream",
     "text": [
      "../data/gz/其他垃圾_水果硬壳_椰子壳_37.jpg\n"
     ]
    }
   ],
   "source": [
    "print(images_list[0])"
   ]
  },
  {
   "cell_type": "code",
   "execution_count": 22,
   "metadata": {},
   "outputs": [],
   "source": [
    "images_list = [str(p) for p in list(data_p.glob(\"./*\"))]\n",
    "filenames_list = [p.name for p in list(data_p.glob(\"./*\"))]\n",
    "suffixes_list = [p.suffix for p in list(data_p.glob(\"./*\"))]"
   ]
  },
  {
   "cell_type": "code",
   "execution_count": 23,
   "metadata": {},
   "outputs": [
    {
     "name": "stdout",
     "output_type": "stream",
     "text": [
      "True\n",
      "8250\n"
     ]
    }
   ],
   "source": [
    "# Check length\n",
    "print(len(images_list) == len(filenames_list) == len(suffixes_list))\n",
    "print(len(images_list))"
   ]
  },
  {
   "cell_type": "code",
   "execution_count": 24,
   "metadata": {},
   "outputs": [],
   "source": [
    "# Parse classes from filename\n",
    "\n",
    "r_list = []\n",
    "for i, a in enumerate(filenames_list):\n",
    "    # print(a)\n",
    "    try:\n",
    "        ext = suffixes_list[i]\n",
    "        basename = a.split(\".\")[0]\n",
    "        # print(basename)\n",
    "        name_seg = basename.split(\"_\")\n",
    "        sub_id = name_seg.pop()\n",
    "        sample = name_seg.pop()\n",
    "        labels = {\"level\"+str(i):l for i,l in enumerate(name_seg)}\n",
    "        r = {\"_filename\": a, \"_format\": ext, \"sample\": sample, \"spider_id\": sub_id, \"city\": city}\n",
    "        res = {**r, **labels}\n",
    "        # print(res)\n",
    "        r_list.append(res)\n",
    "    except:\n",
    "        print(i)"
   ]
  },
  {
   "cell_type": "code",
   "execution_count": 25,
   "metadata": {},
   "outputs": [],
   "source": [
    "r_df = pd.DataFrame(r_list)"
   ]
  },
  {
   "cell_type": "code",
   "execution_count": 26,
   "metadata": {},
   "outputs": [
    {
     "data": {
      "text/html": [
       "<div>\n",
       "<style scoped>\n",
       "    .dataframe tbody tr th:only-of-type {\n",
       "        vertical-align: middle;\n",
       "    }\n",
       "\n",
       "    .dataframe tbody tr th {\n",
       "        vertical-align: top;\n",
       "    }\n",
       "\n",
       "    .dataframe thead th {\n",
       "        text-align: right;\n",
       "    }\n",
       "</style>\n",
       "<table border=\"1\" class=\"dataframe\">\n",
       "  <thead>\n",
       "    <tr style=\"text-align: right;\">\n",
       "      <th></th>\n",
       "      <th>_filename</th>\n",
       "      <th>_format</th>\n",
       "      <th>sample</th>\n",
       "      <th>spider_id</th>\n",
       "      <th>city</th>\n",
       "      <th>level0</th>\n",
       "      <th>level1</th>\n",
       "    </tr>\n",
       "  </thead>\n",
       "  <tbody>\n",
       "    <tr>\n",
       "      <td>0</td>\n",
       "      <td>其他垃圾_水果硬壳_椰子壳_37.jpg</td>\n",
       "      <td>.jpg</td>\n",
       "      <td>椰子壳</td>\n",
       "      <td>37</td>\n",
       "      <td>gz</td>\n",
       "      <td>其他垃圾</td>\n",
       "      <td>水果硬壳</td>\n",
       "    </tr>\n",
       "    <tr>\n",
       "      <td>1</td>\n",
       "      <td>其他垃圾_混杂_土培植物_26.jpg</td>\n",
       "      <td>.jpg</td>\n",
       "      <td>土培植物</td>\n",
       "      <td>26</td>\n",
       "      <td>gz</td>\n",
       "      <td>其他垃圾</td>\n",
       "      <td>混杂</td>\n",
       "    </tr>\n",
       "    <tr>\n",
       "      <td>2</td>\n",
       "      <td>厨余垃圾_糖果糕点_糖果_25.jpg</td>\n",
       "      <td>.jpg</td>\n",
       "      <td>糖果</td>\n",
       "      <td>25</td>\n",
       "      <td>gz</td>\n",
       "      <td>厨余垃圾</td>\n",
       "      <td>糖果糕点</td>\n",
       "    </tr>\n",
       "    <tr>\n",
       "      <td>3</td>\n",
       "      <td>其他垃圾_坚果_核桃壳_28.jpg</td>\n",
       "      <td>.jpg</td>\n",
       "      <td>核桃壳</td>\n",
       "      <td>28</td>\n",
       "      <td>gz</td>\n",
       "      <td>其他垃圾</td>\n",
       "      <td>坚果</td>\n",
       "    </tr>\n",
       "    <tr>\n",
       "      <td>4</td>\n",
       "      <td>其他垃圾_废旧衣服及其他纺织品_内衣裤_46.jpg</td>\n",
       "      <td>.jpg</td>\n",
       "      <td>内衣裤</td>\n",
       "      <td>46</td>\n",
       "      <td>gz</td>\n",
       "      <td>其他垃圾</td>\n",
       "      <td>废旧衣服及其他纺织品</td>\n",
       "    </tr>\n",
       "  </tbody>\n",
       "</table>\n",
       "</div>"
      ],
      "text/plain": [
       "                    _filename _format sample spider_id city level0      level1\n",
       "0        其他垃圾_水果硬壳_椰子壳_37.jpg    .jpg    椰子壳        37   gz   其他垃圾        水果硬壳\n",
       "1         其他垃圾_混杂_土培植物_26.jpg    .jpg   土培植物        26   gz   其他垃圾          混杂\n",
       "2         厨余垃圾_糖果糕点_糖果_25.jpg    .jpg     糖果        25   gz   厨余垃圾        糖果糕点\n",
       "3          其他垃圾_坚果_核桃壳_28.jpg    .jpg    核桃壳        28   gz   其他垃圾          坚果\n",
       "4  其他垃圾_废旧衣服及其他纺织品_内衣裤_46.jpg    .jpg    内衣裤        46   gz   其他垃圾  废旧衣服及其他纺织品"
      ]
     },
     "execution_count": 26,
     "metadata": {},
     "output_type": "execute_result"
    }
   ],
   "source": [
    "r_df.head()"
   ]
  },
  {
   "cell_type": "code",
   "execution_count": 27,
   "metadata": {},
   "outputs": [],
   "source": [
    "def is_readable_image_data(data_file):\n",
    "    import magic\n",
    "    try:\n",
    "        magic_msg = magic.from_file(str(data_file))\n",
    "    except Exception as e:\n",
    "        print(e)\n",
    "        return False\n",
    "    if (\n",
    "        magic_msg.startswith(\"JPEG image data\") \n",
    "        or magic_msg.startswith(\"PNG image data\") \n",
    "        # or magic_msg.startswith(\"GIF image data\")\n",
    "       ):\n",
    "        return True\n",
    "    else:\n",
    "        return False"
   ]
  },
  {
   "cell_type": "code",
   "execution_count": 33,
   "metadata": {},
   "outputs": [
    {
     "name": "stdout",
     "output_type": "stream",
     "text": [
      "b'JPEG image data, JFIF standard 1.01, resolution (DPI), density 96x96, segment length 16, Exif Standard: [TIFF image data, little-endian, direntries=15, manufacturer=Canon, model=Canon EOS 5D Mark III, orientation=upper-left, xresolution=8, yresolution=16, resolutionunit=2, datetime=2016:04:05 19:09:18, GPS-Data] name use count (30) exceeded'\n"
     ]
    }
   ],
   "source": [
    "r_df['is_readable_image'] = r_df.apply(lambda x: is_readable_image_data(str(data_path+\"/\"+x['city']+\"/\"+x['_filename'])), axis=1)"
   ]
  },
  {
   "cell_type": "code",
   "execution_count": 37,
   "metadata": {},
   "outputs": [
    {
     "name": "stdout",
     "output_type": "stream",
     "text": [
      "(148, 8)\n"
     ]
    },
    {
     "data": {
      "text/html": [
       "<div>\n",
       "<style scoped>\n",
       "    .dataframe tbody tr th:only-of-type {\n",
       "        vertical-align: middle;\n",
       "    }\n",
       "\n",
       "    .dataframe tbody tr th {\n",
       "        vertical-align: top;\n",
       "    }\n",
       "\n",
       "    .dataframe thead th {\n",
       "        text-align: right;\n",
       "    }\n",
       "</style>\n",
       "<table border=\"1\" class=\"dataframe\">\n",
       "  <thead>\n",
       "    <tr style=\"text-align: right;\">\n",
       "      <th></th>\n",
       "      <th>_filename</th>\n",
       "      <th>_format</th>\n",
       "      <th>sample</th>\n",
       "      <th>spider_id</th>\n",
       "      <th>city</th>\n",
       "      <th>level0</th>\n",
       "      <th>level1</th>\n",
       "      <th>is_readable_image</th>\n",
       "    </tr>\n",
       "  </thead>\n",
       "  <tbody>\n",
       "    <tr>\n",
       "      <td>30</td>\n",
       "      <td>其他垃圾_混杂_废弃化妆品_27.jpg</td>\n",
       "      <td>.jpg</td>\n",
       "      <td>废弃化妆品</td>\n",
       "      <td>27</td>\n",
       "      <td>gz</td>\n",
       "      <td>其他垃圾</td>\n",
       "      <td>混杂</td>\n",
       "      <td>False</td>\n",
       "    </tr>\n",
       "    <tr>\n",
       "      <td>135</td>\n",
       "      <td>可回收物_废织物_手提包_29.jpg</td>\n",
       "      <td>.jpg</td>\n",
       "      <td>手提包</td>\n",
       "      <td>29</td>\n",
       "      <td>gz</td>\n",
       "      <td>可回收物</td>\n",
       "      <td>废织物</td>\n",
       "      <td>False</td>\n",
       "    </tr>\n",
       "    <tr>\n",
       "      <td>140</td>\n",
       "      <td>可回收物_废金属_金属元件_1.jpg</td>\n",
       "      <td>.jpg</td>\n",
       "      <td>金属元件</td>\n",
       "      <td>1</td>\n",
       "      <td>gz</td>\n",
       "      <td>可回收物</td>\n",
       "      <td>废金属</td>\n",
       "      <td>False</td>\n",
       "    </tr>\n",
       "    <tr>\n",
       "      <td>220</td>\n",
       "      <td>可回收物_废织物_床单_24.jpg</td>\n",
       "      <td>.jpg</td>\n",
       "      <td>床单</td>\n",
       "      <td>24</td>\n",
       "      <td>gz</td>\n",
       "      <td>可回收物</td>\n",
       "      <td>废织物</td>\n",
       "      <td>False</td>\n",
       "    </tr>\n",
       "    <tr>\n",
       "      <td>249</td>\n",
       "      <td>可回收物_废玻璃_玻璃盘_41.jpg</td>\n",
       "      <td>.jpg</td>\n",
       "      <td>玻璃盘</td>\n",
       "      <td>41</td>\n",
       "      <td>gz</td>\n",
       "      <td>可回收物</td>\n",
       "      <td>废玻璃</td>\n",
       "      <td>False</td>\n",
       "    </tr>\n",
       "  </tbody>\n",
       "</table>\n",
       "</div>"
      ],
      "text/plain": [
       "                _filename _format sample spider_id city level0 level1  \\\n",
       "30   其他垃圾_混杂_废弃化妆品_27.jpg    .jpg  废弃化妆品        27   gz   其他垃圾     混杂   \n",
       "135   可回收物_废织物_手提包_29.jpg    .jpg    手提包        29   gz   可回收物    废织物   \n",
       "140   可回收物_废金属_金属元件_1.jpg    .jpg   金属元件         1   gz   可回收物    废金属   \n",
       "220    可回收物_废织物_床单_24.jpg    .jpg     床单        24   gz   可回收物    废织物   \n",
       "249   可回收物_废玻璃_玻璃盘_41.jpg    .jpg    玻璃盘        41   gz   可回收物    废玻璃   \n",
       "\n",
       "     is_readable_image  \n",
       "30               False  \n",
       "135              False  \n",
       "140              False  \n",
       "220              False  \n",
       "249              False  "
      ]
     },
     "execution_count": 37,
     "metadata": {},
     "output_type": "execute_result"
    }
   ],
   "source": [
    "print(r_df[~r_df['is_readable_image']].shape)\n",
    "r_df[~r_df['is_readable_image']].head()"
   ]
  },
  {
   "cell_type": "code",
   "execution_count": 38,
   "metadata": {},
   "outputs": [
    {
     "name": "stdout",
     "output_type": "stream",
     "text": [
      "(8250, 8)\n",
      "True     8102\n",
      "False     148\n",
      "Name: is_readable_image, dtype: int64\n"
     ]
    }
   ],
   "source": [
    "print(r_df.shape)\n",
    "print(r_df['is_readable_image'].value_counts())"
   ]
  },
  {
   "cell_type": "code",
   "execution_count": 42,
   "metadata": {},
   "outputs": [],
   "source": [
    "filenames = [data_path + \"/\" +fname for fname in (r_df['city'] + \"/\" +r_df['_filename']).tolist()]\n",
    "\n",
    "def preprocess_image(image):\n",
    "    image = tf.image.decode_jpeg(image, channels=3)\n",
    "    return image\n",
    "\n",
    "def load_and_preprocess_image(path):\n",
    "    image = tf.io.read_file(path)\n",
    "    return preprocess_image(image)\n",
    "\n",
    "def is_completed_image(path):\n",
    "    try:\n",
    "        load_and_preprocess_image(path)\n",
    "        return True\n",
    "    except Exception as e:\n",
    "        return False\n",
    "\n",
    "def get_corrupted_image_files(file_list):\n",
    "    cr_list = []\n",
    "    \n",
    "    for i, f in enumerate(filenames):\n",
    "        try:\n",
    "            load_and_preprocess_image(f)\n",
    "        except Exception as e:\n",
    "            cr_list.append((i, f))\n",
    "            \n",
    "    return cr_list\n",
    "\n",
    "# corrupted_images = get_corrupted_image_files(filenames)\n",
    "r_df['is_completed_image'] = r_df.apply(lambda x: is_completed_image(str(data_path+\"/\"+x['city']+\"/\"+x['_filename'])), axis=1)"
   ]
  },
  {
   "cell_type": "code",
   "execution_count": 44,
   "metadata": {},
   "outputs": [],
   "source": [
    "r_df.to_csv(\"../_\"+city+\"_filename_dict.csv\", index=False)"
   ]
  },
  {
   "cell_type": "code",
   "execution_count": 45,
   "metadata": {},
   "outputs": [
    {
     "data": {
      "text/plain": [
       "可回收物    2403\n",
       "其他垃圾    2185\n",
       "人像      1500\n",
       "有害垃圾    1141\n",
       "厨余垃圾    1021\n",
       "Name: level0, dtype: int64"
      ]
     },
     "execution_count": 45,
     "metadata": {},
     "output_type": "execute_result"
    }
   ],
   "source": [
    "r_df['level0'].value_counts()"
   ]
  },
  {
   "cell_type": "code",
   "execution_count": 46,
   "metadata": {},
   "outputs": [
    {
     "name": "stdout",
     "output_type": "stream",
     "text": [
      "2\n"
     ]
    }
   ],
   "source": [
    "a = {}\n",
    "if a:\n",
    "    print(1)\n",
    "else:\n",
    "    print(2)"
   ]
  }
 ],
 "metadata": {
  "kernelspec": {
   "display_name": "Python 3",
   "language": "python",
   "name": "python3"
  },
  "language_info": {
   "codemirror_mode": {
    "name": "ipython",
    "version": 3
   },
   "file_extension": ".py",
   "mimetype": "text/x-python",
   "name": "python",
   "nbconvert_exporter": "python",
   "pygments_lexer": "ipython3",
   "version": "3.6.5"
  }
 },
 "nbformat": 4,
 "nbformat_minor": 2
}
