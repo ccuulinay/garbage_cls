{
 "cells": [
  {
   "cell_type": "code",
   "execution_count": 629,
   "metadata": {},
   "outputs": [],
   "source": [
    "import os\n",
    "import sys\n",
    "module_path = os.path.abspath(os.path.join('../spiders/'))\n",
    "if module_path not in sys.path:\n",
    "    sys.path.append(module_path)"
   ]
  },
  {
   "cell_type": "code",
   "execution_count": 630,
   "metadata": {},
   "outputs": [],
   "source": [
    "import pandas as pd\n",
    "import numpy as np\n",
    "import copy\n",
    "import networkx as nx\n",
    "import matplotlib.pyplot as plt\n",
    "import logging\n",
    "\n",
    "plt.rcParams['font.sans-serif'] = ['Arial Unicode MS']\n",
    "%matplotlib inline"
   ]
  },
  {
   "cell_type": "code",
   "execution_count": null,
   "metadata": {},
   "outputs": [],
   "source": []
  },
  {
   "cell_type": "code",
   "execution_count": 631,
   "metadata": {},
   "outputs": [
    {
     "data": {
      "text/plain": [
       "<module 'category.categories_service' from '/Users/ccuulinay/github_proj/garbage_classification/category/categories_service.py'>"
      ]
     },
     "execution_count": 631,
     "metadata": {},
     "output_type": "execute_result"
    }
   ],
   "source": [
    "from category import categories\n",
    "import images_downloader\n",
    "from category import  categories_service\n",
    "import importlib\n",
    "\n",
    "importlib.reload(categories)\n",
    "importlib.reload(images_downloader)\n",
    "importlib.reload(categories_service)"
   ]
  },
  {
   "cell_type": "code",
   "execution_count": 632,
   "metadata": {},
   "outputs": [],
   "source": [
    "from category.categories import SH_GARBAGE_CLS_CAT, GZ_GARBAGE_CLS_CAT"
   ]
  },
  {
   "cell_type": "code",
   "execution_count": 633,
   "metadata": {},
   "outputs": [],
   "source": [
    "sh_names = categories_service.parse_cls_cats(SH_GARBAGE_CLS_CAT)\n",
    "gz_names = categories_service.parse_cls_cats(GZ_GARBAGE_CLS_CAT)"
   ]
  },
  {
   "cell_type": "code",
   "execution_count": null,
   "metadata": {},
   "outputs": [],
   "source": []
  },
  {
   "cell_type": "code",
   "execution_count": 634,
   "metadata": {},
   "outputs": [],
   "source": [
    "_gz_samples = [t for t in gz_names if t[-1] == 'SMLP']"
   ]
  },
  {
   "cell_type": "code",
   "execution_count": 635,
   "metadata": {},
   "outputs": [],
   "source": [
    "_sh_samples = [t for t in sh_names if t[-1] == 'SMLP']"
   ]
  },
  {
   "cell_type": "code",
   "execution_count": 636,
   "metadata": {},
   "outputs": [
    {
     "data": {
      "text/plain": [
       "131"
      ]
     },
     "execution_count": 636,
     "metadata": {},
     "output_type": "execute_result"
    }
   ],
   "source": [
    "len(_gz_samples)"
   ]
  },
  {
   "cell_type": "code",
   "execution_count": 637,
   "metadata": {},
   "outputs": [
    {
     "data": {
      "text/plain": [
       "163"
      ]
     },
     "execution_count": 637,
     "metadata": {},
     "output_type": "execute_result"
    }
   ],
   "source": [
    "len(_sh_samples)"
   ]
  },
  {
   "cell_type": "code",
   "execution_count": 638,
   "metadata": {},
   "outputs": [],
   "source": [
    "gz_root_nodes = [n[0] for n in gz_names if len(n) == 1]\n",
    "sh_root_nodes = [n[0] for n in sh_names if len(n) == 1]\n",
    "\n",
    "gz_sample_nodes = [t[-2] for t in gz_names if t[-1] == 'SMLP']\n",
    "sh_sample_nodes = [t[-2] for t in sh_names if t[-1] == 'SMLP']"
   ]
  },
  {
   "cell_type": "code",
   "execution_count": 639,
   "metadata": {},
   "outputs": [
    {
     "data": {
      "text/plain": [
       "['可回收物', '有害垃圾', '湿垃圾', '干垃圾', '大件垃圾', '电子废弃物']"
      ]
     },
     "execution_count": 639,
     "metadata": {},
     "output_type": "execute_result"
    }
   ],
   "source": [
    "sh_root_nodes"
   ]
  },
  {
   "cell_type": "code",
   "execution_count": null,
   "metadata": {},
   "outputs": [],
   "source": []
  },
  {
   "cell_type": "code",
   "execution_count": 640,
   "metadata": {},
   "outputs": [],
   "source": [
    "def parse_path_list_into_uvd(ops_ls):\n",
    "    uvd_list = []\n",
    "    for item in ops_ls:\n",
    "        if len(item) == 0:\n",
    "            pass\n",
    "        elif len(item) == 1:\n",
    "            pass\n",
    "        else:\n",
    "            if item[-1] == \"SMLP\":\n",
    "                item = item[:-1]\n",
    "                v, u = item[-2], item[-1]\n",
    "                name = \"is_sample_of\"\n",
    "                uvd_list.append([u, v, name, \"valid\", \"->\".join([u, name, v])])\n",
    "            for parent, child in zip(item, item[1:]):\n",
    "                name = \"set_relation\"\n",
    "                uvd_list.append([child, parent, name, \"子类\", \"->\".join([child, name, parent])])\n",
    "                uvd_list.append([parent, child, name, \"父类\", \"->\".join([parent, name, child])])\n",
    "    return uvd_list\n",
    "\n",
    "gz_uvds = parse_path_list_into_uvd(gz_names)\n",
    "sh_uvds = parse_path_list_into_uvd(sh_names)"
   ]
  },
  {
   "cell_type": "code",
   "execution_count": 641,
   "metadata": {},
   "outputs": [],
   "source": [
    "gz_uvd_df = pd.DataFrame(gz_uvds, columns=[\"source\", \"target\", \"name\", \"value\", \"key\"])\n",
    "sh_uvd_df = pd.DataFrame(sh_uvds, columns=[\"source\", \"target\", \"name\", \"value\", \"key\"])\n",
    "\n",
    "gz_uvd_df = gz_uvd_df.drop_duplicates().reset_index(drop=True)\n",
    "sh_uvd_df = sh_uvd_df.drop_duplicates().reset_index(drop=True)"
   ]
  },
  {
   "cell_type": "code",
   "execution_count": 642,
   "metadata": {},
   "outputs": [],
   "source": [
    "def build_garbage_MDG(ops_df):\n",
    "    \"\"\"\n",
    "    Using different edges presenting relationship.\n",
    "    \n",
    "    \n",
    "    nx.from_pandas_edgelist(..) is first add edge with (source, target) along with default key,\n",
    "    and using the return key as key to update edge's attribute which will ignre my \"key\" in edge_attr.\n",
    "    \n",
    "    g = nx.from_pandas_edgelist(\n",
    "        ops_df, \"source\", \"target\", edge_attr=[\"name\", \"value\", \"key\"]\n",
    "        , create_using=nx.MultiDiGraph()\n",
    "    \n",
    "    So I would iterate through using g.add_edge.\n",
    "    \"\"\"\n",
    "    g = nx.MultiDiGraph()\n",
    "    for item in ops_df.itertuples():\n",
    "        s = getattr(item, \"source\")\n",
    "        t = getattr(item, \"target\")\n",
    "        n = getattr(item, \"name\")\n",
    "        v = getattr(item, \"value\")\n",
    "        k = getattr(item, \"key\")\n",
    "        g.add_edge(s, t, name=n, value=v, key=k)\n",
    "    \n",
    "    return g\n",
    "\n",
    "def build_garbage_DG(ops_ls):\n",
    "    \"\"\"\n",
    "    Using edge attributes to present a relationship\n",
    "    \"\"\"\n",
    "    garbage_graph = nx.DiGraph()\n",
    "    for item in ops_ls:\n",
    "        if len(item) == 0:\n",
    "            pass\n",
    "        elif len(item) == 1:\n",
    "            garbage_graph.add_node(item[0])\n",
    "        else:\n",
    "            if item[-1] == \"SMLP\":\n",
    "                item = item[:-1]\n",
    "                sc, sample = item[-2], item[-1]\n",
    "                garbage_graph.add_edge(sample, sc, is_sample=\"Y\")\n",
    "            for parent, child in zip(item, item[1:]):\n",
    "                garbage_graph.add_edge(child, parent, set_relation=\"子类\")\n",
    "                garbage_graph.add_edge(parent, child, set_relation=\"父类\")\n",
    "    return garbage_graph\n"
   ]
  },
  {
   "cell_type": "code",
   "execution_count": 643,
   "metadata": {},
   "outputs": [],
   "source": [
    "# gz_garbage_graph = build_garbage_DG(gz_names)\n",
    "# sh_garbage_graph = build_garbage_DG(sh_names)\n",
    "gz_garbage_mdg = build_garbage_MDG(gz_uvd_df)\n",
    "sh_garbage_mdg = build_garbage_MDG(sh_uvd_df)"
   ]
  },
  {
   "cell_type": "code",
   "execution_count": 644,
   "metadata": {},
   "outputs": [
    {
     "data": {
      "text/plain": [
       "{'玉米衣->is_sample_of->水果硬壳': {'name': 'is_sample_of', 'value': 'valid'},\n",
       " '玉米衣->set_relation->水果硬壳': {'name': 'set_relation', 'value': '子类'}}"
      ]
     },
     "execution_count": 644,
     "metadata": {},
     "output_type": "execute_result"
    }
   ],
   "source": [
    "# gz_garbage_graph.get_edge_data(\"玉米衣\", \"水果硬壳\")\n",
    "gz_garbage_mdg.get_edge_data(\"玉米衣\", \"水果硬壳\")"
   ]
  },
  {
   "cell_type": "code",
   "execution_count": 645,
   "metadata": {},
   "outputs": [],
   "source": [
    "# Setting nodes attributes for domain root and searchable sample \n",
    "\n",
    "for r in gz_root_nodes:\n",
    "    # print(gz_garbage_mdg.has_node(r))\n",
    "    if gz_garbage_mdg.has_node(r):\n",
    "        gz_garbage_mdg.nodes[r]['is_root_domain'] = True\n",
    "        gz_garbage_mdg.nodes[r]['city'] = \"gz\"\n",
    "        \n",
    "for r in sh_root_nodes:\n",
    "    # print(gz_garbage_mdg.has_node(r))\n",
    "    if sh_garbage_mdg.has_node(r):\n",
    "        sh_garbage_mdg.nodes[r]['is_root_domain'] = True\n",
    "        sh_garbage_mdg.nodes[r]['city'] = \"sh\"\n",
    "        \n",
    "        \n",
    "for r in gz_sample_nodes:\n",
    "    # print(gz_garbage_mdg.has_node(r))\n",
    "    if gz_garbage_mdg.has_node(r):\n",
    "        gz_garbage_mdg.nodes[r]['is_searchable_sample'] = True\n",
    "        gz_garbage_mdg.nodes[r]['city'] = \"gz\"\n",
    "        \n",
    "for r in sh_sample_nodes:\n",
    "    # print(gz_garbage_mdg.has_node(r))\n",
    "    if sh_garbage_mdg.has_node(r):\n",
    "        sh_garbage_mdg.nodes[r]['is_searchable_sample'] = True\n",
    "        sh_garbage_mdg.nodes[r]['city'] = \"sh\""
   ]
  },
  {
   "cell_type": "code",
   "execution_count": 646,
   "metadata": {},
   "outputs": [],
   "source": [
    "# Load existing image files meta table for SH\n",
    "_sh_images_meta_f = \"../_filename_dict.csv\"\n",
    "_sh_images_meta_df = pd.read_csv(_sh_images_meta_f)\n",
    "\n",
    "# Setting current valid images count for SH searchable samples\n",
    "\n",
    "for k,v in nx.get_node_attributes(sh_garbage_mdg, \"is_searchable_sample\").items():\n",
    "    if v:\n",
    "        cur_images_count = \\\n",
    "            _sh_images_meta_df[\n",
    "                (_sh_images_meta_df[\"sample\"] == k)\n",
    "                & (_sh_images_meta_df[\"is_readable_image\"])\n",
    "                & (_sh_images_meta_df[\"is_completed_image\"])\n",
    "            ].shape[0]\n",
    "        # print(cur_images_count)\n",
    "        sh_garbage_mdg.nodes[k]['current_valid_images_count'] = cur_images_count\n",
    "        # sh_garbage_mdg.nodes[k]['city'] = \"sh\"\n",
    "    "
   ]
  },
  {
   "cell_type": "code",
   "execution_count": 647,
   "metadata": {},
   "outputs": [
    {
     "name": "stdout",
     "output_type": "stream",
     "text": [
      "{'is_root_domain': True, 'city': 'gz'}\n",
      "{'is_root_domain': True, 'city': 'sh'}\n",
      "{'is_searchable_sample': True, 'city': 'gz'}\n",
      "{'is_searchable_sample': True, 'city': 'sh', 'current_valid_images_count': 89}\n"
     ]
    }
   ],
   "source": [
    "print(gz_garbage_mdg.nodes['可回收物'])\n",
    "print(sh_garbage_mdg.nodes['可回收物'])\n",
    "print(gz_garbage_mdg.nodes['LED灯'])\n",
    "print(sh_garbage_mdg.nodes['废不锈钢'])"
   ]
  },
  {
   "cell_type": "code",
   "execution_count": 648,
   "metadata": {},
   "outputs": [],
   "source": [
    "def get_in_edges_from_dg(ops_g, watch_node_name, watch_edge_attr, watch_edge_attr_val):\n",
    "    target_node_names = [\n",
    "        n[0] for n in ops_g.in_edges(watch_node_name, data=watch_edge_attr) if n[-1] == watch_edge_attr_val\n",
    "    ]\n",
    "    return target_node_names\n",
    "\n",
    "def get_out_edges_from_dg(ops_g, watch_node_name, watch_edge_attr, watch_edge_attr_val):\n",
    "    target_node_names = [\n",
    "        n[1] for n in ops_g.out_edges(watch_node_name, data=watch_edge_attr) if n[-1] == watch_edge_attr_val\n",
    "    ]\n",
    "    return target_node_names\n",
    "\n",
    "\n",
    "def get_in_edges_from_mdg(ops_g, watch_node_name, watch_edge_name, watch_edge_val, **kwargs):\n",
    "    \"\"\"\n",
    "    Sample usage:\n",
    "    \n",
    "    ops_g = gz_garbage_graph\n",
    "    watch_node_name = \"骨头贝壳\"\n",
    "    watch_edge_attr = \"set_relation\"\n",
    "    watch_edge_attr_val = \"子类\"\n",
    "    print(get_in_edges_from_dg(ops_g, watch_node_name, watch_edge_attr, watch_edge_attr_val))\n",
    "    \n",
    "    \"\"\"\n",
    "    if ops_g.is_multigraph() & ops_g.is_directed():\n",
    "        target_node_names = [\n",
    "            n[0] for n in ops_g.in_edges(watch_node_name, data=True) if (n[-1].get(\"name\") == watch_edge_name) and (n[-1].get(\"value\") == watch_edge_val) \n",
    "        ]\n",
    "        return target_node_names\n",
    "    else:\n",
    "        raise Exception(\"Input graph is either not a directed graph nor multi graph.\")\n",
    "        \n",
    "        \n",
    "def get_out_edges_from_mdg(ops_g, watch_node_name, watch_edge_name, watch_edge_val, **kwargs):\n",
    "    if ops_g.is_multigraph() & ops_g.is_directed():\n",
    "        target_node_names = [\n",
    "            n[1] for n in ops_g.out_edges(watch_node_name, data=True) if (n[-1].get(\"name\") == watch_edge_name) and (n[-1].get(\"value\") == watch_edge_val) \n",
    "        ]\n",
    "        return target_node_names\n",
    "    else:\n",
    "        raise Exception(\"Input graph is either not a directed graph nor multi graph.\")"
   ]
  },
  {
   "cell_type": "code",
   "execution_count": 649,
   "metadata": {},
   "outputs": [
    {
     "name": "stdout",
     "output_type": "stream",
     "text": [
      "厨余垃圾\n",
      "湿垃圾\n"
     ]
    }
   ],
   "source": [
    "def get_root_domain(ops_g, node_name):\n",
    "    # Check if given node_name is in the grahp\n",
    "    if ops_g.has_node(node_name):\n",
    "        pass\n",
    "    else:\n",
    "        logging.error(\"{} is not in graph.\".format(node_name))\n",
    "        return \n",
    "    # Check if given node_name is root domain:\n",
    "    node_attr = ops_g.nodes[node_name]\n",
    "    if \"is_root_domain\" in node_attr.keys():\n",
    "        if node_attr['is_root_domain']:\n",
    "            return node_name\n",
    "    \n",
    "    # Get out edges \n",
    "    else:\n",
    "        parent_node = get_out_edges_from_mdg(\n",
    "            ops_g, node_name, \"set_relation\", \"子类\"\n",
    "        )[0]\n",
    "        return get_root_domain(ops_g, parent_node)\n",
    "\n",
    "# Test\n",
    "print(get_root_domain(gz_garbage_mdg, \"咖啡渣\"))\n",
    "print(get_root_domain(sh_garbage_mdg, \"咖啡渣\"))"
   ]
  },
  {
   "cell_type": "code",
   "execution_count": 651,
   "metadata": {},
   "outputs": [
    {
     "data": {
      "text/plain": [
       "'湿垃圾'"
      ]
     },
     "execution_count": 651,
     "metadata": {},
     "output_type": "execute_result"
    }
   ],
   "source": [
    "get_root_domain(sh_garbage_mdg, \"湿垃圾\")"
   ]
  },
  {
   "cell_type": "code",
   "execution_count": null,
   "metadata": {},
   "outputs": [],
   "source": []
  },
  {
   "cell_type": "code",
   "execution_count": null,
   "metadata": {},
   "outputs": [],
   "source": []
  },
  {
   "cell_type": "code",
   "execution_count": 650,
   "metadata": {},
   "outputs": [],
   "source": [
    "# nx.get_edge_attributes(gz_garbage_graph,\"is_sample\")"
   ]
  },
  {
   "cell_type": "code",
   "execution_count": 625,
   "metadata": {},
   "outputs": [],
   "source": [
    "# nx.single_source_shortest_path(sh_garbage_mdg, \"电子废弃物\")"
   ]
  },
  {
   "cell_type": "markdown",
   "metadata": {},
   "source": []
  },
  {
   "cell_type": "code",
   "execution_count": 474,
   "metadata": {},
   "outputs": [
    {
     "data": {
      "text/plain": [
       "True"
      ]
     },
     "execution_count": 474,
     "metadata": {},
     "output_type": "execute_result"
    }
   ],
   "source": [
    "# Check if there is a path to root class\n",
    "# nx.has_path(gz_garbage_mdg,\"路面清扫的灰土\", \"其他垃圾\")"
   ]
  },
  {
   "cell_type": "code",
   "execution_count": 626,
   "metadata": {},
   "outputs": [
    {
     "data": {
      "text/plain": [
       "{'is_searchable_sample': True, 'city': 'gz'}"
      ]
     },
     "execution_count": 626,
     "metadata": {},
     "output_type": "execute_result"
    }
   ],
   "source": [
    "# nx.get_node_attributes(gz_garbage_mdg, \"路面清扫的灰土\")\n",
    "gz_garbage_mdg.nodes['塑料瓶']"
   ]
  },
  {
   "cell_type": "code",
   "execution_count": 627,
   "metadata": {
    "scrolled": true
   },
   "outputs": [],
   "source": [
    "# nx.single_source_shortest_path(gz_garbage_mdg, \"路面清扫的灰土\")"
   ]
  },
  {
   "cell_type": "code",
   "execution_count": null,
   "metadata": {},
   "outputs": [],
   "source": []
  },
  {
   "cell_type": "code",
   "execution_count": null,
   "metadata": {},
   "outputs": [],
   "source": []
  },
  {
   "cell_type": "code",
   "execution_count": 114,
   "metadata": {},
   "outputs": [],
   "source": []
  },
  {
   "cell_type": "code",
   "execution_count": null,
   "metadata": {},
   "outputs": [],
   "source": []
  },
  {
   "cell_type": "code",
   "execution_count": null,
   "metadata": {},
   "outputs": [],
   "source": []
  }
 ],
 "metadata": {
  "kernelspec": {
   "display_name": "Python 3",
   "language": "python",
   "name": "python3"
  },
  "language_info": {
   "codemirror_mode": {
    "name": "ipython",
    "version": 3
   },
   "file_extension": ".py",
   "mimetype": "text/x-python",
   "name": "python",
   "nbconvert_exporter": "python",
   "pygments_lexer": "ipython3",
   "version": "3.7.0"
  }
 },
 "nbformat": 4,
 "nbformat_minor": 2
}
