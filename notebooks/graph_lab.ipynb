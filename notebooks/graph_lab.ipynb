{
 "cells": [
  {
   "cell_type": "code",
   "execution_count": 505,
   "metadata": {},
   "outputs": [],
   "source": [
    "import os\n",
    "import sys\n",
    "module_path = os.path.abspath(os.path.join('../spiders/'))\n",
    "if module_path not in sys.path:\n",
    "    sys.path.append(module_path)"
   ]
  },
  {
   "cell_type": "code",
   "execution_count": 538,
   "metadata": {},
   "outputs": [],
   "source": [
    "import pandas as pd\n",
    "import numpy as np\n",
    "import copy\n",
    "import networkx as nx\n",
    "import matplotlib.pyplot as plt\n",
    "import logging\n",
    "\n",
    "plt.rcParams['font.sans-serif'] = ['Arial Unicode MS']\n",
    "%matplotlib inline"
   ]
  },
  {
   "cell_type": "code",
   "execution_count": null,
   "metadata": {},
   "outputs": [],
   "source": []
  },
  {
   "cell_type": "code",
   "execution_count": 507,
   "metadata": {},
   "outputs": [
    {
     "data": {
      "text/plain": [
       "<module 'categories_service' from '/Users/ccuulinay/github_proj/garbage_classification/spiders/categories_service.py'>"
      ]
     },
     "execution_count": 507,
     "metadata": {},
     "output_type": "execute_result"
    }
   ],
   "source": [
    "import categories\n",
    "import images_downloader\n",
    "import categories_service\n",
    "import importlib\n",
    "\n",
    "importlib.reload(categories)\n",
    "importlib.reload(images_downloader)\n",
    "importlib.reload(categories_service)"
   ]
  },
  {
   "cell_type": "code",
   "execution_count": 508,
   "metadata": {},
   "outputs": [],
   "source": [
    "from categories import SH_GARBAGE_CLS_CAT, GZ_GARBAGE_CLS_CAT"
   ]
  },
  {
   "cell_type": "code",
   "execution_count": 509,
   "metadata": {},
   "outputs": [],
   "source": [
    "sh_names = categories_service.parse_cls_cats(SH_GARBAGE_CLS_CAT)\n",
    "gz_names = categories_service.parse_cls_cats(GZ_GARBAGE_CLS_CAT)"
   ]
  },
  {
   "cell_type": "code",
   "execution_count": 510,
   "metadata": {},
   "outputs": [
    {
     "data": {
      "text/plain": [
       "163"
      ]
     },
     "execution_count": 510,
     "metadata": {},
     "output_type": "execute_result"
    }
   ],
   "source": [
    "len(gz_names)"
   ]
  },
  {
   "cell_type": "code",
   "execution_count": 511,
   "metadata": {},
   "outputs": [],
   "source": [
    "_gz_samples = [t for t in gz_names if t[-1] == 'SMLP']"
   ]
  },
  {
   "cell_type": "code",
   "execution_count": 512,
   "metadata": {},
   "outputs": [],
   "source": [
    "_sh_samples = [t for t in sh_names if t[-1] == 'SMLP']"
   ]
  },
  {
   "cell_type": "code",
   "execution_count": 513,
   "metadata": {},
   "outputs": [
    {
     "data": {
      "text/plain": [
       "130"
      ]
     },
     "execution_count": 513,
     "metadata": {},
     "output_type": "execute_result"
    }
   ],
   "source": [
    "len(_gz_samples)"
   ]
  },
  {
   "cell_type": "code",
   "execution_count": 560,
   "metadata": {},
   "outputs": [],
   "source": [
    "gz_root_nodes = [n[0] for n in gz_names if len(n) == 1]\n",
    "sh_root_nodes = [n[0] for n in sh_names if len(n) == 1]\n",
    "\n",
    "gz_sample_nodes = [t[-2] for t in gz_names if t[-1] == 'SMLP']\n",
    "sh_sample_nodes = [t[-2] for t in sh_names if t[-1] == 'SMLP']"
   ]
  },
  {
   "cell_type": "code",
   "execution_count": 561,
   "metadata": {},
   "outputs": [
    {
     "data": {
      "text/plain": [
       "['可回收物', '有害垃圾', '湿垃圾', '干垃圾', '大件垃圾', '电子废弃物']"
      ]
     },
     "execution_count": 561,
     "metadata": {},
     "output_type": "execute_result"
    }
   ],
   "source": [
    "sh_root_nodes"
   ]
  },
  {
   "cell_type": "code",
   "execution_count": null,
   "metadata": {},
   "outputs": [],
   "source": []
  },
  {
   "cell_type": "code",
   "execution_count": 562,
   "metadata": {},
   "outputs": [],
   "source": [
    "def parse_path_list_into_uvd(ops_ls):\n",
    "    uvd_list = []\n",
    "    for item in ops_ls:\n",
    "        if len(item) == 0:\n",
    "            pass\n",
    "        elif len(item) == 1:\n",
    "            pass\n",
    "        else:\n",
    "            if item[-1] == \"SMLP\":\n",
    "                item = item[:-1]\n",
    "                v, u = item[-2], item[-1]\n",
    "                name = \"is_sample_of\"\n",
    "                uvd_list.append([u, v, name, \"valid\", \"->\".join([u, name, v])])\n",
    "            for parent, child in zip(item, item[1:]):\n",
    "                name = \"set_relation\"\n",
    "                uvd_list.append([child, parent, name, \"子类\", \"->\".join([child, name, parent])])\n",
    "                uvd_list.append([parent, child, name, \"父类\", \"->\".join([parent, name, child])])\n",
    "    return uvd_list\n",
    "\n",
    "gz_uvds = parse_path_list_into_uvd(gz_names)\n",
    "sh_uvds = parse_path_list_into_uvd(sh_names)"
   ]
  },
  {
   "cell_type": "code",
   "execution_count": 563,
   "metadata": {},
   "outputs": [],
   "source": [
    "gz_uvd_df = pd.DataFrame(gz_uvds, columns=[\"source\", \"target\", \"name\", \"value\", \"key\"])\n",
    "sh_uvd_df = pd.DataFrame(sh_uvds, columns=[\"source\", \"target\", \"name\", \"value\", \"key\"])\n",
    "\n",
    "gz_uvd_df = gz_uvd_df.drop_duplicates().reset_index(drop=True)\n",
    "sh_uvd_df = sh_uvd_df.drop_duplicates().reset_index(drop=True)"
   ]
  },
  {
   "cell_type": "code",
   "execution_count": 564,
   "metadata": {},
   "outputs": [],
   "source": [
    "def build_garbage_MDG(ops_df):\n",
    "    \"\"\"\n",
    "    Using different edges presenting relationship.\n",
    "    \n",
    "    \n",
    "    nx.from_pandas_edgelist(..) is first add edge with (source, target) along with default key,\n",
    "    and using the return key as key to update edge's attribute which will ignre my \"key\" in edge_attr.\n",
    "    \n",
    "    g = nx.from_pandas_edgelist(\n",
    "        ops_df, \"source\", \"target\", edge_attr=[\"name\", \"value\", \"key\"]\n",
    "        , create_using=nx.MultiDiGraph()\n",
    "    \n",
    "    So I would iterate through using g.add_edge.\n",
    "    \"\"\"\n",
    "    g = nx.MultiDiGraph()\n",
    "    for item in ops_df.itertuples():\n",
    "        s = getattr(item, \"source\")\n",
    "        t = getattr(item, \"target\")\n",
    "        n = getattr(item, \"name\")\n",
    "        v = getattr(item, \"value\")\n",
    "        k = getattr(item, \"key\")\n",
    "        g.add_edge(s, t, name=n, value=v, key=k)\n",
    "    \n",
    "    return g\n",
    "\n",
    "def build_garbage_DG(ops_ls):\n",
    "    \"\"\"\n",
    "    Using edge attributes to present a relationship\n",
    "    \"\"\"\n",
    "    garbage_graph = nx.DiGraph()\n",
    "    for item in ops_ls:\n",
    "        if len(item) == 0:\n",
    "            pass\n",
    "        elif len(item) == 1:\n",
    "            garbage_graph.add_node(item[0])\n",
    "        else:\n",
    "            if item[-1] == \"SMLP\":\n",
    "                item = item[:-1]\n",
    "                sc, sample = item[-2], item[-1]\n",
    "                garbage_graph.add_edge(sample, sc, is_sample=\"Y\")\n",
    "            for parent, child in zip(item, item[1:]):\n",
    "                garbage_graph.add_edge(child, parent, set_relation=\"子类\")\n",
    "                garbage_graph.add_edge(parent, child, set_relation=\"父类\")\n",
    "    return garbage_graph\n"
   ]
  },
  {
   "cell_type": "code",
   "execution_count": 565,
   "metadata": {},
   "outputs": [],
   "source": [
    "# gz_garbage_graph = build_garbage_DG(gz_names)\n",
    "# sh_garbage_graph = build_garbage_DG(sh_names)\n",
    "gz_garbage_mdg = build_garbage_MDG(gz_uvd_df)\n",
    "sh_garbage_mdg = build_garbage_MDG(sh_uvd_df)"
   ]
  },
  {
   "cell_type": "code",
   "execution_count": 566,
   "metadata": {},
   "outputs": [
    {
     "data": {
      "text/plain": [
       "{'玉米衣->is_sample_of->水果硬壳': {'name': 'is_sample_of', 'value': 'valid'},\n",
       " '玉米衣->set_relation->水果硬壳': {'name': 'set_relation', 'value': '子类'}}"
      ]
     },
     "execution_count": 566,
     "metadata": {},
     "output_type": "execute_result"
    }
   ],
   "source": [
    "# gz_garbage_graph.get_edge_data(\"玉米衣\", \"水果硬壳\")\n",
    "gz_garbage_mdg.get_edge_data(\"玉米衣\", \"水果硬壳\")"
   ]
  },
  {
   "cell_type": "code",
   "execution_count": 567,
   "metadata": {},
   "outputs": [],
   "source": [
    "# Setting nodes attributes for domain root and searchable sample \n",
    "\n",
    "for r in gz_root_nodes:\n",
    "    # print(gz_garbage_mdg.has_node(r))\n",
    "    if gz_garbage_mdg.has_node(r):\n",
    "        gz_garbage_mdg.nodes[r]['is_root_domain'] = True\n",
    "        gz_garbage_mdg.nodes[r]['city'] = \"gz\"\n",
    "        \n",
    "for r in sh_root_nodes:\n",
    "    # print(gz_garbage_mdg.has_node(r))\n",
    "    if sh_garbage_mdg.has_node(r):\n",
    "        sh_garbage_mdg.nodes[r]['is_root_domain'] = True\n",
    "        sh_garbage_mdg.nodes[r]['city'] = \"sh\"\n",
    "        \n",
    "        \n",
    "for r in gz_sample_nodes:\n",
    "    # print(gz_garbage_mdg.has_node(r))\n",
    "    if gz_garbage_mdg.has_node(r):\n",
    "        gz_garbage_mdg.nodes[r]['is_searchable_sample'] = True\n",
    "        gz_garbage_mdg.nodes[r]['city'] = \"gz\"\n",
    "        \n",
    "for r in sh_sample_nodes:\n",
    "    # print(gz_garbage_mdg.has_node(r))\n",
    "    if sh_garbage_mdg.has_node(r):\n",
    "        sh_garbage_mdg.nodes[r]['is_searchable_sample'] = True\n",
    "        sh_garbage_mdg.nodes[r]['city'] = \"sh\""
   ]
  },
  {
   "cell_type": "code",
   "execution_count": 568,
   "metadata": {},
   "outputs": [
    {
     "name": "stdout",
     "output_type": "stream",
     "text": [
      "{'is_root_domain': True, 'city': 'gz'}\n",
      "{'is_root_domain': True, 'city': 'sh'}\n",
      "{'is_searchable_sample': True, 'city': 'gz'}\n",
      "{'is_searchable_sample': True, 'city': 'sh'}\n"
     ]
    }
   ],
   "source": [
    "print(gz_garbage_mdg.nodes['可回收物'])\n",
    "print(sh_garbage_mdg.nodes['可回收物'])\n",
    "print(gz_garbage_mdg.nodes['LED灯'])\n",
    "print(sh_garbage_mdg.nodes['废不锈钢'])"
   ]
  },
  {
   "cell_type": "code",
   "execution_count": 569,
   "metadata": {},
   "outputs": [],
   "source": [
    "def get_in_edges_from_dg(ops_g, watch_node_name, watch_edge_attr, watch_edge_attr_val):\n",
    "    target_node_names = [\n",
    "        n[0] for n in ops_g.in_edges(watch_node_name, data=watch_edge_attr) if n[-1] == watch_edge_attr_val\n",
    "    ]\n",
    "    return target_node_names\n",
    "\n",
    "def get_out_edges_from_dg(ops_g, watch_node_name, watch_edge_attr, watch_edge_attr_val):\n",
    "    target_node_names = [\n",
    "        n[1] for n in ops_g.out_edges(watch_node_name, data=watch_edge_attr) if n[-1] == watch_edge_attr_val\n",
    "    ]\n",
    "    return target_node_names\n",
    "\n",
    "\n",
    "def get_in_edges_from_mdg(ops_g, watch_node_name, watch_edge_name, watch_edge_val, **kwargs):\n",
    "    if ops_g.is_multigraph() & ops_g.is_directed():\n",
    "        target_node_names = [\n",
    "            n[0] for n in ops_g.in_edges(watch_node_name, data=True) if (n[-1].get(\"name\") == watch_edge_name) and (n[-1].get(\"value\") == watch_edge_val) \n",
    "        ]\n",
    "        return target_node_names\n",
    "    else:\n",
    "        raise Exception(\"Input graph is either not a directed graph nor multi graph.\")\n",
    "        \n",
    "        \n",
    "def get_out_edges_from_mdg(ops_g, watch_node_name, watch_edge_name, watch_edge_val, **kwargs):\n",
    "    if ops_g.is_multigraph() & ops_g.is_directed():\n",
    "        target_node_names = [\n",
    "            n[1] for n in ops_g.out_edges(watch_node_name, data=True) if (n[-1].get(\"name\") == watch_edge_name) and (n[-1].get(\"value\") == watch_edge_val) \n",
    "        ]\n",
    "        return target_node_names\n",
    "    else:\n",
    "        raise Exception(\"Input graph is either not a directed graph nor multi graph.\")"
   ]
  },
  {
   "cell_type": "code",
   "execution_count": 570,
   "metadata": {},
   "outputs": [
    {
     "name": "stdout",
     "output_type": "stream",
     "text": [
      "厨余垃圾\n",
      "湿垃圾\n"
     ]
    }
   ],
   "source": [
    "def get_root_domain(ops_g, node_name):\n",
    "    # Check if given node_name is in the grahp\n",
    "    if ops_g.has_node(node_name):\n",
    "        pass\n",
    "    else:\n",
    "        logging.error(\"{} is not in graph.\".format(node_name))\n",
    "        return \n",
    "    # Check if given node_name is root domain:\n",
    "    node_attr = ops_g.nodes[node_name]\n",
    "    if \"is_root_domain\" in node_attr.keys():\n",
    "        if node_attr['is_root_domain']:\n",
    "            return node_name\n",
    "    \n",
    "    # Get out edges \n",
    "    else:\n",
    "        parent_node = get_out_edges_from_mdg(\n",
    "            ops_g, node_name, \"set_relation\", \"子类\"\n",
    "        )[0]\n",
    "        return get_root_domain(ops_g, parent_node)\n",
    "\n",
    "# Test\n",
    "print(get_root_domain(gz_garbage_mdg, \"咖啡渣\"))\n",
    "print(get_root_domain(sh_garbage_mdg, \"咖啡渣\"))"
   ]
  },
  {
   "cell_type": "code",
   "execution_count": null,
   "metadata": {},
   "outputs": [],
   "source": []
  },
  {
   "cell_type": "code",
   "execution_count": null,
   "metadata": {},
   "outputs": [],
   "source": []
  },
  {
   "cell_type": "code",
   "execution_count": null,
   "metadata": {},
   "outputs": [],
   "source": []
  },
  {
   "cell_type": "code",
   "execution_count": 407,
   "metadata": {},
   "outputs": [],
   "source": [
    "# nx.get_edge_attributes(gz_garbage_graph,\"is_sample\")"
   ]
  },
  {
   "cell_type": "code",
   "execution_count": 457,
   "metadata": {},
   "outputs": [
    {
     "name": "stdout",
     "output_type": "stream",
     "text": [
      "['动物筒骨头骨', '蚝壳', '贝壳', '螺蛳壳']\n",
      "['动物筒骨头骨', '蚝壳', '贝壳', '螺蛳壳']\n"
     ]
    }
   ],
   "source": [
    "# Given node, get its parent class\n",
    "ops_g = gz_garbage_graph\n",
    "watch_node_name = \"骨头贝壳\"\n",
    "watch_edge_attr = \"set_relation\"\n",
    "watch_edge_attr_val = \"子类\"\n",
    "\n",
    "\n",
    "# target_node_names = [n[0] for n in ops_g.in_edges(watch_node_name, data=watch_attr) if n[-1] == watch_attr_val]\n",
    "# print(target_node_names)\n",
    "print(get_in_edges_from_dg(ops_g, watch_node_name, watch_edge_attr, watch_edge_attr_val))\n",
    "print(get_in_edges_from_mdg(gz_garbage_mdg, watch_node_name, watch_edge_attr, watch_edge_attr_val))"
   ]
  },
  {
   "cell_type": "code",
   "execution_count": 475,
   "metadata": {},
   "outputs": [],
   "source": [
    "# nx.single_source_shortest_path(sh_garbage_mdg, \"电子废弃物\")"
   ]
  },
  {
   "cell_type": "markdown",
   "metadata": {},
   "source": []
  },
  {
   "cell_type": "code",
   "execution_count": 474,
   "metadata": {},
   "outputs": [
    {
     "data": {
      "text/plain": [
       "True"
      ]
     },
     "execution_count": 474,
     "metadata": {},
     "output_type": "execute_result"
    }
   ],
   "source": [
    "# Check if there is a path to root class\n",
    "nx.has_path(gz_garbage_mdg,\"路面清扫的灰土\", \"其他垃圾\")"
   ]
  },
  {
   "cell_type": "code",
   "execution_count": 435,
   "metadata": {},
   "outputs": [
    {
     "data": {
      "text/plain": [
       "{}"
      ]
     },
     "execution_count": 435,
     "metadata": {},
     "output_type": "execute_result"
    }
   ],
   "source": [
    "nx.get_node_attributes(gz_garbage_mdg, \"路面清扫的灰土\")"
   ]
  },
  {
   "cell_type": "code",
   "execution_count": 436,
   "metadata": {
    "scrolled": true
   },
   "outputs": [
    {
     "data": {
      "text/plain": [
       "{'路面清扫的灰土': ['路面清扫的灰土'],\n",
       " '清扫渣土': ['路面清扫的灰土', '清扫渣土'],\n",
       " '其他垃圾': ['路面清扫的灰土', '清扫渣土', '其他垃圾'],\n",
       " '路面清扫的树叶': ['路面清扫的灰土', '清扫渣土', '路面清扫的树叶'],\n",
       " '混杂': ['路面清扫的灰土', '清扫渣土', '其他垃圾', '混杂'],\n",
       " '污损': ['路面清扫的灰土', '清扫渣土', '其他垃圾', '污损'],\n",
       " '易混淆的纸类': ['路面清扫的灰土', '清扫渣土', '其他垃圾', '易混淆的纸类'],\n",
       " '塑料': ['路面清扫的灰土', '清扫渣土', '其他垃圾', '塑料'],\n",
       " '废旧衣服及其他纺织品': ['路面清扫的灰土', '清扫渣土', '其他垃圾', '废旧衣服及其他纺织品'],\n",
       " '废弃日用品': ['路面清扫的灰土', '清扫渣土', '其他垃圾', '废弃日用品'],\n",
       " '骨头贝壳': ['路面清扫的灰土', '清扫渣土', '其他垃圾', '骨头贝壳'],\n",
       " '水果硬壳': ['路面清扫的灰土', '清扫渣土', '其他垃圾', '水果硬壳'],\n",
       " '坚果': ['路面清扫的灰土', '清扫渣土', '其他垃圾', '坚果'],\n",
       " '陶瓷制品': ['路面清扫的灰土', '清扫渣土', '其他垃圾', '陶瓷制品'],\n",
       " '猫砂': ['路面清扫的灰土', '清扫渣土', '其他垃圾', '混杂', '猫砂'],\n",
       " '宠物粪便': ['路面清扫的灰土', '清扫渣土', '其他垃圾', '混杂', '宠物粪便'],\n",
       " '烟头': ['路面清扫的灰土', '清扫渣土', '其他垃圾', '混杂', '烟头'],\n",
       " '干燥剂': ['路面清扫的灰土', '清扫渣土', '其他垃圾', '混杂', '干燥剂'],\n",
       " '废弃化妆品': ['路面清扫的灰土', '清扫渣土', '其他垃圾', '混杂', '废弃化妆品'],\n",
       " '毛发': ['路面清扫的灰土', '清扫渣土', '其他垃圾', '混杂', '毛发'],\n",
       " '破损碗碟': ['路面清扫的灰土', '清扫渣土', '其他垃圾', '混杂', '破损碗碟'],\n",
       " '创可贴': ['路面清扫的灰土', '清扫渣土', '其他垃圾', '混杂', '创可贴'],\n",
       " '土培植物': ['路面清扫的灰土', '清扫渣土', '其他垃圾', '混杂', '土培植物'],\n",
       " '污损纸张纸盒': ['路面清扫的灰土', '清扫渣土', '其他垃圾', '易混淆的纸类', '污损纸张纸盒'],\n",
       " '胶贴纸': ['路面清扫的灰土', '清扫渣土', '其他垃圾', '易混淆的纸类', '胶贴纸'],\n",
       " '蜡纸': ['路面清扫的灰土', '清扫渣土', '其他垃圾', '易混淆的纸类', '蜡纸'],\n",
       " '传真纸': ['路面清扫的灰土', '清扫渣土', '其他垃圾', '易混淆的纸类', '传真纸'],\n",
       " '污损的保鲜膜': ['路面清扫的灰土', '清扫渣土', '其他垃圾', '塑料', '污损的保鲜膜'],\n",
       " '软胶管': ['路面清扫的灰土', '清扫渣土', '其他垃圾', '塑料', '软胶管'],\n",
       " '沾污的餐盒': ['路面清扫的灰土', '清扫渣土', '其他垃圾', '塑料', '沾污的餐盒'],\n",
       " '垃圾袋': ['路面清扫的灰土', '清扫渣土', '其他垃圾', '塑料', '垃圾袋'],\n",
       " '尼龙制品': ['路面清扫的灰土', '清扫渣土', '其他垃圾', '废旧衣服及其他纺织品', '尼龙制品'],\n",
       " '编织袋': ['路面清扫的灰土', '清扫渣土', '其他垃圾', '废旧衣服及其他纺织品', '编织袋'],\n",
       " '旧毛巾': ['路面清扫的灰土', '清扫渣土', '其他垃圾', '废旧衣服及其他纺织品', '旧毛巾'],\n",
       " '内衣裤': ['路面清扫的灰土', '清扫渣土', '其他垃圾', '废旧衣服及其他纺织品', '内衣裤'],\n",
       " '镜子等有镀层的玻璃制品': ['路面清扫的灰土', '清扫渣土', '其他垃圾', '废弃日用品', '镜子等有镀层的玻璃制品'],\n",
       " '一次性干电池': ['路面清扫的灰土', '清扫渣土', '其他垃圾', '废弃日用品', '一次性干电池'],\n",
       " ' LED灯': ['路面清扫的灰土', '清扫渣土', '其他垃圾', '废弃日用品', ' LED灯'],\n",
       " '牙签牙线': ['路面清扫的灰土', '清扫渣土', '其他垃圾', '废弃日用品', '牙签牙线'],\n",
       " '木竹餐具': ['路面清扫的灰土', '清扫渣土', '其他垃圾', '废弃日用品', '木竹餐具'],\n",
       " '木竹砧板': ['路面清扫的灰土', '清扫渣土', '其他垃圾', '废弃日用品', '木竹砧板'],\n",
       " '破损鞋类': ['路面清扫的灰土', '清扫渣土', '其他垃圾', '废弃日用品', '破损鞋类'],\n",
       " '眼镜': ['路面清扫的灰土', '清扫渣土', '其他垃圾', '废弃日用品', '眼镜'],\n",
       " '动物筒骨头骨': ['路面清扫的灰土', '清扫渣土', '其他垃圾', '骨头贝壳', '动物筒骨头骨'],\n",
       " '蚝壳': ['路面清扫的灰土', '清扫渣土', '其他垃圾', '骨头贝壳', '蚝壳'],\n",
       " '贝壳': ['路面清扫的灰土', '清扫渣土', '其他垃圾', '骨头贝壳', '贝壳'],\n",
       " '螺蛳壳': ['路面清扫的灰土', '清扫渣土', '其他垃圾', '骨头贝壳', '螺蛳壳'],\n",
       " '榴莲壳': ['路面清扫的灰土', '清扫渣土', '其他垃圾', '水果硬壳', '榴莲壳'],\n",
       " '椰子壳': ['路面清扫的灰土', '清扫渣土', '其他垃圾', '水果硬壳', '椰子壳'],\n",
       " '粽子叶': ['路面清扫的灰土', '清扫渣土', '其他垃圾', '水果硬壳', '粽子叶'],\n",
       " '玉米棒': ['路面清扫的灰土', '清扫渣土', '其他垃圾', '水果硬壳', '玉米棒'],\n",
       " '玉米衣': ['路面清扫的灰土', '清扫渣土', '其他垃圾', '水果硬壳', '玉米衣'],\n",
       " '核桃壳': ['路面清扫的灰土', '清扫渣土', '其他垃圾', '坚果', '核桃壳'],\n",
       " '花生壳': ['路面清扫的灰土', '清扫渣土', '其他垃圾', '坚果', '花生壳'],\n",
       " '破损花瓶': ['路面清扫的灰土', '清扫渣土', '其他垃圾', '陶瓷制品', '破损花瓶']}"
      ]
     },
     "execution_count": 436,
     "metadata": {},
     "output_type": "execute_result"
    }
   ],
   "source": [
    "nx.single_source_shortest_path(gz_garbage_mdg, \"路面清扫的灰土\")"
   ]
  },
  {
   "cell_type": "code",
   "execution_count": 477,
   "metadata": {},
   "outputs": [
    {
     "data": {
      "text/plain": [
       "False"
      ]
     },
     "execution_count": 477,
     "metadata": {},
     "output_type": "execute_result"
    }
   ],
   "source": [
    "gz_garbage_mdg.has_node('电子废弃物')"
   ]
  },
  {
   "cell_type": "code",
   "execution_count": null,
   "metadata": {},
   "outputs": [],
   "source": []
  },
  {
   "cell_type": "code",
   "execution_count": 114,
   "metadata": {},
   "outputs": [],
   "source": [
    "# Load existing image files meta table for SH\n",
    "_sh_images_meta_f = \"../_filename_dict.csv\"\n",
    "_sh_images_meta_df = pd.read_csv(_sh_images_meta_f)"
   ]
  },
  {
   "cell_type": "code",
   "execution_count": 499,
   "metadata": {},
   "outputs": [
    {
     "data": {
      "text/html": [
       "<div>\n",
       "<style scoped>\n",
       "    .dataframe tbody tr th:only-of-type {\n",
       "        vertical-align: middle;\n",
       "    }\n",
       "\n",
       "    .dataframe tbody tr th {\n",
       "        vertical-align: top;\n",
       "    }\n",
       "\n",
       "    .dataframe thead th {\n",
       "        text-align: right;\n",
       "    }\n",
       "</style>\n",
       "<table border=\"1\" class=\"dataframe\">\n",
       "  <thead>\n",
       "    <tr style=\"text-align: right;\">\n",
       "      <th></th>\n",
       "      <th>_filename</th>\n",
       "      <th>_format</th>\n",
       "      <th>sample</th>\n",
       "      <th>spider_id</th>\n",
       "      <th>level0</th>\n",
       "      <th>level1</th>\n",
       "      <th>is_readable_image</th>\n",
       "      <th>is_completed_image</th>\n",
       "    </tr>\n",
       "  </thead>\n",
       "  <tbody>\n",
       "    <tr>\n",
       "      <td>0</td>\n",
       "      <td>干垃圾_编织袋_36.jpeg</td>\n",
       "      <td>.jpeg</td>\n",
       "      <td>编织袋</td>\n",
       "      <td>36</td>\n",
       "      <td>干垃圾</td>\n",
       "      <td>NaN</td>\n",
       "      <td>True</td>\n",
       "      <td>True</td>\n",
       "    </tr>\n",
       "    <tr>\n",
       "      <td>1</td>\n",
       "      <td>湿垃圾_食材废料_水产_91.jpg</td>\n",
       "      <td>.jpg</td>\n",
       "      <td>水产</td>\n",
       "      <td>91</td>\n",
       "      <td>湿垃圾</td>\n",
       "      <td>食材废料</td>\n",
       "      <td>True</td>\n",
       "      <td>True</td>\n",
       "    </tr>\n",
       "    <tr>\n",
       "      <td>2</td>\n",
       "      <td>湿垃圾_过期食品_肉干_7.jpg</td>\n",
       "      <td>.jpg</td>\n",
       "      <td>肉干</td>\n",
       "      <td>7</td>\n",
       "      <td>湿垃圾</td>\n",
       "      <td>过期食品</td>\n",
       "      <td>True</td>\n",
       "      <td>True</td>\n",
       "    </tr>\n",
       "    <tr>\n",
       "      <td>3</td>\n",
       "      <td>干垃圾_橡皮泥_20.jpg</td>\n",
       "      <td>.jpg</td>\n",
       "      <td>橡皮泥</td>\n",
       "      <td>20</td>\n",
       "      <td>干垃圾</td>\n",
       "      <td>NaN</td>\n",
       "      <td>True</td>\n",
       "      <td>True</td>\n",
       "    </tr>\n",
       "    <tr>\n",
       "      <td>4</td>\n",
       "      <td>有害垃圾_废含汞温度计、废含汞血压计_水银体温计_84.jpg</td>\n",
       "      <td>.jpg</td>\n",
       "      <td>水银体温计</td>\n",
       "      <td>84</td>\n",
       "      <td>有害垃圾</td>\n",
       "      <td>废含汞温度计、废含汞血压计</td>\n",
       "      <td>True</td>\n",
       "      <td>True</td>\n",
       "    </tr>\n",
       "  </tbody>\n",
       "</table>\n",
       "</div>"
      ],
      "text/plain": [
       "                         _filename _format sample  spider_id level0  \\\n",
       "0                  干垃圾_编织袋_36.jpeg   .jpeg    编织袋         36    干垃圾   \n",
       "1               湿垃圾_食材废料_水产_91.jpg    .jpg     水产         91    湿垃圾   \n",
       "2                湿垃圾_过期食品_肉干_7.jpg    .jpg     肉干          7    湿垃圾   \n",
       "3                   干垃圾_橡皮泥_20.jpg    .jpg    橡皮泥         20    干垃圾   \n",
       "4  有害垃圾_废含汞温度计、废含汞血压计_水银体温计_84.jpg    .jpg  水银体温计         84   有害垃圾   \n",
       "\n",
       "          level1  is_readable_image  is_completed_image  \n",
       "0            NaN               True                True  \n",
       "1           食材废料               True                True  \n",
       "2           过期食品               True                True  \n",
       "3            NaN               True                True  \n",
       "4  废含汞温度计、废含汞血压计               True                True  "
      ]
     },
     "execution_count": 499,
     "metadata": {},
     "output_type": "execute_result"
    }
   ],
   "source": [
    "_sh_images_meta_df.head()"
   ]
  }
 ],
 "metadata": {
  "kernelspec": {
   "display_name": "Python 3",
   "language": "python",
   "name": "python3"
  },
  "language_info": {
   "codemirror_mode": {
    "name": "ipython",
    "version": 3
   },
   "file_extension": ".py",
   "mimetype": "text/x-python",
   "name": "python",
   "nbconvert_exporter": "python",
   "pygments_lexer": "ipython3",
   "version": "3.7.0"
  }
 },
 "nbformat": 4,
 "nbformat_minor": 2
}
