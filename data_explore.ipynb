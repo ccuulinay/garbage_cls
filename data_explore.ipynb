{
 "cells": [
  {
   "cell_type": "markdown",
   "metadata": {},
   "source": [
    "## Explore image file and build image files path table"
   ]
  },
  {
   "cell_type": "markdown",
   "metadata": {},
   "source": [
    "Unzip and extracct images data."
   ]
  },
  {
   "cell_type": "code",
   "execution_count": 2,
   "metadata": {},
   "outputs": [],
   "source": [
    "# !ls -ltr"
   ]
  },
  {
   "cell_type": "code",
   "execution_count": 3,
   "metadata": {},
   "outputs": [],
   "source": [
    "# !tar -zxvf data.tar.gz"
   ]
  },
  {
   "cell_type": "code",
   "execution_count": 102,
   "metadata": {
    "scrolled": true
   },
   "outputs": [],
   "source": [
    "# import glob\n",
    "import os\n",
    "import pathlib\n",
    "import pandas as pd\n",
    "import numpy as np\n",
    "import tensorflow as tf\n",
    "import pandas as pd\n",
    "import matplotlib.pyplot as plt\n",
    "from sklearn.model_selection import train_test_split\n",
    "from IPython.display import Image, display\n",
    "import cv2\n",
    "import magic\n",
    "%matplotlib inline"
   ]
  },
  {
   "cell_type": "code",
   "execution_count": 79,
   "metadata": {},
   "outputs": [],
   "source": [
    "data_path = \"./data\"\n",
    "data_p = pathlib.Path(data_path)"
   ]
  },
  {
   "cell_type": "code",
   "execution_count": 80,
   "metadata": {},
   "outputs": [],
   "source": [
    "images_list = [str(p) for p in list(data_p.glob(\"./*\"))]"
   ]
  },
  {
   "cell_type": "code",
   "execution_count": 81,
   "metadata": {},
   "outputs": [
    {
     "data": {
      "text/plain": [
       "['data/干垃圾_编织袋_36.jpeg',\n",
       " 'data/湿垃圾_食材废料_水产_91.jpg',\n",
       " 'data/湿垃圾_过期食品_肉干_7.jpg',\n",
       " 'data/干垃圾_橡皮泥_20.jpg',\n",
       " 'data/有害垃圾_废含汞温度计、废含汞血压计_水银体温计_84.jpg']"
      ]
     },
     "execution_count": 81,
     "metadata": {},
     "output_type": "execute_result"
    }
   ],
   "source": [
    "# print(images_list[2182])\n",
    "images_list[:5]\n"
   ]
  },
  {
   "cell_type": "markdown",
   "metadata": {},
   "source": [
    "#### See one sample of image"
   ]
  },
  {
   "cell_type": "code",
   "execution_count": 82,
   "metadata": {},
   "outputs": [
    {
     "data": {
      "image/jpeg": "[encoded data removed]",
      "text/plain": [
       "<IPython.core.display.Image object>"
      ]
     },
     "metadata": {},
     "output_type": "display_data"
    },
    {
     "name": "stdout",
     "output_type": "stream",
     "text": [
      "(400, 400, 3)\n"
     ]
    }
   ],
   "source": [
    "sample_image = 'data/干垃圾_编织袋_36.jpeg'\n",
    "# sample_image = \"data/干垃圾_榴莲壳_7.jpg\"\n",
    "sample_im = cv2.imread(sample_image)\n",
    "display(Image(sample_image))\n",
    "print(sample_im.shape)"
   ]
  },
  {
   "cell_type": "code",
   "execution_count": 84,
   "metadata": {},
   "outputs": [
    {
     "data": {
      "text/plain": [
       "<matplotlib.image.AxesImage at 0x7fb03e2c0860>"
      ]
     },
     "execution_count": 84,
     "metadata": {},
     "output_type": "execute_result"
    },
    {
     "data": {
      "image/png": "[encoded data removed]",
      "text/plain": [
       "<Figure size 432x288 with 1 Axes>"
      ]
     },
     "metadata": {
      "needs_background": "light"
     },
     "output_type": "display_data"
    }
   ],
   "source": [
    "resized_sample_im = cv2.resize(sample_im, (100, 100))\n",
    "plt.imshow(resized_sample_im)"
   ]
  },
  {
   "cell_type": "markdown",
   "metadata": {},
   "source": [
    "#### Build filename and classes table"
   ]
  },
  {
   "cell_type": "markdown",
   "metadata": {},
   "source": [
    "1. First is to clean up the suffix of images"
   ]
  },
  {
   "cell_type": "code",
   "execution_count": 85,
   "metadata": {},
   "outputs": [],
   "source": [
    "filenames_list = [p.name for p in list(data_p.glob(\"./*\"))]"
   ]
  },
  {
   "cell_type": "code",
   "execution_count": 86,
   "metadata": {},
   "outputs": [],
   "source": [
    "suffixes_list = [p.suffix for p in list(data_p.glob(\"./*\"))]"
   ]
  },
  {
   "cell_type": "code",
   "execution_count": 87,
   "metadata": {
    "scrolled": true
   },
   "outputs": [
    {
     "data": {
      "text/plain": [
       "{'.2',\n",
       " '.ashx',\n",
       " '.aspx',\n",
       " '.axd',\n",
       " '.bmp',\n",
       " '.dpg',\n",
       " '.gif',\n",
       " '.html',\n",
       " '.img',\n",
       " '.jpeg',\n",
       " '.jpeg!heading',\n",
       " '.jpg',\n",
       " '.jpg!00',\n",
       " '.jpg!1000',\n",
       " '.jpg!345x0',\n",
       " '.jpg!360x240',\n",
       " '.jpg!412x429',\n",
       " '.jpg!555x333',\n",
       " '.jpg!560x350',\n",
       " '.jpg!600x800',\n",
       " '.jpg!710',\n",
       " '.jpg!bw700',\n",
       " '.jpg!ddb',\n",
       " '.jpg!focus',\n",
       " '.jpg!heading',\n",
       " '.jpg!l',\n",
       " '.jpg!logo',\n",
       " '.jpg!q90',\n",
       " '.jpg!s450x600',\n",
       " '.jpg!thumb',\n",
       " '.jpg!w340',\n",
       " '.jpg!w640',\n",
       " '.jpg!w700wb',\n",
       " '.jpg!w720',\n",
       " '.jpg!wd780',\n",
       " '.jpg!ww700',\n",
       " '.jpg!yeadwx',\n",
       " '.jpg-1440',\n",
       " '.jpg-kuan400px',\n",
       " '.jpg-sm',\n",
       " '.jpg-view',\n",
       " '.jpg@!middle',\n",
       " '.jpg@!middle2',\n",
       " '.jpg@!picb',\n",
       " '.jpg@!rw9',\n",
       " '.jpg@350w_350h',\n",
       " '.jpg@768w_1l',\n",
       " '.medium',\n",
       " '.php',\n",
       " '.png',\n",
       " '.png!heading',\n",
       " '.png!sy',\n",
       " '.png!w720',\n",
       " '.png-view',\n",
       " '.png-watermark',\n",
       " '.ss2',\n",
       " '.svg',\n",
       " '.webp',\n",
       " '.zhtml'}"
      ]
     },
     "execution_count": 87,
     "metadata": {},
     "output_type": "execute_result"
    }
   ],
   "source": [
    "set(suffixes_list)"
   ]
  },
  {
   "cell_type": "code",
   "execution_count": 88,
   "metadata": {},
   "outputs": [],
   "source": [
    "# original image file suffixes\n",
    "ori_img_suffixes = [\n",
    "    \".gif\"\n",
    "    ,\".jpeg\"\n",
    "    ,\".jpg\"\n",
    "    ,\".png\"\n",
    "    ,\".bmp\"\n",
    "]\n",
    "\n",
    "# cannot parse suffixes\n",
    "excluded_suffixes = [\n",
    "    \".svg\"\n",
    "    , \".webp\"\n",
    "    , \".riff\"\n",
    "    , \".html\"\n",
    "    , \".zhtml\"\n",
    "]"
   ]
  },
  {
   "cell_type": "code",
   "execution_count": 89,
   "metadata": {},
   "outputs": [],
   "source": [
    "# Get a pathlib objects list\n",
    "p_list = [p for p in list(data_p.glob(\"./*\"))]"
   ]
  },
  {
   "cell_type": "markdown",
   "metadata": {},
   "source": [
    "*WARNING:* No need to replace the extensions. Will use file type to check if it's readable image data. "
   ]
  },
  {
   "cell_type": "code",
   "execution_count": 90,
   "metadata": {},
   "outputs": [
    {
     "data": {
      "text/plain": [
       "'rename_count = 0\\nfor a in p_list:\\n    # print(a)\\n    if a.suffix in excluded_suffixes + ori_img_suffixes:\\n        # print(a.suffix)\\n        pass\\n    else:\\n        rename_count += 1\\n        filename_replace_ext = a.with_suffix(\\'.jpg\\')\\n        a.rename(filename_replace_ext)\\nprint(\"Total {} images renamed.\".format(rename_count))'"
      ]
     },
     "execution_count": 90,
     "metadata": {},
     "output_type": "execute_result"
    }
   ],
   "source": [
    "# Replace all files with suffixes which are not in original image file suffixes and cannot parse suffixes\n",
    "\"\"\"rename_count = 0\n",
    "for a in p_list:\n",
    "    # print(a)\n",
    "    if a.suffix in excluded_suffixes + ori_img_suffixes:\n",
    "        # print(a.suffix)\n",
    "        pass\n",
    "    else:\n",
    "        rename_count += 1\n",
    "        filename_replace_ext = a.with_suffix('.jpg')\n",
    "        a.rename(filename_replace_ext)\n",
    "print(\"Total {} images renamed.\".format(rename_count))\"\"\""
   ]
  },
  {
   "cell_type": "markdown",
   "metadata": {},
   "source": [
    "Extract classes from filename"
   ]
  },
  {
   "cell_type": "code",
   "execution_count": 91,
   "metadata": {},
   "outputs": [],
   "source": [
    "images_list = [str(p) for p in list(data_p.glob(\"./*\"))]\n",
    "filenames_list = [p.name for p in list(data_p.glob(\"./*\"))]\n",
    "suffixes_list = [p.suffix for p in list(data_p.glob(\"./*\"))]"
   ]
  },
  {
   "cell_type": "code",
   "execution_count": 92,
   "metadata": {},
   "outputs": [
    {
     "data": {
      "text/plain": [
       "True"
      ]
     },
     "execution_count": 92,
     "metadata": {},
     "output_type": "execute_result"
    }
   ],
   "source": [
    "# Check length\n",
    "len(images_list) == len(filenames_list) == len(suffixes_list)"
   ]
  },
  {
   "cell_type": "code",
   "execution_count": 93,
   "metadata": {},
   "outputs": [
    {
     "name": "stdout",
     "output_type": "stream",
     "text": [
      "12940\n"
     ]
    }
   ],
   "source": [
    "print(len(images_list))\n",
    "# print(images_list[2182])\n",
    "# print(filenames_list[2182])\n",
    "# print(images_list.index(\"data/._可回收物_其他_插座_1.jpg\"))\n",
    "# print(images_list.index(\"data/可回收物_其他_插座_1.jpg\"))\n",
    "# # print(images_list[1139])"
   ]
  },
  {
   "cell_type": "code",
   "execution_count": 94,
   "metadata": {},
   "outputs": [],
   "source": [
    "# Parse classes from filename\n",
    "\n",
    "r_list = []\n",
    "for i, a in enumerate(filenames_list):\n",
    "    # print(a)\n",
    "    try:\n",
    "        ext = suffixes_list[i]\n",
    "        basename = a.split(\".\")[0]\n",
    "        # print(basename)\n",
    "        name_seg = basename.split(\"_\")\n",
    "        sub_id = name_seg.pop()\n",
    "        sample = name_seg.pop()\n",
    "        labels = {\"level\"+str(i):l for i,l in enumerate(name_seg)}\n",
    "        r = {\"_filename\": a, \"_format\": ext, \"sample\": sample, \"spider_id\": sub_id}\n",
    "        res = {**r, **labels}\n",
    "        # print(res)\n",
    "        r_list.append(res)\n",
    "    except:\n",
    "        print(i)"
   ]
  },
  {
   "cell_type": "code",
   "execution_count": 95,
   "metadata": {},
   "outputs": [],
   "source": [
    "r_df = pd.DataFrame(r_list)"
   ]
  },
  {
   "cell_type": "code",
   "execution_count": 96,
   "metadata": {},
   "outputs": [],
   "source": [
    "def is_readable_image_data(data_file):\n",
    "    import magic\n",
    "    try:\n",
    "        magic_msg = magic.from_file(str(data_file))\n",
    "    except Exception as e:\n",
    "        print(e)\n",
    "        return False\n",
    "    if (\n",
    "        magic_msg.startswith(\"JPEG image data\") \n",
    "        or magic_msg.startswith(\"PNG image data\") \n",
    "        # or magic_msg.startswith(\"GIF image data\")\n",
    "       ):\n",
    "        return True\n",
    "    else:\n",
    "        return False"
   ]
  },
  {
   "cell_type": "code",
   "execution_count": 97,
   "metadata": {},
   "outputs": [
    {
     "name": "stdout",
     "output_type": "stream",
     "text": [
      "b'JPEG image data, Exif standard: [TIFF image data, big-endian, direntries=16, height=1119, bps=0, compression=none, PhotometricIntepretation=CMYK, manufacturer=Mamiya-OP Co.,Ltd., model=MAMIYA ZD, orientation=upper-left, width=840] name use count (30) exceeded'\n"
     ]
    }
   ],
   "source": [
    "r_df['is_readable_image'] = r_df['_filename'].apply(lambda x: is_readable_image_data(str(\"./data/\"+x)))"
   ]
  },
  {
   "cell_type": "code",
   "execution_count": 98,
   "metadata": {},
   "outputs": [
    {
     "data": {
      "text/html": [
       "<div>\n",
       "<style scoped>\n",
       "    .dataframe tbody tr th:only-of-type {\n",
       "        vertical-align: middle;\n",
       "    }\n",
       "\n",
       "    .dataframe tbody tr th {\n",
       "        vertical-align: top;\n",
       "    }\n",
       "\n",
       "    .dataframe thead th {\n",
       "        text-align: right;\n",
       "    }\n",
       "</style>\n",
       "<table border=\"1\" class=\"dataframe\">\n",
       "  <thead>\n",
       "    <tr style=\"text-align: right;\">\n",
       "      <th></th>\n",
       "      <th>_filename</th>\n",
       "      <th>_format</th>\n",
       "      <th>sample</th>\n",
       "      <th>spider_id</th>\n",
       "      <th>level0</th>\n",
       "      <th>level1</th>\n",
       "      <th>is_readable_image</th>\n",
       "    </tr>\n",
       "  </thead>\n",
       "  <tbody>\n",
       "    <tr>\n",
       "      <td>51</td>\n",
       "      <td>有害垃圾_废荧光灯管_卤素灯_70.webp</td>\n",
       "      <td>.webp</td>\n",
       "      <td>卤素灯</td>\n",
       "      <td>70</td>\n",
       "      <td>有害垃圾</td>\n",
       "      <td>废荧光灯管</td>\n",
       "      <td>False</td>\n",
       "    </tr>\n",
       "    <tr>\n",
       "      <td>54</td>\n",
       "      <td>干垃圾_打火机_54.gif</td>\n",
       "      <td>.gif</td>\n",
       "      <td>打火机</td>\n",
       "      <td>54</td>\n",
       "      <td>干垃圾</td>\n",
       "      <td>NaN</td>\n",
       "      <td>False</td>\n",
       "    </tr>\n",
       "    <tr>\n",
       "      <td>68</td>\n",
       "      <td>可回收物_废金属_指甲钳_96.jpg</td>\n",
       "      <td>.jpg</td>\n",
       "      <td>指甲钳</td>\n",
       "      <td>96</td>\n",
       "      <td>可回收物</td>\n",
       "      <td>废金属</td>\n",
       "      <td>False</td>\n",
       "    </tr>\n",
       "    <tr>\n",
       "      <td>94</td>\n",
       "      <td>可回收物_废织物_毛绒玩具_82.jpg</td>\n",
       "      <td>.jpg</td>\n",
       "      <td>毛绒玩具</td>\n",
       "      <td>82</td>\n",
       "      <td>可回收物</td>\n",
       "      <td>废织物</td>\n",
       "      <td>False</td>\n",
       "    </tr>\n",
       "    <tr>\n",
       "      <td>133</td>\n",
       "      <td>可回收物_废金属_废不锈钢_81.jpg</td>\n",
       "      <td>.jpg</td>\n",
       "      <td>废不锈钢</td>\n",
       "      <td>81</td>\n",
       "      <td>可回收物</td>\n",
       "      <td>废金属</td>\n",
       "      <td>False</td>\n",
       "    </tr>\n",
       "  </tbody>\n",
       "</table>\n",
       "</div>"
      ],
      "text/plain": [
       "                  _filename _format sample spider_id level0 level1  \\\n",
       "51   有害垃圾_废荧光灯管_卤素灯_70.webp   .webp    卤素灯        70   有害垃圾  废荧光灯管   \n",
       "54           干垃圾_打火机_54.gif    .gif    打火机        54    干垃圾    NaN   \n",
       "68      可回收物_废金属_指甲钳_96.jpg    .jpg    指甲钳        96   可回收物    废金属   \n",
       "94     可回收物_废织物_毛绒玩具_82.jpg    .jpg   毛绒玩具        82   可回收物    废织物   \n",
       "133    可回收物_废金属_废不锈钢_81.jpg    .jpg   废不锈钢        81   可回收物    废金属   \n",
       "\n",
       "     is_readable_image  \n",
       "51               False  \n",
       "54               False  \n",
       "68               False  \n",
       "94               False  \n",
       "133              False  "
      ]
     },
     "execution_count": 98,
     "metadata": {},
     "output_type": "execute_result"
    }
   ],
   "source": [
    "r_df[~r_df['is_readable_image']].head()"
   ]
  },
  {
   "cell_type": "code",
   "execution_count": 99,
   "metadata": {},
   "outputs": [
    {
     "name": "stdout",
     "output_type": "stream",
     "text": [
      "(12940, 7)\n",
      "True     12549\n",
      "False      391\n",
      "Name: is_readable_image, dtype: int64\n"
     ]
    }
   ],
   "source": [
    "print(r_df.shape)\n",
    "print(r_df['is_readable_image'].value_counts())"
   ]
  },
  {
   "cell_type": "code",
   "execution_count": 100,
   "metadata": {},
   "outputs": [],
   "source": [
    "r_df.to_csv(\"_filename_dict.csv\", index=False)"
   ]
  },
  {
   "cell_type": "code",
   "execution_count": null,
   "metadata": {},
   "outputs": [],
   "source": []
  },
  {
   "cell_type": "code",
   "execution_count": null,
   "metadata": {},
   "outputs": [],
   "source": []
  },
  {
   "cell_type": "code",
   "execution_count": null,
   "metadata": {},
   "outputs": [],
   "source": []
  },
  {
   "cell_type": "code",
   "execution_count": 103,
   "metadata": {},
   "outputs": [
    {
     "data": {
      "image/jpeg": "[encoded data removed]",
      "text/plain": [
       "<IPython.core.display.Image object>"
      ]
     },
     "metadata": {},
     "output_type": "display_data"
    },
    {
     "name": "stdout",
     "output_type": "stream",
     "text": [
      "(394, 591, 3)\n"
     ]
    }
   ],
   "source": [
    "c_image = 'data/湿垃圾_瓜皮果核_苹果皮_22.jpg'\n",
    "# sample_image = \"data/干垃圾_榴莲壳_7.jpg\"\n",
    "c_im = cv2.imread(c_image)\n",
    "display(Image(c_image))\n",
    "print(c_im.shape)"
   ]
  },
  {
   "cell_type": "code",
   "execution_count": null,
   "metadata": {},
   "outputs": [],
   "source": []
  }
 ],
 "metadata": {
  "kernelspec": {
   "display_name": "Python 3",
   "language": "python",
   "name": "python3"
  },
  "language_info": {
   "codemirror_mode": {
    "name": "ipython",
    "version": 3
   },
   "file_extension": ".py",
   "mimetype": "text/x-python",
   "name": "python",
   "nbconvert_exporter": "python",
   "pygments_lexer": "ipython3",
   "version": "3.6.5"
  }
 },
 "nbformat": 4,
 "nbformat_minor": 2
}
